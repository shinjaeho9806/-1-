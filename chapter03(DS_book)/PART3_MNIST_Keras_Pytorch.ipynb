{
  "nbformat": 4,
  "nbformat_minor": 0,
  "metadata": {
    "colab": {
      "provenance": [],
      "gpuType": "T4",
      "collapsed_sections": [
        "QE46UgECxBDB",
        "fXmWG3ZOxDUP"
      ]
    },
    "kernelspec": {
      "name": "python3",
      "display_name": "Python 3"
    },
    "language_info": {
      "name": "python"
    },
    "accelerator": "GPU"
  },
  "cells": [
    {
      "cell_type": "markdown",
      "source": [
        "# keras와 Pytorch비교\n",
        "* make date : 2024-03-22\n",
        "* 신재호"
      ],
      "metadata": {
        "id": "sfyRT4ZqtYGX"
      }
    },
    {
      "cell_type": "markdown",
      "source": [
        "# keras MNIST분류"
      ],
      "metadata": {
        "id": "QE46UgECxBDB"
      }
    },
    {
      "cell_type": "code",
      "execution_count": null,
      "metadata": {
        "id": "7ShpeDIYqCkp"
      },
      "outputs": [],
      "source": [
        "from keras.datasets import mnist\n",
        "from keras.utils import to_categorical, Sequence\n",
        "from keras.models import Sequential\n",
        "from keras.layers import Dense, Flatten, Conv2D, BatchNormalization\n",
        "from keras.callbacks import EarlyStopping, ModelCheckpoint\n",
        "\n",
        "import numpy as np\n",
        "import pandas as pd\n",
        "import matplotlib.pyplot as plt\n",
        "import math\n",
        "\n",
        "(X_train, y_train), (X_val, y_val) = mnist.load_data()"
      ]
    },
    {
      "cell_type": "code",
      "source": [
        "X_train = X_train.reshape(-1,28,28,1)/255.\n",
        "X_val = X_val.reshape(-1,28,28,1)/255.\n",
        "\n",
        "y_train = to_categorical(y_train)\n",
        "y_val = to_categorical(y_val)"
      ],
      "metadata": {
        "id": "WjyjU_FpqVZg"
      },
      "execution_count": null,
      "outputs": []
    },
    {
      "cell_type": "code",
      "source": [
        "class DataLoader(Sequence):\n",
        "  def __init__(self, batch_size, X, y):\n",
        "    self.batch_size = batch_size\n",
        "    self.X = X\n",
        "    self.y = y\n",
        "\n",
        "  def __getitem__(self, idx):\n",
        "    start, end = idx * self.batch_size, (idx + 1) * self.batch_size\n",
        "    return self.X[start:end], self.y[start:end]\n",
        "\n",
        "  def __len__(self):\n",
        "    return math.ceil(len(self.y)/self.batch_size)\n",
        "\n",
        "def Simple_CNN():\n",
        "  model = Sequential()\n",
        "  model.add(Conv2D(32,(2,2),activation=\"relu\",input_shape=(28,28,1)))\n",
        "  model.add(BatchNormalization())\n",
        "  model.add(Conv2D(64,(2,2),activation=\"relu\"))\n",
        "  model.add(BatchNormalization())\n",
        "  model.add(Flatten())\n",
        "  model.add(Dense(128,activation = 'relu'))\n",
        "  model.add(Dense(10, activation = 'softmax'))\n",
        "  return model"
      ],
      "metadata": {
        "id": "bI-5z8WFqVXw"
      },
      "execution_count": null,
      "outputs": []
    },
    {
      "cell_type": "code",
      "source": [
        "train_loader = DataLoader(32, X_train, y_train)\n",
        "val_loader = DataLoader(32, X_val, y_val)\n",
        "\n",
        "\n",
        "model = Simple_CNN()\n",
        "model.compile(optimizer = 'SGD', loss = 'categorical_crossentropy', metrics = ['acc'])\n",
        "model_checkpoint = ModelCheckpoint(monitor = 'val_loss', save_best_only = True, verbose=1,\n",
        "                                   filepath = '/content/keras_CNN.h5')\n",
        "history = model.fit(train_loader, validation_data = val_loader, epochs = 10, callbacks = [model_checkpoint])"
      ],
      "metadata": {
        "colab": {
          "base_uri": "https://localhost:8080/"
        },
        "id": "qCvoFxQSqVUa",
        "outputId": "e765d7eb-6b3b-4a6e-c488-b8ff6cf90d3f"
      },
      "execution_count": null,
      "outputs": [
        {
          "output_type": "stream",
          "name": "stdout",
          "text": [
            "Epoch 1/10\n",
            "1871/1875 [============================>.] - ETA: 0s - loss: 0.1286 - acc: 0.9615\n",
            "Epoch 1: val_loss improved from inf to 0.06951, saving model to /content/keras_CNN.h5\n",
            "1875/1875 [==============================] - 12s 6ms/step - loss: 0.1285 - acc: 0.9615 - val_loss: 0.0695 - val_acc: 0.9768\n",
            "Epoch 2/10\n",
            "1868/1875 [============================>.] - ETA: 0s - loss: 0.0254 - acc: 0.9925\n",
            "Epoch 2: val_loss improved from 0.06951 to 0.05502, saving model to /content/keras_CNN.h5\n",
            "1875/1875 [==============================] - 11s 6ms/step - loss: 0.0253 - acc: 0.9925 - val_loss: 0.0550 - val_acc: 0.9833\n",
            "Epoch 3/10\n",
            "1874/1875 [============================>.] - ETA: 0s - loss: 0.0080 - acc: 0.9981\n",
            "Epoch 3: val_loss improved from 0.05502 to 0.04239, saving model to /content/keras_CNN.h5\n",
            "1875/1875 [==============================] - 11s 6ms/step - loss: 0.0080 - acc: 0.9981 - val_loss: 0.0424 - val_acc: 0.9862\n",
            "Epoch 4/10\n",
            "1869/1875 [============================>.] - ETA: 0s - loss: 0.0029 - acc: 0.9997\n",
            "Epoch 4: val_loss did not improve from 0.04239\n",
            "1875/1875 [==============================] - 11s 6ms/step - loss: 0.0029 - acc: 0.9997 - val_loss: 0.0438 - val_acc: 0.9857\n",
            "Epoch 5/10\n",
            "1870/1875 [============================>.] - ETA: 0s - loss: 0.0014 - acc: 1.0000\n",
            "Epoch 5: val_loss improved from 0.04239 to 0.04033, saving model to /content/keras_CNN.h5\n",
            "1875/1875 [==============================] - 11s 6ms/step - loss: 0.0014 - acc: 1.0000 - val_loss: 0.0403 - val_acc: 0.9874\n",
            "Epoch 6/10\n",
            "1868/1875 [============================>.] - ETA: 0s - loss: 9.4000e-04 - acc: 1.0000\n",
            "Epoch 6: val_loss improved from 0.04033 to 0.04002, saving model to /content/keras_CNN.h5\n",
            "1875/1875 [==============================] - 11s 6ms/step - loss: 9.3900e-04 - acc: 1.0000 - val_loss: 0.0400 - val_acc: 0.9880\n",
            "Epoch 7/10\n",
            "1874/1875 [============================>.] - ETA: 0s - loss: 7.4024e-04 - acc: 1.0000\n",
            "Epoch 7: val_loss did not improve from 0.04002\n",
            "1875/1875 [==============================] - 11s 6ms/step - loss: 7.4032e-04 - acc: 1.0000 - val_loss: 0.0406 - val_acc: 0.9878\n",
            "Epoch 8/10\n",
            "1869/1875 [============================>.] - ETA: 0s - loss: 6.2378e-04 - acc: 1.0000\n",
            "Epoch 8: val_loss did not improve from 0.04002\n",
            "1875/1875 [==============================] - 11s 6ms/step - loss: 6.2370e-04 - acc: 1.0000 - val_loss: 0.0407 - val_acc: 0.9883\n",
            "Epoch 9/10\n",
            "1866/1875 [============================>.] - ETA: 0s - loss: 5.4132e-04 - acc: 1.0000\n",
            "Epoch 9: val_loss did not improve from 0.04002\n",
            "1875/1875 [==============================] - 10s 6ms/step - loss: 5.4271e-04 - acc: 1.0000 - val_loss: 0.0406 - val_acc: 0.9886\n",
            "Epoch 10/10\n",
            "1874/1875 [============================>.] - ETA: 0s - loss: 4.7700e-04 - acc: 1.0000\n",
            "Epoch 10: val_loss did not improve from 0.04002\n",
            "1875/1875 [==============================] - 11s 6ms/step - loss: 4.7687e-04 - acc: 1.0000 - val_loss: 0.0412 - val_acc: 0.9881\n"
          ]
        }
      ]
    },
    {
      "cell_type": "code",
      "source": [
        "plt.plot(history.history['loss'], label = 'loss')\n",
        "plt.plot(history.history['val_loss'], label = 'val_loss')\n",
        "plt.legend()\n",
        "plt.title('loss')\n",
        "plt.xlabel('Epochs')\n",
        "plt.ylabel('LOSS', rotation = 360, labelpad = 20)\n",
        "plt.show()"
      ],
      "metadata": {
        "colab": {
          "base_uri": "https://localhost:8080/",
          "height": 472
        },
        "id": "2yccXtZ_w_2C",
        "outputId": "581a377b-1525-4374-ea32-c81c80100737"
      },
      "execution_count": null,
      "outputs": [
        {
          "output_type": "display_data",
          "data": {
            "text/plain": [
              "<Figure size 640x480 with 1 Axes>"
            ],
            "image/png": "[encoded data removed]"
          },
          "metadata": {}
        }
      ]
    },
    {
      "cell_type": "markdown",
      "source": [
        "# Pytorch MNIST 분류"
      ],
      "metadata": {
        "id": "fXmWG3ZOxDUP"
      }
    },
    {
      "cell_type": "code",
      "source": [
        "import torch\n",
        "from torch import nn\n",
        "from torchvision import transforms, datasets\n",
        "\n",
        "device = \"cuda\" if torch.cuda.is_available() else \"cpu\""
      ],
      "metadata": {
        "id": "LgVi2om-xHHI"
      },
      "execution_count": null,
      "outputs": []
    },
    {
      "cell_type": "code",
      "source": [
        "import torch\n",
        "from torchvision import datasets, transforms\n",
        "\n",
        "class CustomMNIST(datasets.MNIST):\n",
        "    def __init__(self, root, train=True, transform=None, target_transform=None, download=False):\n",
        "        super().__init__(root=root, train=train, transform=transform, target_transform=target_transform, download=download)\n",
        "\n",
        "    def __getitem__(self, index):\n",
        "        img, target = super().__getitem__(index)\n",
        "        return img, target\n",
        "\n",
        "# 데이터셋 불러오기\n",
        "train_dataset = CustomMNIST(root=\"./data/MNIST\", train=True, download=True, transform=transforms.Compose([\n",
        "    transforms.ToTensor(),\n",
        "    transforms.Lambda(lambda x: x / 255.0)\n",
        "]))\n",
        "val_dataset = CustomMNIST(root=\"./data/MNIST\", train=False, transform=transforms.Compose([\n",
        "    transforms.ToTensor(),\n",
        "    transforms.Lambda(lambda x: x / 255.0)\n",
        "]))\n",
        "\n",
        "# 데이터로더 생성\n",
        "train_loader = torch.utils.data.DataLoader(dataset=train_dataset, batch_size=32, drop_last=True)\n",
        "val_loader = torch.utils.data.DataLoader(dataset=val_dataset, batch_size=32, drop_last=True)"
      ],
      "metadata": {
        "id": "AGBbXAid3pGj"
      },
      "execution_count": null,
      "outputs": []
    },
    {
      "cell_type": "code",
      "source": [
        "class Simple_CNN(nn.Module):\n",
        "  def __init__(self):\n",
        "    super().__init__()\n",
        "    self.conv1 = nn.Sequential(\n",
        "        nn.Conv2d(in_channels = 1, out_channels = 32, kernel_size = 2),\n",
        "        nn.ReLU(),\n",
        "        nn.BatchNorm2d(32)\n",
        "    )\n",
        "    self.conv2 = nn.Sequential(\n",
        "        nn.Conv2d(in_channels = 32, out_channels = 64, kernel_size = 2),\n",
        "        nn.ReLU(),\n",
        "        nn.BatchNorm2d(64)\n",
        "    )\n",
        "    self.dense1 = nn.Sequential(\n",
        "        nn.Linear(in_features = 64 * 26 * 26, out_features = 128),\n",
        "        nn.ReLU()\n",
        "    )\n",
        "    # 파이토치의 nn.CrossEntropy는 softmax가 합쳐저 있으므로 따로 softmax층을 선언할 필요없음!!\n",
        "    self.dense2 = nn.Linear(in_features = 128, out_features = 10)\n",
        "\n",
        "  def forward(self, x):\n",
        "    out = self.conv1(x)\n",
        "    out = self.conv2(out)\n",
        "    out = out.reshape(out.size(0), -1)\n",
        "    out = self.dense1(out)\n",
        "    out = self.dense2(out)\n",
        "    return out"
      ],
      "metadata": {
        "id": "NrJSi-_nxHE5"
      },
      "execution_count": null,
      "outputs": []
    },
    {
      "cell_type": "code",
      "source": [
        "def train(model, loader, criterion, optimizer):\n",
        "  '''\n",
        "  학습을 위한 함수\n",
        "  '''\n",
        "  model.train()\n",
        "  train_loss = 0.\n",
        "\n",
        "  for X, y in loader:\n",
        "\n",
        "    #X = X.view(32,1,28,28)\n",
        "    X = X.to(device)\n",
        "    y = y.to(device)\n",
        "\n",
        "    y_hat = model(X)\n",
        "    loss = criterion(y_hat, y)\n",
        "\n",
        "    optimizer.zero_grad()\n",
        "    loss.backward()\n",
        "    optimizer.step()\n",
        "    train_loss += loss.item()\n",
        "  train_loss  = train_loss / len(loader)\n",
        "\n",
        "  return train_loss\n",
        "\n",
        "def val(model, loader, criterion):\n",
        "  '''\n",
        "  검증을 위한 함수\n",
        "  '''\n",
        "  model.eval()\n",
        "  val_loss = 0.\n",
        "\n",
        "  for X, y in loader:\n",
        "\n",
        "    #X = X.view(32,1,28,28)\n",
        "    X = X.to(device)\n",
        "    y = y.to(device)\n",
        "\n",
        "    y_hat = model(X)\n",
        "    loss = criterion(y_hat, y)\n",
        "\n",
        "    val_loss += loss.item()\n",
        "  val_loss  = val_loss / len(loader)\n",
        "\n",
        "  return val_loss"
      ],
      "metadata": {
        "id": "FoZAoFft4bF8"
      },
      "execution_count": null,
      "outputs": []
    },
    {
      "cell_type": "code",
      "source": [
        "train_loss_list = []\n",
        "val_loss_list = []\n",
        "\n",
        "model = Simple_CNN().to(device)\n",
        "\n",
        "epochs = 10\n",
        "optimizer = torch.optim.SGD(model.parameters(), lr = 0.01)\n",
        "criterion = nn.CrossEntropyLoss().to(device)"
      ],
      "metadata": {
        "id": "AOAUylcv46kM"
      },
      "execution_count": null,
      "outputs": []
    },
    {
      "cell_type": "code",
      "source": [
        "st_loss = 1000\n",
        "\n",
        "for epoch in range(epochs):\n",
        "  print(f'########### epoch : {epoch + 1} ###########')\n",
        "  train_loss = train(model, train_loader, criterion, optimizer)\n",
        "  val_loss = val(model, val_loader, criterion)\n",
        "  train_loss_list.append(train_loss)\n",
        "  val_loss_list.append(val_loss)\n",
        "  if val_loss < st_loss:\n",
        "    print(f'* train_loss = {train_loss}')\n",
        "    print(f'* val_loss가 향상되었습니다. {st_loss} ==> {val_loss}')\n",
        "    st_loss = val_loss\n",
        "    torch.save(model.state_dict(), '/content/pytorch_CNN.pt')\n",
        "  else:\n",
        "    print(f'* train_loss = {train_loss}')\n",
        "    print(f'* val_loss가 향상되지 않았습니다, val_loss = {val_loss}')"
      ],
      "metadata": {
        "colab": {
          "base_uri": "https://localhost:8080/"
        },
        "id": "eBenLjVG4bDd",
        "outputId": "6f058bcd-6aa7-4065-b097-57abf130503e"
      },
      "execution_count": null,
      "outputs": [
        {
          "output_type": "stream",
          "name": "stdout",
          "text": [
            "########### epoch : 1 ###########\n",
            "* train_loss = 0.13105295144335055\n",
            "* val_loss가 향상되었습니다. 1000 ==> 0.06692975704908559\n",
            "########### epoch : 2 ###########\n",
            "* train_loss = 0.03514991371879975\n",
            "* val_loss가 향상되었습니다. 0.06692975704908559 ==> 0.04835883787843788\n",
            "########### epoch : 3 ###########\n",
            "* train_loss = 0.013969629514523936\n",
            "* val_loss가 향상되었습니다. 0.04835883787843788 ==> 0.0448556376541558\n",
            "########### epoch : 4 ###########\n",
            "* train_loss = 0.006104732120387295\n",
            "* val_loss가 향상되었습니다. 0.0448556376541558 ==> 0.04448472389412053\n",
            "########### epoch : 5 ###########\n",
            "* train_loss = 0.003201203266981368\n",
            "* val_loss가 향상되었습니다. 0.04448472389412053 ==> 0.04447795759140496\n",
            "########### epoch : 6 ###########\n",
            "* train_loss = 0.0020442538509858423\n",
            "* val_loss가 향상되었습니다. 0.04447795759140496 ==> 0.04446311054977496\n",
            "########### epoch : 7 ###########\n",
            "* train_loss = 0.0015044091179205377\n",
            "* val_loss가 향상되었습니다. 0.04446311054977496 ==> 0.04394939324537407\n",
            "########### epoch : 8 ###########\n",
            "* train_loss = 0.0011941711406359293\n",
            "* val_loss가 향상되었습니다. 0.04394939324537407 ==> 0.04390567543671135\n",
            "########### epoch : 9 ###########\n",
            "* train_loss = 0.0009918840827609528\n",
            "* val_loss가 향상되지 않았습니다, val_loss = 0.04395434526642634\n",
            "########### epoch : 10 ###########\n",
            "* train_loss = 0.0008464736116812371\n",
            "* val_loss가 향상되지 않았습니다, val_loss = 0.04404011716151082\n"
          ]
        }
      ]
    },
    {
      "cell_type": "code",
      "source": [
        "plt.plot(train_loss_list, label = 'loss')\n",
        "plt.plot(val_loss_list, label = 'val_loss')\n",
        "plt.legend()\n",
        "plt.title('LOSS')\n",
        "plt.xlabel('Epochs')\n",
        "plt.ylabel('Loss', rotation = 360, labelpad = 20)\n",
        "plt.show()"
      ],
      "metadata": {
        "colab": {
          "base_uri": "https://localhost:8080/",
          "height": 472
        },
        "id": "Ys1ewtbNFNCK",
        "outputId": "3c752add-d4fb-491c-c217-1e24a0ffccd8"
      },
      "execution_count": null,
      "outputs": [
        {
          "output_type": "display_data",
          "data": {
            "text/plain": [
              "<Figure size 640x480 with 1 Axes>"
            ],
            "image/png": "[encoded data removed]"
          },
          "metadata": {}
        }
      ]
    }
  ]
}