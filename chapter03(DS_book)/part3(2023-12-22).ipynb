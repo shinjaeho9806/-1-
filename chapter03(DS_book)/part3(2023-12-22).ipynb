{
 "cells": [
  {
   "cell_type": "markdown",
   "id": "bac2bb82-6244-4d43-b82f-2579582e18ca",
   "metadata": {},
   "source": [
    "* 2023-11-27\n",
    "* 파이토치와 트랜스포머를 활용한 자연어처리와 컴퓨터비전 심층학습"
   ]
  },
  {
   "cell_type": "markdown",
   "id": "1d402322-f0dd-42fc-bbb4-36cbc8d16ad6",
   "metadata": {
    "jp-MarkdownHeadingCollapsed": true
   },
   "source": [
    "# 3장 파이토치 기초(p.45~)"
   ]
  },
  {
   "cell_type": "markdown",
   "id": "d4d50c12-9ac8-4a5b-a1ab-65602e8b093c",
   "metadata": {},
   "source": [
    "* torch.Tensor와 torch.tensor 둘 다 사용가능하지만, torch.Tensor를 사용하는 것이 권장됨\n",
    "* torch.tensor는 자료형을 자동으로 할당하기 때문에, 의도치 않은 자료형으로 변환될 위험이 있음 "
   ]
  },
  {
   "cell_type": "code",
   "execution_count": 7,
   "id": "57a5e246-03f6-4790-97d6-91d2e4766dae",
   "metadata": {},
   "outputs": [
    {
     "name": "stdout",
     "output_type": "stream",
     "text": [
      "torch.tensor\n",
      "tensor([1, 2, 3]) torch.LongTensor\n",
      "tensor([1., 2., 3.]) torch.FloatTensor\n",
      "torch.Tensor\n",
      "tensor([1., 2., 3.]) torch.FloatTensor\n",
      "tensor([1., 2., 3.]) torch.FloatTensor\n"
     ]
    }
   ],
   "source": [
    "import torch\n",
    "\n",
    "print(\"torch.tensor\")\n",
    "print(torch.tensor([1,2,3]), torch.tensor([1,2,3]).type())\n",
    "print(torch.tensor([1.,2.,3.]), torch.tensor([1.,2.,3.]).type())\n",
    "print(\"torch.Tensor\")\n",
    "print(torch.Tensor([1,2,3]), torch.Tensor([1,2,3]).type())\n",
    "print(torch.Tensor([1., 2., 3.]), torch.Tensor([1,2,3]).type())"
   ]
  },
  {
   "cell_type": "markdown",
   "id": "52c30a83-bc76-469f-bf79-d0c53c8983e8",
   "metadata": {},
   "source": [
    "* 텐서의 속성\n",
    "* shape, dtype, device"
   ]
  },
  {
   "cell_type": "code",
   "execution_count": 13,
   "id": "22eb5855-1499-4c12-a5fd-3bfb2a9cb0cb",
   "metadata": {},
   "outputs": [
    {
     "name": "stdout",
     "output_type": "stream",
     "text": [
      "tensor([[0.6853, 0.2734]])\n",
      "shape  : torch.Size([1, 2])\n",
      "dtype  : torch.float32\n",
      "cpu\n",
      "device : cpu\n",
      "gpu\n",
      "device : cuda:0\n"
     ]
    }
   ],
   "source": [
    "import torch\n",
    "\n",
    "tensor = torch.rand(1,2)\n",
    "gpu_tensor = torch.rand(1,2).cuda()\n",
    "\n",
    "print(tensor)\n",
    "print(f'shape  : {tensor.shape}')\n",
    "print(f'dtype  : {tensor.dtype}')\n",
    "print('cpu')\n",
    "print(f'device : {tensor.device}')\n",
    "print('gpu')\n",
    "print(f'device : {gpu_tensor.device}')"
   ]
  },
  {
   "cell_type": "markdown",
   "id": "0e4bceba-8b7f-4535-9bf7-8fbacb449663",
   "metadata": {},
   "source": [
    "* 차원변환"
   ]
  },
  {
   "cell_type": "code",
   "execution_count": 14,
   "id": "f7436c10-1d88-4993-9644-37c80c28aae8",
   "metadata": {},
   "outputs": [
    {
     "name": "stdout",
     "output_type": "stream",
     "text": [
      "tensor([[0.1722, 0.6951]])\n",
      "torch.Size([1, 2])\n",
      "tensor([[0.1722],\n",
      "        [0.6951]])\n",
      "torch.Size([2, 1])\n"
     ]
    }
   ],
   "source": [
    "import torch\n",
    "\n",
    "tensor = torch.rand(1,2)\n",
    "print(tensor)\n",
    "print(tensor.shape)\n",
    "\n",
    "tensor = tensor.reshape(2,1)\n",
    "print(tensor)\n",
    "print(tensor.shape)"
   ]
  },
  {
   "cell_type": "markdown",
   "id": "fa7a6e69-d8c0-4dae-9020-8bcf9da56549",
   "metadata": {},
   "source": [
    "* 자료형"
   ]
  },
  {
   "cell_type": "code",
   "execution_count": 26,
   "id": "e89ae352-e742-4edb-8008-15f13f61be56",
   "metadata": {},
   "outputs": [
    {
     "name": "stdout",
     "output_type": "stream",
     "text": [
      "tensor([[0.8465, 0.5042, 0.7645],\n",
      "        [0.3719, 0.9645, 0.8838],\n",
      "        [0.0980, 0.3306, 0.1998]])\n",
      "torch.FloatTensor\n"
     ]
    }
   ],
   "source": [
    "import torch\n",
    "\n",
    "tensor = torch.rand((3,3), dtype = torch.float)\n",
    "print(tensor)\n",
    "print(tensor.type())"
   ]
  },
  {
   "cell_type": "markdown",
   "id": "58bf0436-d72c-4e02-9195-2a2122031031",
   "metadata": {},
   "source": [
    "* 장치설정"
   ]
  },
  {
   "cell_type": "code",
   "execution_count": 29,
   "id": "5dee2603-cd8b-4940-ad00-3a478473ff50",
   "metadata": {},
   "outputs": [
    {
     "name": "stdout",
     "output_type": "stream",
     "text": [
      "cuda\n",
      "tensor([1., 2., 3.])\n",
      "tensor([1., 2., 3.], device='cuda:0')\n",
      "tensor([[0.8230]], device='cuda:0')\n"
     ]
    }
   ],
   "source": [
    "import torch\n",
    "\n",
    "device = \"cuda\" if torch.cuda.is_available() else \"cpu\"\n",
    "cpu_tensor = torch.FloatTensor([1,2,3])\n",
    "gpu_tensor = torch.cuda.FloatTensor([1,2,3])\n",
    "tensor = torch.rand((1,1), device = device)\n",
    "print(device)\n",
    "print(cpu_tensor)\n",
    "print(gpu_tensor)\n",
    "print(tensor)"
   ]
  },
  {
   "cell_type": "markdown",
   "id": "05a14708-5237-49c2-b2fb-e5369e5b2add",
   "metadata": {},
   "source": [
    "* 장치변환\n",
    "*  GPU를 사용하는 텐서와 CPU를 사용하는 텐서 간의 연산은 불가능함"
   ]
  },
  {
   "cell_type": "code",
   "execution_count": 32,
   "id": "2dc7031c-42d9-4267-877b-5b16253d280a",
   "metadata": {},
   "outputs": [
    {
     "name": "stdout",
     "output_type": "stream",
     "text": [
      "CPU : tensor([1., 2., 3.])\n",
      "GPU : tensor([1., 2., 3.], device='cuda:0')\n",
      "CPU : tensor([1., 2., 3.])\n",
      "GPU : tensor([1., 2., 3.], device='cuda:0')\n"
     ]
    }
   ],
   "source": [
    "import torch\n",
    "\n",
    "cpu_tensor = torch.FloatTensor([1,2,3])\n",
    "gpu_tensor = cpu_tensor.cuda()\n",
    "gpu2cpu = gpu_tensor.cpu()\n",
    "cpu2gpu = cpu_tensor.to(\"cuda\")\n",
    "print('CPU :', cpu_tensor)\n",
    "print('GPU :', gpu_tensor)\n",
    "print('CPU :', gpu2cpu)\n",
    "print('GPU :', cpu2gpu)"
   ]
  },
  {
   "cell_type": "markdown",
   "id": "005b53c8-4bdf-49b9-ba8a-f556ac4f70c9",
   "metadata": {},
   "source": [
    "* 넘파이 배열 -> 토치텐서"
   ]
  },
  {
   "cell_type": "code",
   "execution_count": 35,
   "id": "f6f7d48f-8927-41aa-9f49-b2ff8b316a9a",
   "metadata": {
    "scrolled": true
   },
   "outputs": [
    {
     "name": "stdout",
     "output_type": "stream",
     "text": [
      "tensor([1, 2, 3], dtype=torch.uint8)\n",
      "tensor([1., 2., 3.])\n",
      "tensor([1, 2, 3], dtype=torch.uint8)\n"
     ]
    }
   ],
   "source": [
    "import numpy as np\n",
    "import torch\n",
    "\n",
    "np_array = np.array([1,2,3], dtype = np.uint8)\n",
    "print(torch.tensor(np_array))\n",
    "print(torch.Tensor(np_array))\n",
    "print(torch.from_numpy(np_array))"
   ]
  },
  {
   "cell_type": "markdown",
   "id": "933f2616-1884-44b9-8cb8-19ca0bead873",
   "metadata": {},
   "source": [
    "* 토치텐서 -> 넘파이 배열"
   ]
  },
  {
   "cell_type": "code",
   "execution_count": 37,
   "id": "bf3fea39-3709-43b8-bef5-42da066e3870",
   "metadata": {},
   "outputs": [
    {
     "name": "stdout",
     "output_type": "stream",
     "text": [
      "[1. 2. 3.]\n",
      "<class 'numpy.ndarray'>\n"
     ]
    }
   ],
   "source": [
    "import torch\n",
    "# GPU에 tensor를 load\n",
    "tensor = torch.cuda.FloatTensor([1,2,3])\n",
    "# CPU에 ndarray를 load\n",
    "# detach를 통해서 gpu와 연결해제\n",
    "np_array = tensor.detach().cpu().numpy()\n",
    "print(np_array)\n",
    "print(type(np_array))"
   ]
  },
  {
   "cell_type": "markdown",
   "id": "40493a96-efe0-4d3c-a09f-c451d3c7de91",
   "metadata": {
    "jp-MarkdownHeadingCollapsed": true
   },
   "source": [
    "# 머신러닝 가설검정\n",
    "* 비쌍체 t_검정\n",
    "* 독립변수 X와 종속변수Y 사이에 유의미한 차이가 있는지 검정\n",
    "* 변수들은 독립항등분포를 따름\n",
    "* 독립적인 그룹간의 평균을 비교"
   ]
  },
  {
   "cell_type": "code",
   "execution_count": 42,
   "id": "5a6e0133-4949-49ef-a949-3834d06ed622",
   "metadata": {},
   "outputs": [],
   "source": [
    "import numpy as np\n",
    "import pandas as pd\n",
    "import seaborn as sns\n",
    "from scipy import stats\n",
    "import matplotlib.pyplot as plt"
   ]
  },
  {
   "cell_type": "markdown",
   "id": "2dfb3721-7b6f-4a26-bc4f-12b764554c33",
   "metadata": {},
   "source": [
    "* stats.norm.rvs()\n",
    "* loc = 특정평균\n",
    "* scale = 표준편차"
   ]
  },
  {
   "cell_type": "code",
   "execution_count": 45,
   "id": "4a2282db-24ae-4c30-b40b-b559aaa73e8f",
   "metadata": {},
   "outputs": [
    {
     "data": {
      "text/html": [
       "<div>\n",
       "<style scoped>\n",
       "    .dataframe tbody tr th:only-of-type {\n",
       "        vertical-align: middle;\n",
       "    }\n",
       "\n",
       "    .dataframe tbody tr th {\n",
       "        vertical-align: top;\n",
       "    }\n",
       "\n",
       "    .dataframe thead th {\n",
       "        text-align: right;\n",
       "    }\n",
       "</style>\n",
       "<table border=\"1\" class=\"dataframe\">\n",
       "  <thead>\n",
       "    <tr style=\"text-align: right;\">\n",
       "      <th></th>\n",
       "      <th>X</th>\n",
       "      <th>Y</th>\n",
       "    </tr>\n",
       "  </thead>\n",
       "  <tbody>\n",
       "    <tr>\n",
       "      <th>0</th>\n",
       "      <td>186.243454</td>\n",
       "      <td>man</td>\n",
       "    </tr>\n",
       "    <tr>\n",
       "      <th>1</th>\n",
       "      <td>163.882436</td>\n",
       "      <td>man</td>\n",
       "    </tr>\n",
       "    <tr>\n",
       "      <th>2</th>\n",
       "      <td>164.718282</td>\n",
       "      <td>man</td>\n",
       "    </tr>\n",
       "    <tr>\n",
       "      <th>3</th>\n",
       "      <td>159.270314</td>\n",
       "      <td>man</td>\n",
       "    </tr>\n",
       "    <tr>\n",
       "      <th>4</th>\n",
       "      <td>178.654076</td>\n",
       "      <td>man</td>\n",
       "    </tr>\n",
       "    <tr>\n",
       "      <th>...</th>\n",
       "      <td>...</td>\n",
       "      <td>...</td>\n",
       "    </tr>\n",
       "    <tr>\n",
       "      <th>995</th>\n",
       "      <td>141.713720</td>\n",
       "      <td>woman</td>\n",
       "    </tr>\n",
       "    <tr>\n",
       "      <th>996</th>\n",
       "      <td>155.288797</td>\n",
       "      <td>woman</td>\n",
       "    </tr>\n",
       "    <tr>\n",
       "      <th>997</th>\n",
       "      <td>127.629135</td>\n",
       "      <td>woman</td>\n",
       "    </tr>\n",
       "    <tr>\n",
       "      <th>998</th>\n",
       "      <td>138.922875</td>\n",
       "      <td>woman</td>\n",
       "    </tr>\n",
       "    <tr>\n",
       "      <th>999</th>\n",
       "      <td>149.822817</td>\n",
       "      <td>woman</td>\n",
       "    </tr>\n",
       "  </tbody>\n",
       "</table>\n",
       "<p>1000 rows × 2 columns</p>\n",
       "</div>"
      ],
      "text/plain": [
       "              X      Y\n",
       "0    186.243454    man\n",
       "1    163.882436    man\n",
       "2    164.718282    man\n",
       "3    159.270314    man\n",
       "4    178.654076    man\n",
       "..          ...    ...\n",
       "995  141.713720  woman\n",
       "996  155.288797  woman\n",
       "997  127.629135  woman\n",
       "998  138.922875  woman\n",
       "999  149.822817  woman\n",
       "\n",
       "[1000 rows x 2 columns]"
      ]
     },
     "execution_count": 45,
     "metadata": {},
     "output_type": "execute_result"
    }
   ],
   "source": [
    "man_height = stats.norm.rvs(loc = 170, scale = 10, size = 500, random_state = 1)\n",
    "woman_height = stats.norm.rvs(loc = 150, scale = 10, size = 500, random_state = 1)\n",
    "\n",
    "X = np.concatenate([man_height, woman_height])\n",
    "Y = [\"man\"] * len(man_height) + [\"woman\"] * len(woman_height)\n",
    "\n",
    "df = pd.DataFrame(list(zip(X,Y)), columns = [\"X\", \"Y\"])\n",
    "df"
   ]
  },
  {
   "cell_type": "code",
   "execution_count": 47,
   "id": "4ab0e3b5-c642-4626-958b-fb96d11069aa",
   "metadata": {},
   "outputs": [
    {
     "data": {
      "image/png": "[encoded data removed]",
      "text/plain": [
       "<Figure size 600.75x500 with 1 Axes>"
      ]
     },
     "metadata": {},
     "output_type": "display_data"
    }
   ],
   "source": [
    "fig = sns.displot(data = df, x = \"X\", hue = \"Y\", kind = \"kde\")\n",
    "fig.set_axis_labels(\"cm\",\"count\")\n",
    "plt.show()"
   ]
  },
  {
   "cell_type": "markdown",
   "id": "96264ac0-a8d4-46b9-85b2-774c08e6fb51",
   "metadata": {},
   "source": [
    "* 비쌍체 t-검정"
   ]
  },
  {
   "cell_type": "code",
   "execution_count": 54,
   "id": "5de5da1f-9103-4c9f-b797-2e8e0956fea3",
   "metadata": {},
   "outputs": [
    {
     "name": "stdout",
     "output_type": "stream",
     "text": [
      "statistics : 31.96162891312776\n",
      "pvalue : 6.2285854381989205e-155\n",
      "* : True\n",
      "** : True\n",
      "\n",
      "검정결과 : 유의 확률이 매우 작기 때문에 사람의 키가 성별을 구별하는데 매우 유의미한 변수이다!\n"
     ]
    }
   ],
   "source": [
    "statistics, pvalue = stats.ttest_ind(man_height, woman_height, equal_var= True)\n",
    "\n",
    "print(\"statistics : {}\\npvalue : {}\\n* : {}\\n** : {}\".format(statistics, \n",
    "                                                             pvalue, \n",
    "                                                             pvalue<0.05, \n",
    "                                                             pvalue<0.001))\n",
    "print(\"\\n검정결과 : 유의 확률이 매우 작기 때문에 사람의 키가 성별을 구별하는데 매우 유의미한 변수이다!\")"
   ]
  },
  {
   "cell_type": "markdown",
   "id": "7df2d39b-35a2-40f7-945c-c76b9df38e03",
   "metadata": {
    "jp-MarkdownHeadingCollapsed": true
   },
   "source": [
    "# 단순 선형회귀\n",
    "* 손실함수 < 비용함수 < 목적함수\n",
    "* 손실함수 : 단일 샘플의 실젯값과 예측값의 차이가 발생했을 떄 오차가 얼마인지 계산하는 함수\n",
    "* 비용함수 : 전체 데이터에 대한 오차를 계산하는 함수\n",
    "* 목적함수 : 함수값의 결과를 최댓값 또는 최솟값으로 최적화하는 함수"
   ]
  },
  {
   "cell_type": "code",
   "execution_count": 4,
   "id": "beb16e32-1914-4c28-836b-cfd5a0b3b973",
   "metadata": {},
   "outputs": [],
   "source": [
    "import numpy as np\n",
    "\n",
    "x = np.array(\n",
    "    [[1], [2], [3], [4], [5], [6], [7], [8], [9], [10],\n",
    "    [11], [12], [13], [14], [15], [16], [17], [18], [19], [20],\n",
    "    [21], [22], [23], [24], [25], [26], [27], [28], [29], [30]]\n",
    ")\n",
    "y = np.array(\n",
    "    [[0.94], [1.98], [2.88], [3.92], [3.96], [4.55], [5.64], [6.3], [7.44], [9.1],\n",
    "    [8.46], [9.5], [10.67], [11.16], [14], [11.83], [14.4], [14.25], [16.2], [16.32],\n",
    "    [17.46], [19.8], [18], [21.34], [22], [22.5], [24.57], [26.04], [21.6], [28.8]]\n",
    ")"
   ]
  },
  {
   "cell_type": "code",
   "execution_count": 2,
   "id": "8681c87e-0e2d-4952-ab90-c8f9f1361f17",
   "metadata": {},
   "outputs": [],
   "source": [
    "def  simpleregression(x, y, weight, bias, learning_rate):\n",
    "    '''\n",
    "    batch를 적용한 방식임. \n",
    "    '''\n",
    "    print('learning_rate = {}'.format(learning_rate))\n",
    "    for epoch  in range(10000):\n",
    "        y_hat = weight * x + bias\n",
    "        # 비용함수\n",
    "        cost = ((y - y_hat)**2).mean()\n",
    "        \n",
    "        # 가중치\n",
    "        # weight를 편미분하므로 x를 곱함\n",
    "        weight = weight - learning_rate * ((y_hat - y)*x).mean()\n",
    "        \n",
    "        # 편향\n",
    "        bias = bias - learning_rate * (y_hat - y).mean()\n",
    "        '''\n",
    "        print(\"epoch : {}, cost : {}, weight : {}, bias : {}\".format(epoch,\n",
    "                                                                     cost, \n",
    "                                                                     weight, \n",
    "                                                                     bias))\n",
    "        '''\n",
    "        if (epoch + 1) % 1000 == 0:\n",
    "            print(f\"Epoch : {epoch+1:4d}, Weight : {weight:.3f}, Bias : {bias:.3f}, Cost : {cost:.3f}\")"
   ]
  },
  {
   "cell_type": "code",
   "execution_count": 3,
   "id": "39d396c2-31ed-4916-a592-19f86cdb2982",
   "metadata": {},
   "outputs": [
    {
     "name": "stdout",
     "output_type": "stream",
     "text": [
      "learning_rate = 0.005\n",
      "Epoch : 1000, Weight : 0.872, Bias : -0.290, Cost : 1.377\n",
      "Epoch : 2000, Weight : 0.877, Bias : -0.391, Cost : 1.373\n",
      "Epoch : 3000, Weight : 0.878, Bias : -0.422, Cost : 1.372\n",
      "Epoch : 4000, Weight : 0.879, Bias : -0.432, Cost : 1.372\n",
      "Epoch : 5000, Weight : 0.879, Bias : -0.435, Cost : 1.372\n",
      "Epoch : 6000, Weight : 0.879, Bias : -0.436, Cost : 1.372\n",
      "Epoch : 7000, Weight : 0.879, Bias : -0.436, Cost : 1.372\n",
      "Epoch : 8000, Weight : 0.879, Bias : -0.436, Cost : 1.372\n",
      "Epoch : 9000, Weight : 0.879, Bias : -0.436, Cost : 1.372\n",
      "Epoch : 10000, Weight : 0.879, Bias : -0.436, Cost : 1.372\n"
     ]
    }
   ],
   "source": [
    "#1 p.75 \n",
    "weight = 0.0\n",
    "bias = 0.0\n",
    "learning_rate = 0.005\n",
    "\n",
    "simpleregression(x = x, y = y, weight = weight, bias = bias, learning_rate = learning_rate)"
   ]
  },
  {
   "cell_type": "code",
   "execution_count": 7,
   "id": "44971793-d245-4102-82fa-af3f8b94982e",
   "metadata": {
    "scrolled": true
   },
   "outputs": [
    {
     "name": "stdout",
     "output_type": "stream",
     "text": [
      "y_hat : [[0.]\n",
      " [0.]\n",
      " [0.]\n",
      " [0.]\n",
      " [0.]\n",
      " [0.]\n",
      " [0.]\n",
      " [0.]\n",
      " [0.]\n",
      " [0.]\n",
      " [0.]\n",
      " [0.]\n",
      " [0.]\n",
      " [0.]\n",
      " [0.]\n",
      " [0.]\n",
      " [0.]\n",
      " [0.]\n",
      " [0.]\n",
      " [0.]\n",
      " [0.]\n",
      " [0.]\n",
      " [0.]\n",
      " [0.]\n",
      " [0.]\n",
      " [0.]\n",
      " [0.]\n",
      " [0.]\n",
      " [0.]\n",
      " [0.]]\n",
      "y_hat.mean() : 0.0\n"
     ]
    }
   ],
   "source": [
    "# 내부연산 살펴보기\n",
    "\n",
    "y_hat = weight * x + bias\n",
    "print('y_hat :', y_hat)\n",
    "print('y_hat.mean() :', y_hat.mean())"
   ]
  },
  {
   "cell_type": "code",
   "execution_count": 15,
   "id": "646ea78b-c6f2-4a40-b7c8-d7196703a4b8",
   "metadata": {},
   "outputs": [
    {
     "data": {
      "image/png": "[encoded data removed]",
      "text/plain": [
       "<Figure size 640x480 with 1 Axes>"
      ]
     },
     "metadata": {},
     "output_type": "display_data"
    }
   ],
   "source": [
    "import matplotlib.pyplot as plt\n",
    "\n",
    "def plot_maker(x,y,weight,bias,lr):\n",
    "    plt.scatter(x,y)\n",
    "    y_hat = weight * x - bias\n",
    "    plt.plot(x, y_hat, color = 'red')\n",
    "    plt.title(f'lr = {lr}')\n",
    "    plt.show()\n",
    "    \n",
    "\n",
    "plot_maker(x = x, y = y, weight = 0.879, bias = 0.436, lr = 0.005)"
   ]
  },
  {
   "cell_type": "code",
   "execution_count": 102,
   "id": "4d2c3c76-3917-48c9-b903-f87d92d003d8",
   "metadata": {},
   "outputs": [
    {
     "name": "stdout",
     "output_type": "stream",
     "text": [
      "learning_rate = 0.001\n",
      "Epoch : 1000, Weight : 0.860, Bias : -0.059, Cost : 1.406\n",
      "Epoch : 2000, Weight : 0.864, Bias : -0.138, Cost : 1.393\n",
      "Epoch : 3000, Weight : 0.867, Bias : -0.201, Cost : 1.385\n",
      "Epoch : 4000, Weight : 0.870, Bias : -0.251, Cost : 1.380\n",
      "Epoch : 5000, Weight : 0.872, Bias : -0.290, Cost : 1.377\n",
      "Epoch : 6000, Weight : 0.873, Bias : -0.321, Cost : 1.375\n",
      "Epoch : 7000, Weight : 0.874, Bias : -0.345, Cost : 1.374\n",
      "Epoch : 8000, Weight : 0.875, Bias : -0.364, Cost : 1.373\n",
      "Epoch : 9000, Weight : 0.876, Bias : -0.379, Cost : 1.373\n",
      "Epoch : 10000, Weight : 0.877, Bias : -0.391, Cost : 1.373\n"
     ]
    }
   ],
   "source": [
    "#2 p.77(1)\n",
    "weight = 0.0\n",
    "bias = 0.0\n",
    "learning_rate = 0.001\n",
    "\n",
    "simpleregression(x = x, y = y, weight = weight, bias = bias, learning_rate = learning_rate)"
   ]
  },
  {
   "cell_type": "code",
   "execution_count": 17,
   "id": "0e4abf4e-7a24-4ea5-a2b2-bcb3d9474f93",
   "metadata": {},
   "outputs": [
    {
     "data": {
      "image/png": "[encoded data removed]",
      "text/plain": [
       "<Figure size 640x480 with 1 Axes>"
      ]
     },
     "metadata": {},
     "output_type": "display_data"
    }
   ],
   "source": [
    "plot_maker(x = x, y = y, weight = 0.877, bias = -0.391, lr = 0.001)"
   ]
  },
  {
   "cell_type": "code",
   "execution_count": 103,
   "id": "b8ad97b1-e616-4bba-9fa6-cc86bf166672",
   "metadata": {},
   "outputs": [
    {
     "name": "stdout",
     "output_type": "stream",
     "text": [
      "learning_rate = 0.006\n",
      "Epoch : 1000, Weight : 0.873, Bias : -0.321, Cost : 1.375\n",
      "Epoch : 2000, Weight : 0.878, Bias : -0.408, Cost : 1.372\n",
      "Epoch : 3000, Weight : 0.879, Bias : -0.429, Cost : 1.372\n",
      "Epoch : 4000, Weight : 0.879, Bias : -0.434, Cost : 1.372\n",
      "Epoch : 5000, Weight : 0.879, Bias : -0.436, Cost : 1.372\n",
      "Epoch : 6000, Weight : 0.879, Bias : -0.436, Cost : 1.372\n",
      "Epoch : 7000, Weight : 0.879, Bias : -0.436, Cost : 1.372\n",
      "Epoch : 8000, Weight : 0.879, Bias : -0.436, Cost : 1.372\n",
      "Epoch : 9000, Weight : 0.879, Bias : -0.436, Cost : 1.372\n",
      "Epoch : 10000, Weight : 0.879, Bias : -0.436, Cost : 1.372\n"
     ]
    }
   ],
   "source": [
    "#2 p.77(2)\n",
    "weight = 0.0\n",
    "bias = 0.0\n",
    "learning_rate = 0.006\n",
    "\n",
    "simpleregression(x = x, y = y, weight = weight, bias = bias, learning_rate = learning_rate)"
   ]
  },
  {
   "cell_type": "code",
   "execution_count": 19,
   "id": "ed87d5a4-8425-4361-a10a-7ac821edd1f2",
   "metadata": {},
   "outputs": [
    {
     "data": {
      "image/png": "[encoded data removed]",
      "text/plain": [
       "<Figure size 640x480 with 1 Axes>"
      ]
     },
     "metadata": {},
     "output_type": "display_data"
    }
   ],
   "source": [
    "plot_maker(x = x, y = y, weight = 0.879, bias = -0.436, lr = 0.006)"
   ]
  },
  {
   "cell_type": "markdown",
   "id": "a4a93ac4-d25e-4573-bfe8-60af80ee6b75",
   "metadata": {},
   "source": [
    "* 단순선형회귀 파이토치"
   ]
  },
  {
   "cell_type": "code",
   "execution_count": 20,
   "id": "9a2b4e06-2834-4e87-be5a-20ff248c0891",
   "metadata": {},
   "outputs": [],
   "source": [
    "import torch\n",
    "from torch import optim"
   ]
  },
  {
   "cell_type": "code",
   "execution_count": 22,
   "id": "55eacf45-a0eb-4442-8618-3f4ed074a38a",
   "metadata": {},
   "outputs": [],
   "source": [
    "x = torch.FloatTensor([\n",
    "    [1], [2], [3], [4], [5], [6], [7], [8], [9], [10],\n",
    "    [11], [12], [13], [14], [15], [16], [17], [18], [19], [20],\n",
    "    [21], [22], [23], [24], [25], [26], [27], [28], [29], [30]\n",
    "])\n",
    "y = torch.FloatTensor([\n",
    "    [0.94], [1.98], [2.88], [3.92], [3.96], [4.55], [5.64], [6.3], [7.44], [9.1],\n",
    "    [8.46], [9.5], [10.67], [11.16], [14], [11.83], [14.4], [14.25], [16.2], [16.32],\n",
    "    [17.46], [19.8], [18], [21.34], [22], [22.5], [24.57], [26.04], [21.6], [28.8]\n",
    "])"
   ]
  },
  {
   "cell_type": "code",
   "execution_count": 23,
   "id": "4433d627-04db-42b9-af40-e13d1d285ebc",
   "metadata": {},
   "outputs": [
    {
     "name": "stdout",
     "output_type": "stream",
     "text": [
      "weight : tensor([0.], requires_grad=True)\n",
      "bias : tensor([0.], requires_grad=True)\n"
     ]
    }
   ],
   "source": [
    "# autograd 자동미분기능(역전파)\n",
    "\n",
    "weight = torch.zeros(1, requires_grad = True)\n",
    "bias = torch.zeros(1, requires_grad = True)\n",
    "learning_rate = 0.001\n",
    "\n",
    "print('weight : {}\\nbias : {}'.format(weight, bias))"
   ]
  },
  {
   "cell_type": "code",
   "execution_count": 24,
   "id": "fb2096ad-7705-4064-bbe6-abb1ca773aa0",
   "metadata": {
    "scrolled": true
   },
   "outputs": [
    {
     "data": {
      "text/plain": [
       "SGD (\n",
       "Parameter Group 0\n",
       "    dampening: 0\n",
       "    differentiable: False\n",
       "    foreach: None\n",
       "    lr: 0.001\n",
       "    maximize: False\n",
       "    momentum: 0\n",
       "    nesterov: False\n",
       "    weight_decay: 0\n",
       ")"
      ]
     },
     "execution_count": 24,
     "metadata": {},
     "output_type": "execute_result"
    }
   ],
   "source": [
    "# 옵티마이저 설정\n",
    "# torch.optim\n",
    "optimizer = optim.SGD([weight, bias], lr = learning_rate)\n",
    "optimizer"
   ]
  },
  {
   "cell_type": "code",
   "execution_count": 112,
   "id": "e4dbd805-4aea-43fa-b821-f7fbb5ea5898",
   "metadata": {
    "scrolled": true
   },
   "outputs": [
    {
     "name": "stdout",
     "output_type": "stream",
     "text": [
      "Epoch: 1000, Weight : 0.864, Bias : -0.138, Cost:1.393\n",
      "Epoch: 2000, Weight : 0.870, Bias : -0.251, Cost:1.380\n",
      "Epoch: 3000, Weight : 0.873, Bias : -0.321, Cost:1.375\n",
      "Epoch: 4000, Weight : 0.875, Bias : -0.364, Cost:1.373\n",
      "Epoch: 5000, Weight : 0.877, Bias : -0.391, Cost:1.373\n",
      "Epoch: 6000, Weight : 0.878, Bias : -0.408, Cost:1.372\n",
      "Epoch: 7000, Weight : 0.878, Bias : -0.419, Cost:1.372\n",
      "Epoch: 8000, Weight : 0.878, Bias : -0.425, Cost:1.372\n",
      "Epoch: 9000, Weight : 0.879, Bias : -0.429, Cost:1.372\n",
      "Epoch: 10000, Weight : 0.879, Bias : -0.432, Cost:1.372\n"
     ]
    }
   ],
   "source": [
    "for epoch in range(10000):\n",
    "    hypothesis = weight * x + bias\n",
    "    cost = torch.mean((hypothesis - y)**2)\n",
    "    \n",
    "    optimizer.zero_grad()\n",
    "    cost.backward()\n",
    "    optimizer.step()\n",
    "    \n",
    "    if (epoch + 1) % 1000 == 0:\n",
    "        print(f\"Epoch: {epoch+1:4d}, Weight : {weight.item():.3f}, Bias : {bias.item():.3f}, Cost:{cost:.3f}\")"
   ]
  },
  {
   "cell_type": "markdown",
   "id": "2169f009-d2a1-431b-95bd-00f5c3b4d77f",
   "metadata": {},
   "source": [
    "* zero_grad 사용하는 이유"
   ]
  },
  {
   "cell_type": "code",
   "execution_count": 53,
   "id": "a6b0e1f4-24c5-4040-89ae-0314d715d064",
   "metadata": {},
   "outputs": [
    {
     "name": "stdout",
     "output_type": "stream",
     "text": [
      "역전파 1번 grad: tensor(2.)\n",
      "역전파 2번 grad: tensor(4.)\n",
      "역전파 3번 grad: tensor(6.)\n",
      "역전파 4번 grad: tensor(8.)\n",
      "역전파 5번 grad: tensor(10.)\n"
     ]
    }
   ],
   "source": [
    "temp = torch.tensor(2.0, requires_grad = True)\n",
    "\n",
    "for i in range(5):\n",
    "    z = 2*temp\n",
    "    z.backward()\n",
    "    print(f'역전파 {i+1}번 grad:',temp.grad)"
   ]
  },
  {
   "cell_type": "markdown",
   "id": "0b5e5d62-ad9b-4555-ae4a-fe7df1f9a92d",
   "metadata": {},
   "source": [
    "* gradient들은 1에포크에서 역할을 다한 것이므로 초기화 해주어야함"
   ]
  },
  {
   "cell_type": "markdown",
   "id": "f5e365ac-fd27-473a-9237-d26d6440022f",
   "metadata": {},
   "source": [
    "* 자세히 알아보기"
   ]
  },
  {
   "cell_type": "code",
   "execution_count": 114,
   "id": "4b4dedc7-2358-42b2-8631-5b517f766b3c",
   "metadata": {},
   "outputs": [
    {
     "name": "stdout",
     "output_type": "stream",
     "text": [
      "------------ Epoch :    1 ------------\n",
      "Step [1] : Gradient : None, Weight : 0.00000\n",
      "Step [2] : Gradient : None, Weight : 0.00000\n",
      "Step [3] : Gradient : tensor([-540.4854]), Weight : 0.00000\n",
      "Step [4] : Gradient : tensor([-540.4854]), Weight : 0.54049\n",
      "------------ Epoch :    2 ------------\n",
      "Step [1] : Gradient : tensor([-540.4854]), Weight : 0.54049\n",
      "Step [2] : Gradient : None, Weight : 0.54049\n",
      "Step [3] : Gradient : tensor([-198.9818]), Weight : 0.54049\n",
      "Step [4] : Gradient : tensor([-198.9818]), Weight : 0.73947\n",
      "------------ Epoch :    3 ------------\n",
      "Step [1] : Gradient : tensor([-198.9818]), Weight : 0.73947\n",
      "Step [2] : Gradient : None, Weight : 0.73947\n",
      "Step [3] : Gradient : tensor([-73.2604]), Weight : 0.73947\n",
      "Step [4] : Gradient : tensor([-73.2604]), Weight : 0.81273\n",
      "------------ Epoch :    4 ------------\n",
      "Step [1] : Gradient : tensor([-73.2604]), Weight : 0.81273\n",
      "Step [2] : Gradient : None, Weight : 0.81273\n",
      "Step [3] : Gradient : tensor([-26.9772]), Weight : 0.81273\n",
      "Step [4] : Gradient : tensor([-26.9772]), Weight : 0.83970\n"
     ]
    }
   ],
   "source": [
    "import torch\n",
    "from torch import optim\n",
    "\n",
    "\n",
    "x = torch.FloatTensor([\n",
    "    [1], [2], [3], [4], [5], [6], [7], [8], [9], [10],\n",
    "    [11], [12], [13], [14], [15], [16], [17], [18], [19], [20],\n",
    "    [21], [22], [23], [24], [25], [26], [27], [28], [29], [30]\n",
    "])\n",
    "y = torch.FloatTensor([\n",
    "    [0.94], [1.98], [2.88], [3.92], [3.96], [4.55], [5.64], [6.3], [7.44], [9.1],\n",
    "    [8.46], [9.5], [10.67], [11.16], [14], [11.83], [14.4], [14.25], [16.2], [16.32],\n",
    "    [17.46], [19.8], [18], [21.34], [22], [22.5], [24.57], [26.04], [21.6], [28.8]\n",
    "])\n",
    "\n",
    "weight = torch.zeros(1, requires_grad=True)\n",
    "bias = torch.zeros(1, requires_grad=True)\n",
    "learning_rate = 0.001\n",
    "\n",
    "optimizer = optim.SGD([weight, bias], lr=learning_rate)\n",
    "\n",
    "for epoch in range(10000):\n",
    "    hytheposis = weight * x + bias\n",
    "    cost = torch.mean((hytheposis - y) ** 2)\n",
    "    \n",
    "    print(f\"------------ Epoch : {epoch+1:4d} ------------\")\n",
    "    print(f\"Step [1] : Gradient : {weight.grad}, Weight : {weight.item():.5f}\")\n",
    "\n",
    "    # 기울기 초기화\n",
    "    # 기울기가 weight = x가 아닌 weight += x로 저장되므로 0으로 초기화해주어야함!!!!!\n",
    "    optimizer.zero_grad()\n",
    "    print(f\"Step [2] : Gradient : {weight.grad}, Weight : {weight.item():.5f}\" )\n",
    "\n",
    "    # 역전파\n",
    "    cost.backward()\n",
    "    print(f\"Step [3] : Gradient : {weight.grad}, Weight : {weight.item():.5f}\" )\n",
    "\n",
    "    # 확률적 경사하강법 수행\n",
    "    optimizer.step()\n",
    "    print(f\"Step [4] : Gradient : {weight.grad}, Weight : {weight.item():.5f}\" )\n",
    "    \n",
    "    if epoch == 3:\n",
    "        break"
   ]
  },
  {
   "cell_type": "markdown",
   "id": "b2eaeac3-75d4-4586-baa0-2802321c992d",
   "metadata": {
    "jp-MarkdownHeadingCollapsed": true
   },
   "source": [
    "# 파이토치 가중치 갱신\n",
    "* zero_grad : 옵티마이저 기울기 초기화\n",
    "* cost.backward :  역전파\n",
    "* optimizer : 기울기 갱신"
   ]
  },
  {
   "cell_type": "markdown",
   "id": "83afb9b2-860c-4fd5-bae4-d3d4ee5b10ab",
   "metadata": {
    "jp-MarkdownHeadingCollapsed": true
   },
   "source": [
    "# 신경망 패키지(torch.nn)"
   ]
  },
  {
   "cell_type": "code",
   "execution_count": 54,
   "id": "c7392e3b-ff9d-4612-a33f-bb87fce46148",
   "metadata": {},
   "outputs": [
    {
     "data": {
      "text/plain": [
       "'\\nlayer = torch.nn.linear(\\n  in_feature,\\n  out_feature,\\n  bias = True,\\n  device = None,\\n  dtype = None\\n  )\\n'"
      ]
     },
     "execution_count": 54,
     "metadata": {},
     "output_type": "execute_result"
    }
   ],
   "source": [
    "# 선형 레이어 변수\n",
    "f'''\n",
    "layer = torch.nn.linear(\n",
    "  in_feature,\n",
    "  out_feature,\n",
    "  bias = True,\n",
    "  device = None,\n",
    "  dtype = None\n",
    "  )\n",
    "'''"
   ]
  },
  {
   "cell_type": "code",
   "execution_count": 1,
   "id": "a3bad935-1ec4-403d-bf0b-be7d5a136519",
   "metadata": {},
   "outputs": [],
   "source": [
    "import torch\n",
    "from torch import nn\n",
    "from torch import optim\n",
    "\n",
    "x = torch.FloatTensor([\n",
    "    [1], [2], [3], [4], [5], [6], [7], [8], [9], [10],\n",
    "    [11], [12], [13], [14], [15], [16], [17], [18], [19], [20],\n",
    "    [21], [22], [23], [24], [25], [26], [27], [28], [29], [30]\n",
    "])\n",
    "y = torch.FloatTensor([\n",
    "    [0.94], [1.98], [2.88], [3.92], [3.96], [4.55], [5.64], [6.3], [7.44], [9.1],\n",
    "    [8.46], [9.5], [10.67], [11.16], [14], [11.83], [14.4], [14.25], [16.2], [16.32],\n",
    "    [17.46], [19.8], [18], [21.34], [22], [22.5], [24.57], [26.04], [21.6], [28.8]\n",
    "])"
   ]
  },
  {
   "cell_type": "code",
   "execution_count": 3,
   "id": "d8408be9-da95-4b34-94f3-384146945d0b",
   "metadata": {},
   "outputs": [],
   "source": [
    "# 모델\n",
    "model = nn.Linear(1,1)\n",
    "# 손실함수\n",
    "criterion = nn.MSELoss()\n",
    "# 옵티마이저\n",
    "optimizer = optim.SGD(model.parameters(), lr = 0.001)\n",
    "# optim.SGD([weight, bias], learning_rate = 0.001)"
   ]
  },
  {
   "cell_type": "code",
   "execution_count": 121,
   "id": "59802f3a-ff9e-4744-8a9b-542d8b095d15",
   "metadata": {
    "scrolled": true
   },
   "outputs": [
    {
     "name": "stdout",
     "output_type": "stream",
     "text": [
      "Epoch : 1000, Model : [Parameter containing:\n",
      "tensor([[0.8330]], requires_grad=True), Parameter containing:\n",
      "tensor([0.4959], requires_grad=True)], Cost : 1.579\n",
      "Epoch : 2000, Model : [Parameter containing:\n",
      "tensor([[0.8504]], requires_grad=True), Parameter containing:\n",
      "tensor([0.1439], requires_grad=True)], Cost : 1.452\n",
      "Epoch : 3000, Model : [Parameter containing:\n",
      "tensor([[0.8611]], requires_grad=True), Parameter containing:\n",
      "tensor([-0.0751], requires_grad=True)], Cost : 1.403\n",
      "Epoch : 4000, Model : [Parameter containing:\n",
      "tensor([[0.8678]], requires_grad=True), Parameter containing:\n",
      "tensor([-0.2114], requires_grad=True)], Cost : 1.384\n",
      "Epoch : 5000, Model : [Parameter containing:\n",
      "tensor([[0.8720]], requires_grad=True), Parameter containing:\n",
      "tensor([-0.2962], requires_grad=True)], Cost : 1.377\n",
      "Epoch : 6000, Model : [Parameter containing:\n",
      "tensor([[0.8746]], requires_grad=True), Parameter containing:\n",
      "tensor([-0.3490], requires_grad=True)], Cost : 1.374\n",
      "Epoch : 7000, Model : [Parameter containing:\n",
      "tensor([[0.8762]], requires_grad=True), Parameter containing:\n",
      "tensor([-0.3818], requires_grad=True)], Cost : 1.373\n",
      "Epoch : 8000, Model : [Parameter containing:\n",
      "tensor([[0.8772]], requires_grad=True), Parameter containing:\n",
      "tensor([-0.4023], requires_grad=True)], Cost : 1.372\n",
      "Epoch : 9000, Model : [Parameter containing:\n",
      "tensor([[0.8779]], requires_grad=True), Parameter containing:\n",
      "tensor([-0.4150], requires_grad=True)], Cost : 1.372\n",
      "Epoch : 10000, Model : [Parameter containing:\n",
      "tensor([[0.8783]], requires_grad=True), Parameter containing:\n",
      "tensor([-0.4229], requires_grad=True)], Cost : 1.372\n"
     ]
    }
   ],
   "source": [
    "for epoch in range(10000):\n",
    "    output = model(x)\n",
    "    cost = criterion(output, y)\n",
    "    \n",
    "    # [1] 옵티마이저값 초기화\n",
    "    optimizer.zero_grad()\n",
    "    # [2] 손실함수 역전파 수행\n",
    "    cost.backward()\n",
    "    # [3] 가중치 갱신\n",
    "    optimizer.step()\n",
    "    \n",
    "    if (epoch + 1) % 1000 == 0:\n",
    "        print(f\"Epoch : {epoch+1:4d}, Model : {list(model.parameters())}, Cost : {cost:.3f}\")"
   ]
  },
  {
   "cell_type": "markdown",
   "id": "706dfb5a-a8e2-429b-be18-59b2a736a8e1",
   "metadata": {
    "jp-MarkdownHeadingCollapsed": true
   },
   "source": [
    "# 데이터세트와 데이터로더"
   ]
  },
  {
   "cell_type": "markdown",
   "id": "459cf0e0-d700-4960-b179-526cd35f0d70",
   "metadata": {},
   "source": [
    "* 데이터세트"
   ]
  },
  {
   "cell_type": "code",
   "execution_count": 122,
   "id": "95e2d4bc-4a9e-4410-a808-c8e806854d90",
   "metadata": {},
   "outputs": [],
   "source": [
    "class Dataset:\n",
    "    # 초기화 메서드\n",
    "    # 학습에 사용될 데이터선언 + 학습에 필요한 형태로 변형\n",
    "    def __init__(self, data, *arg, **kwargs):\n",
    "        self.data = data\n",
    "\n",
    "    # 길이 반환 매서드\n",
    "    # 학습에 사용되는 전체 데이터세트의 개수를 반환\n",
    "    def __len__(self):\n",
    "        return self.data[0].size(0)\n",
    "\n",
    "    # 호출메서드\n",
    "    # 학습을 진행할 떄, 하나의 행을 불러오는 과정과 비슷함\n",
    "    def __getitem__(self, index):\n",
    "        return tuple(data[index] for data in data.tensors)"
   ]
  },
  {
   "cell_type": "markdown",
   "id": "195646af-9762-40d9-829d-ff146b485ae2",
   "metadata": {},
   "source": [
    "* 데이터로더\n",
    "* 데이터세트에 저장된 데이터를 어떠한 방식으로 불러와 활용할지 정의\n",
    "* batch_size, shuffle, num_workers 등의 기능 제공"
   ]
  },
  {
   "cell_type": "markdown",
   "id": "8f4e732c-ebea-453a-9ced-380b6900ea28",
   "metadata": {
    "jp-MarkdownHeadingCollapsed": true
   },
   "source": [
    "# 다중선형회귀"
   ]
  },
  {
   "cell_type": "markdown",
   "id": "2bb2be43-9eb4-46c1-b350-fcc12a0109f8",
   "metadata": {},
   "source": [
    "* x1, x2, y1, y2\n",
    "* y1 = w1x1 + w2x2 + b1\n",
    "* y2 = w3x1 + w4x2 + b2"
   ]
  },
  {
   "cell_type": "code",
   "execution_count": 144,
   "id": "2b5610e4-bb8c-4459-985f-799134307639",
   "metadata": {},
   "outputs": [],
   "source": [
    "import torch\n",
    "from torch import nn\n",
    "from torch import optim\n",
    "from torch.utils.data import TensorDataset, DataLoader"
   ]
  },
  {
   "cell_type": "code",
   "execution_count": 145,
   "id": "b4355067-5b8b-405b-831e-a38081b3cafc",
   "metadata": {},
   "outputs": [],
   "source": [
    "train_x = torch.FloatTensor([\n",
    "    [1, 2], [2, 3], [3, 4], [4, 5], [5, 6], [6, 7]\n",
    "])\n",
    "train_y = torch.FloatTensor([\n",
    "    [0.1, 1.5], [1, 2.8], [1.9, 4.1], [2.8, 5.4], [3.7, 6.7], [4.6, 8]\n",
    "])"
   ]
  },
  {
   "cell_type": "code",
   "execution_count": 146,
   "id": "68d1ceaa-35c3-4583-9b1c-c76a039da28a",
   "metadata": {},
   "outputs": [],
   "source": [
    "train_dataset = TensorDataset(train_x, train_y)\n",
    "train_dataloader = DataLoader(train_dataset, batch_size = 2, shuffle = True, drop_last = True)\n",
    "# drop_last :  배치크기에 맞지않는 데이터는 제거"
   ]
  },
  {
   "cell_type": "code",
   "execution_count": 147,
   "id": "09e53571-6012-4dcd-9e2e-c7c12f434823",
   "metadata": {},
   "outputs": [
    {
     "name": "stdout",
     "output_type": "stream",
     "text": [
      "---------------\n",
      "x : tensor([[6., 7.],\n",
      "        [5., 6.]])\n",
      "y : tensor([[4.6000, 8.0000],\n",
      "        [3.7000, 6.7000]])\n",
      "---------------\n",
      "---------------\n",
      "x : tensor([[4., 5.],\n",
      "        [3., 4.]])\n",
      "y : tensor([[2.8000, 5.4000],\n",
      "        [1.9000, 4.1000]])\n",
      "---------------\n",
      "---------------\n",
      "x : tensor([[1., 2.],\n",
      "        [2., 3.]])\n",
      "y : tensor([[0.1000, 1.5000],\n",
      "        [1.0000, 2.8000]])\n",
      "---------------\n"
     ]
    }
   ],
   "source": [
    "for  batch in train_dataloader:\n",
    "    x, y = batch\n",
    "    print('---------------')\n",
    "    print('x : {}'.format(x))\n",
    "    print('y : {}'.format(y))\n",
    "    print('---------------')"
   ]
  },
  {
   "cell_type": "code",
   "execution_count": 148,
   "id": "e721a7b8-3362-480e-8766-5c4897e478db",
   "metadata": {
    "scrolled": true
   },
   "outputs": [],
   "source": [
    "def multi_regression(data = train_dataloader, \n",
    "                     model = model, \n",
    "                     criterion = criterion,\n",
    "                     optimizer = optimizer):\n",
    "    for epoch in range(20000):\n",
    "        # epoch마다 오차 다시 계산\n",
    "        cost = 0.0\n",
    "        \n",
    "        for batch in train_dataloader:\n",
    "            x, y = batch\n",
    "            output = model(x)\n",
    "            \n",
    "            loss = criterion(output, y)\n",
    "            \n",
    "            optimizer.zero_grad()\n",
    "            loss.backward()\n",
    "            optimizer.step()\n",
    "    \n",
    "            # 배치 단위이므로 오차에 손실을 누적해서 더함\n",
    "            cost += loss\n",
    "        cost = cost / len(train_dataloader)\n",
    "        \n",
    "        if (epoch + 1) % 1000 == 0:\n",
    "            print(f\"Epoch : {epoch+1:4d}, Model : {list(model.parameters())}, Cost : {cost:.3f}\")"
   ]
  },
  {
   "cell_type": "code",
   "execution_count": 149,
   "id": "5d036494-5080-4e04-a44c-e3d11840e5d1",
   "metadata": {
    "scrolled": true
   },
   "outputs": [
    {
     "name": "stdout",
     "output_type": "stream",
     "text": [
      "Epoch : 1000, Model : [Parameter containing:\n",
      "tensor([[0.3772, 0.2822],\n",
      "        [0.5035, 0.7862]], requires_grad=True), Parameter containing:\n",
      "tensor([-0.0714, -0.5432], requires_grad=True)], Cost : 0.099\n",
      "Epoch : 2000, Model : [Parameter containing:\n",
      "tensor([[0.6212, 0.1563],\n",
      "        [0.5139, 0.7808]], requires_grad=True), Parameter containing:\n",
      "tensor([-0.4412, -0.5589], requires_grad=True)], Cost : 0.026\n",
      "Epoch : 3000, Model : [Parameter containing:\n",
      "tensor([[0.7455, 0.0922],\n",
      "        [0.5192, 0.7781]], requires_grad=True), Parameter containing:\n",
      "tensor([-0.6297, -0.5669], requires_grad=True)], Cost : 0.007\n",
      "Epoch : 4000, Model : [Parameter containing:\n",
      "tensor([[0.8088, 0.0594],\n",
      "        [0.5219, 0.7767]], requires_grad=True), Parameter containing:\n",
      "tensor([-0.7257, -0.5710], requires_grad=True)], Cost : 0.002\n",
      "Epoch : 5000, Model : [Parameter containing:\n",
      "tensor([[0.8411, 0.0428],\n",
      "        [0.5233, 0.7760]], requires_grad=True), Parameter containing:\n",
      "tensor([-0.7746, -0.5731], requires_grad=True)], Cost : 0.000\n",
      "Epoch : 6000, Model : [Parameter containing:\n",
      "tensor([[0.8575, 0.0343],\n",
      "        [0.5240, 0.7757]], requires_grad=True), Parameter containing:\n",
      "tensor([-0.7996, -0.5742], requires_grad=True)], Cost : 0.000\n",
      "Epoch : 7000, Model : [Parameter containing:\n",
      "tensor([[0.8658, 0.0299],\n",
      "        [0.5244, 0.7755]], requires_grad=True), Parameter containing:\n",
      "tensor([-0.8123, -0.5747], requires_grad=True)], Cost : 0.000\n",
      "Epoch : 8000, Model : [Parameter containing:\n",
      "tensor([[0.8701, 0.0277],\n",
      "        [0.5245, 0.7754]], requires_grad=True), Parameter containing:\n",
      "tensor([-0.8187, -0.5750], requires_grad=True)], Cost : 0.000\n",
      "Epoch : 9000, Model : [Parameter containing:\n",
      "tensor([[0.8723, 0.0266],\n",
      "        [0.5246, 0.7753]], requires_grad=True), Parameter containing:\n",
      "tensor([-0.8220, -0.5751], requires_grad=True)], Cost : 0.000\n",
      "Epoch : 10000, Model : [Parameter containing:\n",
      "tensor([[0.8734, 0.0260],\n",
      "        [0.5247, 0.7753]], requires_grad=True), Parameter containing:\n",
      "tensor([-0.8237, -0.5752], requires_grad=True)], Cost : 0.000\n",
      "Epoch : 11000, Model : [Parameter containing:\n",
      "tensor([[0.8740, 0.0258],\n",
      "        [0.5247, 0.7753]], requires_grad=True), Parameter containing:\n",
      "tensor([-0.8246, -0.5752], requires_grad=True)], Cost : 0.000\n",
      "Epoch : 12000, Model : [Parameter containing:\n",
      "tensor([[0.8742, 0.0256],\n",
      "        [0.5247, 0.7753]], requires_grad=True), Parameter containing:\n",
      "tensor([-0.8250, -0.5752], requires_grad=True)], Cost : 0.000\n",
      "Epoch : 13000, Model : [Parameter containing:\n",
      "tensor([[0.8744, 0.0255],\n",
      "        [0.5247, 0.7753]], requires_grad=True), Parameter containing:\n",
      "tensor([-0.8252, -0.5752], requires_grad=True)], Cost : 0.000\n",
      "Epoch : 14000, Model : [Parameter containing:\n",
      "tensor([[0.8745, 0.0255],\n",
      "        [0.5247, 0.7753]], requires_grad=True), Parameter containing:\n",
      "tensor([-0.8253, -0.5752], requires_grad=True)], Cost : 0.000\n",
      "Epoch : 15000, Model : [Parameter containing:\n",
      "tensor([[0.8745, 0.0255],\n",
      "        [0.5247, 0.7753]], requires_grad=True), Parameter containing:\n",
      "tensor([-0.8254, -0.5752], requires_grad=True)], Cost : 0.000\n",
      "Epoch : 16000, Model : [Parameter containing:\n",
      "tensor([[0.8745, 0.0255],\n",
      "        [0.5247, 0.7753]], requires_grad=True), Parameter containing:\n",
      "tensor([-0.8254, -0.5752], requires_grad=True)], Cost : 0.000\n",
      "Epoch : 17000, Model : [Parameter containing:\n",
      "tensor([[0.8745, 0.0255],\n",
      "        [0.5247, 0.7753]], requires_grad=True), Parameter containing:\n",
      "tensor([-0.8254, -0.5752], requires_grad=True)], Cost : 0.000\n",
      "Epoch : 18000, Model : [Parameter containing:\n",
      "tensor([[0.8745, 0.0254],\n",
      "        [0.5247, 0.7753]], requires_grad=True), Parameter containing:\n",
      "tensor([-0.8254, -0.5752], requires_grad=True)], Cost : 0.000\n",
      "Epoch : 19000, Model : [Parameter containing:\n",
      "tensor([[0.8746, 0.0254],\n",
      "        [0.5247, 0.7753]], requires_grad=True), Parameter containing:\n",
      "tensor([-0.8254, -0.5752], requires_grad=True)], Cost : 0.000\n",
      "Epoch : 20000, Model : [Parameter containing:\n",
      "tensor([[0.8746, 0.0254],\n",
      "        [0.5247, 0.7753]], requires_grad=True), Parameter containing:\n",
      "tensor([-0.8254, -0.5752], requires_grad=True)], Cost : 0.000\n"
     ]
    }
   ],
   "source": [
    "model = nn.Linear(2,2, bias = True)\n",
    "criterion = nn.MSELoss()\n",
    "optimizer = optim.SGD(model.parameters(), lr = 0.001)\n",
    "multi_regression(data = train_dataloader, \n",
    "                     model = model, \n",
    "                     criterion = criterion,\n",
    "                     optimizer = optimizer)"
   ]
  },
  {
   "cell_type": "markdown",
   "id": "3ccde677-d743-422a-a95a-72e2a47e977a",
   "metadata": {
    "jp-MarkdownHeadingCollapsed": true
   },
   "source": [
    "# 모델/데이터세트 분리"
   ]
  },
  {
   "cell_type": "markdown",
   "id": "1383e13a-da6c-4a99-ad74-13492a4d06a2",
   "metadata": {},
   "source": [
    "* 모델 구현\n",
    "* 모듈클래스활용\n",
    "* 모듈클래스를 상속받아 임의의 서브클래스를 생성하여 사용"
   ]
  },
  {
   "cell_type": "code",
   "execution_count": null,
   "id": "26554b12-fe4a-490a-a1b1-b34b731c8110",
   "metadata": {},
   "outputs": [],
   "source": [
    "class Model(nn.Module):\n",
    "    def __init__(self):\n",
    "        super().__init__()\n",
    "        self.conv1 = nn.Conv2d(in_features = 1,out_features = 20, kernel_size = 5)\n",
    "        self.conv2 = nn.Conv2d(20,20,5)\n",
    "    \n",
    "    def forward(self,x):\n",
    "        x = F.relu(self.conv1(x))\n",
    "        x = F.relu(self.conv2(x))\n",
    "        return x\n",
    "'''\n",
    "tensor의 auto_grad에서 모댈의 매개변수를 역으로 \n",
    "전파해 자동으로 기울기 또는 변화도를 계산해줌\n",
    "'''"
   ]
  },
  {
   "cell_type": "markdown",
   "id": "849515f2-bf78-4bc8-a11e-c7b13a943bb5",
   "metadata": {
    "jp-MarkdownHeadingCollapsed": true
   },
   "source": [
    "# 비선형회귀"
   ]
  },
  {
   "cell_type": "code",
   "execution_count": 150,
   "id": "9251d652-11bd-4cfd-8bc7-e2dadf7ef559",
   "metadata": {},
   "outputs": [
    {
     "data": {
      "text/html": [
       "<div>\n",
       "<style scoped>\n",
       "    .dataframe tbody tr th:only-of-type {\n",
       "        vertical-align: middle;\n",
       "    }\n",
       "\n",
       "    .dataframe tbody tr th {\n",
       "        vertical-align: top;\n",
       "    }\n",
       "\n",
       "    .dataframe thead th {\n",
       "        text-align: right;\n",
       "    }\n",
       "</style>\n",
       "<table border=\"1\" class=\"dataframe\">\n",
       "  <thead>\n",
       "    <tr style=\"text-align: right;\">\n",
       "      <th></th>\n",
       "      <th>x</th>\n",
       "      <th>y</th>\n",
       "    </tr>\n",
       "  </thead>\n",
       "  <tbody>\n",
       "    <tr>\n",
       "      <th>0</th>\n",
       "      <td>-10.0</td>\n",
       "      <td>327.79</td>\n",
       "    </tr>\n",
       "    <tr>\n",
       "      <th>1</th>\n",
       "      <td>-9.9</td>\n",
       "      <td>321.39</td>\n",
       "    </tr>\n",
       "    <tr>\n",
       "      <th>2</th>\n",
       "      <td>-9.8</td>\n",
       "      <td>314.48</td>\n",
       "    </tr>\n",
       "    <tr>\n",
       "      <th>3</th>\n",
       "      <td>-9.7</td>\n",
       "      <td>308.51</td>\n",
       "    </tr>\n",
       "    <tr>\n",
       "      <th>4</th>\n",
       "      <td>-9.6</td>\n",
       "      <td>302.86</td>\n",
       "    </tr>\n",
       "    <tr>\n",
       "      <th>...</th>\n",
       "      <td>...</td>\n",
       "      <td>...</td>\n",
       "    </tr>\n",
       "    <tr>\n",
       "      <th>195</th>\n",
       "      <td>9.5</td>\n",
       "      <td>263.80</td>\n",
       "    </tr>\n",
       "    <tr>\n",
       "      <th>196</th>\n",
       "      <td>9.6</td>\n",
       "      <td>269.85</td>\n",
       "    </tr>\n",
       "    <tr>\n",
       "      <th>197</th>\n",
       "      <td>9.7</td>\n",
       "      <td>275.31</td>\n",
       "    </tr>\n",
       "    <tr>\n",
       "      <th>198</th>\n",
       "      <td>9.8</td>\n",
       "      <td>281.40</td>\n",
       "    </tr>\n",
       "    <tr>\n",
       "      <th>199</th>\n",
       "      <td>9.9</td>\n",
       "      <td>287.13</td>\n",
       "    </tr>\n",
       "  </tbody>\n",
       "</table>\n",
       "<p>200 rows × 2 columns</p>\n",
       "</div>"
      ],
      "text/plain": [
       "        x       y\n",
       "0   -10.0  327.79\n",
       "1    -9.9  321.39\n",
       "2    -9.8  314.48\n",
       "3    -9.7  308.51\n",
       "4    -9.6  302.86\n",
       "..    ...     ...\n",
       "195   9.5  263.80\n",
       "196   9.6  269.85\n",
       "197   9.7  275.31\n",
       "198   9.8  281.40\n",
       "199   9.9  287.13\n",
       "\n",
       "[200 rows x 2 columns]"
      ]
     },
     "execution_count": 150,
     "metadata": {},
     "output_type": "execute_result"
    }
   ],
   "source": [
    "import pandas as pd\n",
    "pd.read_csv('./non_linear.csv')"
   ]
  },
  {
   "cell_type": "code",
   "execution_count": 151,
   "id": "6ef8c9ee-2852-4d6c-af09-bdd64d590152",
   "metadata": {},
   "outputs": [],
   "source": [
    "import torch\n",
    "import pandas as pd\n",
    "from torch import nn\n",
    "from torch import optim\n",
    "from torch.utils.data import Dataset, DataLoader"
   ]
  },
  {
   "cell_type": "code",
   "execution_count": 159,
   "id": "f5fbd2ce-eae0-4ea9-989d-9c6968212892",
   "metadata": {},
   "outputs": [],
   "source": [
    "# 사용자 정의 데이터세트\n",
    "class CustomDataset(Dataset):\n",
    "    '''\n",
    "    데이터세트를 상속받아 커스텀 데이터세트를 생성 \n",
    "    '''\n",
    "    def __init__(self, file_path):\n",
    "        df = pd.read_csv(file_path)\n",
    "        self.x = df.iloc[:, 0].values\n",
    "        self.y = df.iloc[:, 1].values\n",
    "        self.length = len(df)\n",
    "    \n",
    "    def __getitem__(self, index):\n",
    "        '''\n",
    "        y = w1 * (x**2) + w2 * x + bias\n",
    "        x = [x**2, x]형태\n",
    "        '''\n",
    "        x = torch.FloatTensor([self.x[index] ** 2, self.x[index]])\n",
    "        y = torch.FloatTensor([self.y[index]])\n",
    "        return x, y\n",
    "    \n",
    "    def __len__(self):\n",
    "        return self.length"
   ]
  },
  {
   "cell_type": "code",
   "execution_count": 155,
   "id": "5fe35dcd-c76f-4e30-85e4-e10ec42fc9d3",
   "metadata": {},
   "outputs": [],
   "source": [
    "# 사용자 정의 모델\n",
    "class CustomModel(nn.Module):\n",
    "    '''\n",
    "    선형변환함수를 이용한 모델\n",
    "    '''\n",
    "    def __init__(self):\n",
    "        super().__init__()\n",
    "        self.layer = nn.Linear(2,1)\n",
    "    \n",
    "    def forward(self, x):\n",
    "        x = self.layer(x)\n",
    "        return x"
   ]
  },
  {
   "cell_type": "code",
   "execution_count": 173,
   "id": "f1c139ae-526f-4361-8c31-a40dc71ab8e4",
   "metadata": {
    "scrolled": true
   },
   "outputs": [
    {
     "name": "stdout",
     "output_type": "stream",
     "text": [
      "----- batch : 1 ------\n",
      "x : tensor([[ 2.8090e+01, -5.3000e+00],\n",
      "        [ 2.9160e+01,  5.4000e+00],\n",
      "        [ 9.0000e-02,  3.0000e-01],\n",
      "        [ 1.5210e+01,  3.9000e+00],\n",
      "        [ 3.6000e+01, -6.0000e+00],\n",
      "        [ 3.6000e+01,  6.0000e+00],\n",
      "        [ 8.4640e+01,  9.2000e+00],\n",
      "        [ 5.7600e+00, -2.4000e+00],\n",
      "        [ 6.0840e+01, -7.8000e+00],\n",
      "        [ 2.5000e-01,  5.0000e-01],\n",
      "        [ 7.9210e+01,  8.9000e+00],\n",
      "        [ 9.2160e+01, -9.6000e+00],\n",
      "        [ 2.6010e+01, -5.1000e+00],\n",
      "        [ 7.2250e+01,  8.5000e+00],\n",
      "        [ 6.4000e-01,  8.0000e-01],\n",
      "        [ 8.4100e+00, -2.9000e+00],\n",
      "        [ 4.4890e+01,  6.7000e+00],\n",
      "        [ 4.3560e+01, -6.6000e+00],\n",
      "        [ 5.7760e+01, -7.6000e+00],\n",
      "        [ 5.7760e+01,  7.6000e+00],\n",
      "        [ 3.1360e+01, -5.6000e+00],\n",
      "        [ 1.4400e+00, -1.2000e+00],\n",
      "        [ 5.9290e+01, -7.7000e+00],\n",
      "        [ 2.4010e+01, -4.9000e+00],\n",
      "        [ 1.0890e+01, -3.3000e+00],\n",
      "        [ 4.2250e+01, -6.5000e+00],\n",
      "        [ 1.6900e+00,  1.3000e+00],\n",
      "        [ 8.8360e+01, -9.4000e+00],\n",
      "        [ 7.5690e+01,  8.7000e+00],\n",
      "        [ 2.2500e+00,  1.5000e+00],\n",
      "        [ 8.2810e+01, -9.1000e+00],\n",
      "        [ 8.1000e+01, -9.0000e+00]])\n",
      "y : tensor([[9.6740e+01],\n",
      "        [8.1900e+01],\n",
      "        [2.7000e-01],\n",
      "        [4.1170e+01],\n",
      "        [1.2265e+02],\n",
      "        [1.0212e+02],\n",
      "        [2.4760e+02],\n",
      "        [2.2480e+01],\n",
      "        [2.0202e+02],\n",
      "        [6.7000e-01],\n",
      "        [2.3119e+02],\n",
      "        [3.0286e+02],\n",
      "        [8.9400e+01],\n",
      "        [2.0961e+02],\n",
      "        [1.0400e+00],\n",
      "        [3.1830e+01],\n",
      "        [1.2789e+02],\n",
      "        [1.4632e+02],\n",
      "        [1.9210e+02],\n",
      "        [1.6686e+02],\n",
      "        [1.0729e+02],\n",
      "        [6.6500e+00],\n",
      "        [1.9780e+02],\n",
      "        [8.3280e+01],\n",
      "        [3.9710e+01],\n",
      "        [1.4266e+02],\n",
      "        [3.3000e+00],\n",
      "        [2.9048e+02],\n",
      "        [2.2046e+02],\n",
      "        [4.4400e+00],\n",
      "        [2.7233e+02],\n",
      "        [2.6698e+02]])\n",
      "----- batch : 2 ------\n",
      "x : tensor([[37.2100, -6.1000],\n",
      "        [34.8100, -5.9000],\n",
      "        [ 4.0000,  2.0000],\n",
      "        [12.2500, -3.5000],\n",
      "        [ 1.9600,  1.4000],\n",
      "        [88.3600,  9.4000],\n",
      "        [ 0.2500, -0.5000],\n",
      "        [ 2.2500, -1.5000],\n",
      "        [30.2500,  5.5000],\n",
      "        [23.0400, -4.8000],\n",
      "        [82.8100,  9.1000],\n",
      "        [38.4400,  6.2000],\n",
      "        [29.1600, -5.4000],\n",
      "        [50.4100,  7.1000],\n",
      "        [11.5600,  3.4000],\n",
      "        [ 6.2500, -2.5000],\n",
      "        [47.6100,  6.9000],\n",
      "        [56.2500, -7.5000],\n",
      "        [54.7600, -7.4000],\n",
      "        [51.8400, -7.2000],\n",
      "        [98.0100,  9.9000],\n",
      "        [37.2100,  6.1000],\n",
      "        [10.2400, -3.2000],\n",
      "        [26.0100,  5.1000],\n",
      "        [67.2400,  8.2000],\n",
      "        [10.8900,  3.3000],\n",
      "        [ 7.8400, -2.8000],\n",
      "        [38.4400, -6.2000],\n",
      "        [14.4400, -3.8000],\n",
      "        [70.5600, -8.4000],\n",
      "        [40.9600,  6.4000],\n",
      "        [18.4900, -4.3000]])\n",
      "y : tensor([[126.4000],\n",
      "        [118.7100],\n",
      "        [  9.2600],\n",
      "        [ 44.2800],\n",
      "        [  4.4900],\n",
      "        [258.9200],\n",
      "        [  2.4800],\n",
      "        [  9.9600],\n",
      "        [ 85.2600],\n",
      "        [ 80.1700],\n",
      "        [242.1900],\n",
      "        [108.9900],\n",
      "        [100.4000],\n",
      "        [144.2400],\n",
      "        [ 30.6800],\n",
      "        [ 24.4800],\n",
      "        [136.7200],\n",
      "        [187.6300],\n",
      "        [183.2400],\n",
      "        [173.7300],\n",
      "        [287.1300],\n",
      "        [105.9800],\n",
      "        [ 37.7400],\n",
      "        [ 72.8300],\n",
      "        [195.2000],\n",
      "        [ 28.5400],\n",
      "        [ 29.2000],\n",
      "        [130.4100],\n",
      "        [ 52.0000],\n",
      "        [233.6700],\n",
      "        [116.1800],\n",
      "        [ 65.2300]])\n",
      "----- batch : 3 ------\n",
      "x : tensor([[ 4.3560e+01,  6.6000e+00],\n",
      "        [ 1.0000e+00, -1.0000e+00],\n",
      "        [ 1.7640e+01,  4.2000e+00],\n",
      "        [ 3.6000e-01, -6.0000e-01],\n",
      "        [ 9.6100e+00, -3.1000e+00],\n",
      "        [ 9.4090e+01,  9.7000e+00],\n",
      "        [ 1.0000e+02, -1.0000e+01],\n",
      "        [ 2.1160e+01, -4.6000e+00],\n",
      "        [ 8.1000e-01, -9.0000e-01],\n",
      "        [ 1.0000e-02,  1.0000e-01],\n",
      "        [ 1.2960e+01,  3.6000e+00],\n",
      "        [ 4.0000e-02,  2.0000e-01],\n",
      "        [ 5.0410e+01, -7.1000e+00],\n",
      "        [ 5.3290e+01,  7.3000e+00],\n",
      "        [ 8.1000e+01,  9.0000e+00],\n",
      "        [ 1.3690e+01,  3.7000e+00],\n",
      "        [ 1.2250e+01,  3.5000e+00],\n",
      "        [ 1.5210e+01, -3.9000e+00],\n",
      "        [ 4.0000e+00, -2.0000e+00],\n",
      "        [ 1.7640e+01, -4.2000e+00],\n",
      "        [ 2.5000e+01,  5.0000e+00],\n",
      "        [ 3.3640e+01, -5.8000e+00],\n",
      "        [ 4.9000e+01, -7.0000e+00],\n",
      "        [ 7.2900e+00,  2.7000e+00],\n",
      "        [ 7.9210e+01, -8.9000e+00],\n",
      "        [ 7.3960e+01,  8.6000e+00],\n",
      "        [ 2.0250e+01, -4.5000e+00],\n",
      "        [ 1.0000e+00,  1.0000e+00],\n",
      "        [ 6.4000e+01, -8.0000e+00],\n",
      "        [ 2.2090e+01, -4.7000e+00],\n",
      "        [ 6.7240e+01, -8.2000e+00],\n",
      "        [ 9.6100e+00,  3.1000e+00]])\n",
      "y : tensor([[ 1.2407e+02],\n",
      "        [ 5.2400e+00],\n",
      "        [ 4.8370e+01],\n",
      "        [ 2.4800e+00],\n",
      "        [ 3.5570e+01],\n",
      "        [ 2.7531e+02],\n",
      "        [ 3.2779e+02],\n",
      "        [ 7.3940e+01],\n",
      "        [ 4.4500e+00],\n",
      "        [ 6.6000e-01],\n",
      "        [ 3.4250e+01],\n",
      "        [-7.0000e-02],\n",
      "        [ 1.6898e+02],\n",
      "        [ 1.5287e+02],\n",
      "        [ 2.3676e+02],\n",
      "        [ 3.6300e+01],\n",
      "        [ 3.2270e+01],\n",
      "        [ 5.4030e+01],\n",
      "        [ 1.6520e+01],\n",
      "        [ 6.2670e+01],\n",
      "        [ 6.9670e+01],\n",
      "        [ 1.1462e+02],\n",
      "        [ 1.6417e+02],\n",
      "        [ 1.8260e+01],\n",
      "        [ 2.6085e+02],\n",
      "        [ 2.1506e+02],\n",
      "        [ 7.1090e+01],\n",
      "        [ 2.0000e+00],\n",
      "        [ 2.1267e+02],\n",
      "        [ 7.6660e+01],\n",
      "        [ 2.2266e+02],\n",
      "        [ 2.5040e+01]])\n",
      "----- batch : 4 ------\n",
      "x : tensor([[ 1.6900, -1.3000],\n",
      "        [25.0000, -5.0000],\n",
      "        [53.2900, -7.3000],\n",
      "        [96.0400,  9.8000],\n",
      "        [ 6.7600, -2.6000],\n",
      "        [19.3600, -4.4000],\n",
      "        [ 9.0000, -3.0000],\n",
      "        [ 0.8100,  0.9000],\n",
      "        [ 0.3600,  0.6000],\n",
      "        [24.0100,  4.9000],\n",
      "        [ 4.8400,  2.2000],\n",
      "        [ 0.4900,  0.7000],\n",
      "        [ 6.2500,  2.5000],\n",
      "        [62.4100,  7.9000],\n",
      "        [20.2500,  4.5000],\n",
      "        [39.6900, -6.3000],\n",
      "        [70.5600,  8.4000],\n",
      "        [56.2500,  7.5000],\n",
      "        [ 3.2400, -1.8000],\n",
      "        [16.8100, -4.1000],\n",
      "        [ 2.8900,  1.7000],\n",
      "        [14.4400,  3.8000],\n",
      "        [ 0.1600, -0.4000],\n",
      "        [44.8900, -6.7000],\n",
      "        [77.4400, -8.8000],\n",
      "        [65.6100,  8.1000],\n",
      "        [ 1.2100, -1.1000],\n",
      "        [90.2500,  9.5000],\n",
      "        [16.0000,  4.0000],\n",
      "        [ 8.4100,  2.9000],\n",
      "        [49.0000,  7.0000],\n",
      "        [32.4900, -5.7000]])\n",
      "y : tensor([[7.7600e+00],\n",
      "        [8.6290e+01],\n",
      "        [1.7773e+02],\n",
      "        [2.8140e+02],\n",
      "        [2.6200e+01],\n",
      "        [6.7570e+01],\n",
      "        [3.3010e+01],\n",
      "        [1.4000e+00],\n",
      "        [2.6000e-01],\n",
      "        [6.6420e+01],\n",
      "        [1.1400e+01],\n",
      "        [8.6000e-01],\n",
      "        [1.5790e+01],\n",
      "        [1.8090e+02],\n",
      "        [5.5350e+01],\n",
      "        [1.3380e+02],\n",
      "        [2.0447e+02],\n",
      "        [1.6194e+02],\n",
      "        [1.3580e+01],\n",
      "        [5.9110e+01],\n",
      "        [6.6200e+00],\n",
      "        [3.8770e+01],\n",
      "        [1.5500e+00],\n",
      "        [1.5124e+02],\n",
      "        [2.5601e+02],\n",
      "        [1.8965e+02],\n",
      "        [6.4800e+00],\n",
      "        [2.6380e+02],\n",
      "        [4.3640e+01],\n",
      "        [2.1180e+01],\n",
      "        [1.4039e+02],\n",
      "        [1.1070e+02]])\n",
      "----- batch : 5 ------\n",
      "x : tensor([[ 1.0000e-02, -1.0000e-01],\n",
      "        [ 6.0840e+01,  7.8000e+00],\n",
      "        [ 6.7600e+00,  2.6000e+00],\n",
      "        [ 1.1560e+01, -3.4000e+00],\n",
      "        [ 3.4810e+01,  5.9000e+00],\n",
      "        [ 7.8400e+00,  2.8000e+00],\n",
      "        [ 2.1160e+01,  4.6000e+00],\n",
      "        [ 0.0000e+00,  0.0000e+00],\n",
      "        [ 3.2490e+01,  5.7000e+00],\n",
      "        [ 4.4100e+00,  2.1000e+00],\n",
      "        [ 6.8890e+01,  8.3000e+00],\n",
      "        [ 5.4760e+01,  7.4000e+00],\n",
      "        [ 5.2900e+00,  2.3000e+00],\n",
      "        [ 7.7440e+01,  8.8000e+00],\n",
      "        [ 1.9600e+00, -1.4000e+00],\n",
      "        [ 4.7610e+01, -6.9000e+00],\n",
      "        [ 1.4400e+00,  1.2000e+00],\n",
      "        [ 2.2090e+01,  4.7000e+00],\n",
      "        [ 1.2100e+00,  1.1000e+00],\n",
      "        [ 2.7040e+01,  5.2000e+00],\n",
      "        [ 4.0960e+01, -6.4000e+00],\n",
      "        [ 1.0240e+01,  3.2000e+00],\n",
      "        [ 5.9290e+01,  7.7000e+00],\n",
      "        [ 8.6490e+01, -9.3000e+00],\n",
      "        [ 4.8400e+00, -2.2000e+00],\n",
      "        [ 1.2960e+01, -3.6000e+00],\n",
      "        [ 4.4100e+00, -2.1000e+00],\n",
      "        [ 9.8010e+01, -9.9000e+00],\n",
      "        [ 6.4000e+01,  8.0000e+00],\n",
      "        [ 5.7600e+00,  2.4000e+00],\n",
      "        [ 6.8890e+01, -8.3000e+00],\n",
      "        [ 1.6000e-01,  4.0000e-01]])\n",
      "y : tensor([[6.8000e-01],\n",
      "        [1.7580e+02],\n",
      "        [1.7170e+01],\n",
      "        [4.2470e+01],\n",
      "        [9.8130e+01],\n",
      "        [2.0370e+01],\n",
      "        [5.8110e+01],\n",
      "        [1.5000e-01],\n",
      "        [9.1470e+01],\n",
      "        [1.0470e+01],\n",
      "        [1.9990e+02],\n",
      "        [1.5728e+02],\n",
      "        [1.3020e+01],\n",
      "        [2.2595e+02],\n",
      "        [8.5900e+00],\n",
      "        [1.6009e+02],\n",
      "        [2.8300e+00],\n",
      "        [6.1010e+01],\n",
      "        [2.7600e+00],\n",
      "        [7.5120e+01],\n",
      "        [1.3810e+02],\n",
      "        [2.6840e+01],\n",
      "        [1.7126e+02],\n",
      "        [2.8470e+02],\n",
      "        [1.9080e+01],\n",
      "        [4.7150e+01],\n",
      "        [1.7660e+01],\n",
      "        [3.2139e+02],\n",
      "        [1.8487e+02],\n",
      "        [1.3810e+01],\n",
      "        [2.2818e+02],\n",
      "        [4.1000e-01]])\n",
      "----- batch : 6 ------\n",
      "x : tensor([[ 3.9690e+01,  6.3000e+00],\n",
      "        [ 2.8090e+01,  5.3000e+00],\n",
      "        [ 6.2410e+01, -7.9000e+00],\n",
      "        [ 5.1840e+01,  7.2000e+00],\n",
      "        [ 2.7040e+01, -5.2000e+00],\n",
      "        [ 4.9000e-01, -7.0000e-01],\n",
      "        [ 1.6000e+01, -4.0000e+00],\n",
      "        [ 2.8900e+00, -1.7000e+00],\n",
      "        [ 2.5600e+00,  1.6000e+00],\n",
      "        [ 7.3960e+01, -8.6000e+00],\n",
      "        [ 9.0250e+01, -9.5000e+00],\n",
      "        [ 2.3040e+01,  4.8000e+00],\n",
      "        [ 1.6810e+01,  4.1000e+00],\n",
      "        [ 3.3640e+01,  5.8000e+00],\n",
      "        [ 9.0000e+00,  3.0000e+00],\n",
      "        [ 2.5600e+00, -1.6000e+00],\n",
      "        [ 9.0000e-02, -3.0000e-01],\n",
      "        [ 1.9360e+01,  4.4000e+00],\n",
      "        [ 9.4090e+01, -9.7000e+00],\n",
      "        [ 3.0250e+01, -5.5000e+00],\n",
      "        [ 1.3690e+01, -3.7000e+00],\n",
      "        [ 9.6040e+01, -9.8000e+00],\n",
      "        [ 9.2160e+01,  9.6000e+00],\n",
      "        [ 3.6100e+00, -1.9000e+00],\n",
      "        [ 6.4000e-01, -8.0000e-01],\n",
      "        [ 7.5690e+01, -8.7000e+00],\n",
      "        [ 7.2900e+00, -2.7000e+00],\n",
      "        [ 8.4640e+01, -9.2000e+00],\n",
      "        [ 4.6240e+01, -6.8000e+00],\n",
      "        [ 3.6100e+00,  1.9000e+00],\n",
      "        [ 1.8490e+01,  4.3000e+00],\n",
      "        [ 3.1360e+01,  5.6000e+00]])\n",
      "y : tensor([[113.3000],\n",
      "        [ 78.5900],\n",
      "        [207.5900],\n",
      "        [149.1800],\n",
      "        [ 92.9100],\n",
      "        [  2.9800],\n",
      "        [ 56.7600],\n",
      "        [ 12.7900],\n",
      "        [  6.0700],\n",
      "        [244.2000],\n",
      "        [296.4100],\n",
      "        [ 63.3300],\n",
      "        [ 45.5200],\n",
      "        [ 95.0500],\n",
      "        [ 23.6100],\n",
      "        [ 11.2500],\n",
      "        [  1.4900],\n",
      "        [ 53.2700],\n",
      "        [308.5100],\n",
      "        [103.5500],\n",
      "        [ 49.6900],\n",
      "        [314.4800],\n",
      "        [269.8500],\n",
      "        [ 15.2300],\n",
      "        [  3.8700],\n",
      "        [250.0600],\n",
      "        [ 27.6000],\n",
      "        [278.3300],\n",
      "        [155.4300],\n",
      "        [  8.8500],\n",
      "        [ 50.0800],\n",
      "        [ 88.2700]])\n"
     ]
    }
   ],
   "source": [
    "train_dataset = CustomDataset('./non_linear.csv')\n",
    "train_loader = DataLoader(train_dataset, batch_size = 32, shuffle = True, drop_last = True)\n",
    "\n",
    "'''\n",
    "32 batch\n",
    "'''\n",
    "for batch, i in zip(train_loader, range(6)):\n",
    "    x, y = batch\n",
    "    print(f'----- batch : {i+1} ------')\n",
    "    print(f'x : {x}')\n",
    "    print(f'y : {y}')"
   ]
  },
  {
   "cell_type": "code",
   "execution_count": 174,
   "id": "4f7bc890-d5b6-468b-8b36-a837a5720c1b",
   "metadata": {
    "scrolled": true
   },
   "outputs": [
    {
     "name": "stdout",
     "output_type": "stream",
     "text": [
      "Epoch : 1000, Model : [Parameter containing:\n",
      "tensor([[ 3.1029, -1.6867]], device='cuda:0', requires_grad=True), Parameter containing:\n",
      "tensor([0.3214], device='cuda:0', requires_grad=True)], Cost : 0.097\n",
      "Epoch : 2000, Model : [Parameter containing:\n",
      "tensor([[ 3.1017, -1.6885]], device='cuda:0', requires_grad=True), Parameter containing:\n",
      "tensor([0.3923], device='cuda:0', requires_grad=True)], Cost : 0.081\n",
      "Epoch : 3000, Model : [Parameter containing:\n",
      "tensor([[ 3.1008, -1.6899]], device='cuda:0', requires_grad=True), Parameter containing:\n",
      "tensor([0.4466], device='cuda:0', requires_grad=True)], Cost : 0.071\n",
      "Epoch : 4000, Model : [Parameter containing:\n",
      "tensor([[ 3.1001, -1.6909]], device='cuda:0', requires_grad=True), Parameter containing:\n",
      "tensor([0.4882], device='cuda:0', requires_grad=True)], Cost : 0.065\n",
      "Epoch : 5000, Model : [Parameter containing:\n",
      "tensor([[ 3.0995, -1.6917]], device='cuda:0', requires_grad=True), Parameter containing:\n",
      "tensor([0.5200], device='cuda:0', requires_grad=True)], Cost : 0.061\n",
      "Epoch : 6000, Model : [Parameter containing:\n",
      "tensor([[ 3.0991, -1.6924]], device='cuda:0', requires_grad=True), Parameter containing:\n",
      "tensor([0.5444], device='cuda:0', requires_grad=True)], Cost : 0.059\n",
      "Epoch : 7000, Model : [Parameter containing:\n",
      "tensor([[ 3.0988, -1.6928]], device='cuda:0', requires_grad=True), Parameter containing:\n",
      "tensor([0.5631], device='cuda:0', requires_grad=True)], Cost : 0.058\n",
      "Epoch : 8000, Model : [Parameter containing:\n",
      "tensor([[ 3.0985, -1.6932]], device='cuda:0', requires_grad=True), Parameter containing:\n",
      "tensor([0.5774], device='cuda:0', requires_grad=True)], Cost : 0.058\n",
      "Epoch : 9000, Model : [Parameter containing:\n",
      "tensor([[ 3.0984, -1.6935]], device='cuda:0', requires_grad=True), Parameter containing:\n",
      "tensor([0.5883], device='cuda:0', requires_grad=True)], Cost : 0.057\n",
      "Epoch : 10000, Model : [Parameter containing:\n",
      "tensor([[ 3.0982, -1.6937]], device='cuda:0', requires_grad=True), Parameter containing:\n",
      "tensor([0.5967], device='cuda:0', requires_grad=True)], Cost : 0.057\n"
     ]
    }
   ],
   "source": [
    "train_loader = DataLoader(train_dataset, batch_size = 128, shuffle = True, drop_last = True)\n",
    "\n",
    "device = \"cuda\" if torch.cuda.is_available() else \"cpu\"\n",
    "model = CustomModel().to(device)\n",
    "criterion = nn.MSELoss().to(device)\n",
    "optimizer = optim.SGD(model.parameters(),lr = 0.0001)\n",
    "\n",
    "for epoch in range(10000):\n",
    "    cost = 0.0\n",
    "    \n",
    "    for batch in train_dataloader:\n",
    "        x = x.to(device)\n",
    "        y = y.to(device)\n",
    "        \n",
    "        output = model(x)\n",
    "        loss = criterion(output,y)\n",
    "        \n",
    "        optimizer.zero_grad()\n",
    "        loss.backward()\n",
    "        optimizer.step()\n",
    "        \n",
    "        cost += loss\n",
    "    cost = cost/len(train_dataloader)\n",
    "    \n",
    "    if (epoch + 1) % 1000 == 0:\n",
    "        print(f'Epoch : {epoch+1:4d}, Model : {list(model.parameters())}, Cost : {cost:.3f}')"
   ]
  },
  {
   "cell_type": "markdown",
   "id": "44c7f3f4-b09c-4f1f-89f8-ffd8534b0b8e",
   "metadata": {},
   "source": [
    "<y_hat = 3.0982*(x**2) - 1.6937*x + 0.5967>"
   ]
  },
  {
   "cell_type": "markdown",
   "id": "0a2cab9d-039d-4c27-8390-dcdc0c6ee70d",
   "metadata": {},
   "source": [
    "* 모델 평가"
   ]
  },
  {
   "cell_type": "code",
   "execution_count": 175,
   "id": "253f12e4-3b02-44c7-af2d-5e064dafec6f",
   "metadata": {},
   "outputs": [
    {
     "name": "stdout",
     "output_type": "stream",
     "text": [
      "tensor([[  2.0012],\n",
      "        [ 69.5837],\n",
      "        [356.8502]], device='cuda:0')\n"
     ]
    }
   ],
   "source": [
    "# no_grad로 기울기계산을 비활성화해야 메모리 사용량을 줄임\n",
    "\n",
    "with torch.no_grad():\n",
    "    model.eval()\n",
    "    inputs = torch.FloatTensor(\n",
    "        [\n",
    "            [1**2, 1],\n",
    "            [5**2, 5],\n",
    "            [11**2, 11]\n",
    "        ]\n",
    "    ).to(device)\n",
    "    outputs = model(inputs)\n",
    "    print(outputs)"
   ]
  },
  {
   "cell_type": "markdown",
   "id": "57e0c23e-035f-41e7-820a-158ad0d0c70d",
   "metadata": {},
   "source": [
    "* 모델 저장"
   ]
  },
  {
   "cell_type": "code",
   "execution_count": 176,
   "id": "13f9a167-2990-45cf-81d1-f18dccae543f",
   "metadata": {},
   "outputs": [],
   "source": [
    "torch.save(\n",
    "    model,\n",
    "    './first_model.pt'\n",
    ")"
   ]
  },
  {
   "cell_type": "code",
   "execution_count": 177,
   "id": "b28b5994-520d-4ef2-8ee5-1e8c4f9ab44d",
   "metadata": {},
   "outputs": [],
   "source": [
    "torch.save(\n",
    "    model.state_dict(),\n",
    "    './first_model_state_dict.pt'\n",
    ")"
   ]
  },
  {
   "cell_type": "markdown",
   "id": "87d042ba-5705-4dce-8bd5-8316fd3bd2e9",
   "metadata": {
    "jp-MarkdownHeadingCollapsed": true
   },
   "source": [
    "# 데이터세트 분리"
   ]
  },
  {
   "cell_type": "code",
   "execution_count": 194,
   "id": "f12774ef-5802-48c3-8a4c-c6e7db50330e",
   "metadata": {},
   "outputs": [],
   "source": [
    "import torch\n",
    "import pandas as pd\n",
    "from torch import nn\n",
    "from torch import optim\n",
    "from torch.utils.data import Dataset, DataLoader, random_split"
   ]
  },
  {
   "cell_type": "code",
   "execution_count": 195,
   "id": "f2501926-267d-4eda-80ea-cc2fefd8cbb2",
   "metadata": {},
   "outputs": [],
   "source": [
    "class CustomDataset(Dataset):\n",
    "    def __init__(self, file_path):\n",
    "        df = pd.read_csv(file_path)\n",
    "        self.x = df.iloc[:,0].values\n",
    "        self.y = df.iloc[:,1].values\n",
    "        self.length = len(df)\n",
    "    \n",
    "    def __getitem__(self, index):\n",
    "        x = torch.FloatTensor([self.x[index]**2, self.x[index]])\n",
    "        y = torch.FloatTensor([self.y[index]])\n",
    "        return x,y\n",
    "    \n",
    "    def __len__(self):\n",
    "        return self.length"
   ]
  },
  {
   "cell_type": "code",
   "execution_count": 196,
   "id": "49ae5b50-68c2-4015-9258-a5b821efc63c",
   "metadata": {},
   "outputs": [],
   "source": [
    "class CustomModel(nn.Module):\n",
    "    def __init__(self):\n",
    "        super().__init__()\n",
    "        self.layer = nn.Linear(2,1)\n",
    "    \n",
    "    def forward(self, x):\n",
    "        x = self.layer(x)\n",
    "        return x"
   ]
  },
  {
   "cell_type": "markdown",
   "id": "f41ff3d8-e330-4a1b-95ef-82d0ded3f90b",
   "metadata": {},
   "source": [
    "torch.utils.random_split(dataset, length, generator)"
   ]
  },
  {
   "cell_type": "code",
   "execution_count": 198,
   "id": "0a650937-f3ce-44ce-b799-1842687c7b33",
   "metadata": {},
   "outputs": [
    {
     "name": "stdout",
     "output_type": "stream",
     "text": [
      "Training Data Size : 160\n",
      "Val Data Size : 20\n",
      "Test Data Size : 20\n"
     ]
    }
   ],
   "source": [
    "dataset = CustomDataset('./non_linear.csv')\n",
    "dataset_size = len(dataset)\n",
    "train_size =  int(dataset_size * 0.8)\n",
    "val_size = int(dataset_size * 0.1)\n",
    "test_size = dataset_size - train_size - val_size\n",
    "\n",
    "train_dataset, val_dataset, test_dataset = random_split(dataset, [train_size, val_size, test_size])\n",
    "\n",
    "print(f\"Training Data Size : {len(train_dataset)}\")\n",
    "print(f\"Val Data Size : {len(val_dataset)}\")\n",
    "print(f\"Test Data Size : {len(test_dataset)}\")\n",
    "\n",
    "train_dataloader = DataLoader(train_dataset, batch_size = 16, shuffle = True, drop_last = True)\n",
    "val_dataloader = DataLoader(val_dataset, batch_size = 4, shuffle = True, drop_last = True)\n",
    "test_dataloader =  DataLoader(test_dataset, batch_size = 4, shuffle = True, drop_last = True)"
   ]
  },
  {
   "cell_type": "code",
   "execution_count": 199,
   "id": "ea64c051-651a-4372-86d0-894b0b893b5b",
   "metadata": {},
   "outputs": [],
   "source": [
    "device = \"cuda\" if torch.cuda.is_available() else \"cpu\"\n",
    "model = CustomModel().to(device)\n",
    "criterion = nn.MSELoss().to(device)\n",
    "optimizer = optim.SGD(model.parameters(), lr = 0.0001)"
   ]
  },
  {
   "cell_type": "code",
   "execution_count": 200,
   "id": "a9ae161c-68d8-4d69-8133-fd85418b47f6",
   "metadata": {
    "scrolled": true
   },
   "outputs": [
    {
     "name": "stdout",
     "output_type": "stream",
     "text": [
      "Epoch : 1000, Model : [Parameter containing:\n",
      "tensor([[ 3.1019, -1.7045]], device='cuda:0', requires_grad=True), Parameter containing:\n",
      "tensor([0.3837], device='cuda:0', requires_grad=True)], Cost : 0.084\n",
      "Epoch : 2000, Model : [Parameter containing:\n",
      "tensor([[ 3.1008, -1.7047]], device='cuda:0', requires_grad=True), Parameter containing:\n",
      "tensor([0.4603], device='cuda:0', requires_grad=True)], Cost : 0.078\n",
      "Epoch : 3000, Model : [Parameter containing:\n",
      "tensor([[ 3.0999, -1.7045]], device='cuda:0', requires_grad=True), Parameter containing:\n",
      "tensor([0.4905], device='cuda:0', requires_grad=True)], Cost : 0.076\n",
      "Epoch : 4000, Model : [Parameter containing:\n",
      "tensor([[ 3.0994, -1.7048]], device='cuda:0', requires_grad=True), Parameter containing:\n",
      "tensor([0.5025], device='cuda:0', requires_grad=True)], Cost : 0.076\n",
      "Epoch : 5000, Model : [Parameter containing:\n",
      "tensor([[ 3.0996, -1.7048]], device='cuda:0', requires_grad=True), Parameter containing:\n",
      "tensor([0.5073], device='cuda:0', requires_grad=True)], Cost : 0.077\n",
      "Epoch : 6000, Model : [Parameter containing:\n",
      "tensor([[ 3.1008, -1.7048]], device='cuda:0', requires_grad=True), Parameter containing:\n",
      "tensor([0.5092], device='cuda:0', requires_grad=True)], Cost : 0.076\n",
      "Epoch : 7000, Model : [Parameter containing:\n",
      "tensor([[ 3.0993, -1.7049]], device='cuda:0', requires_grad=True), Parameter containing:\n",
      "tensor([0.5099], device='cuda:0', requires_grad=True)], Cost : 0.079\n",
      "Epoch : 8000, Model : [Parameter containing:\n",
      "tensor([[ 3.0991, -1.7049]], device='cuda:0', requires_grad=True), Parameter containing:\n",
      "tensor([0.5102], device='cuda:0', requires_grad=True)], Cost : 0.077\n",
      "Epoch : 9000, Model : [Parameter containing:\n",
      "tensor([[ 3.0997, -1.7049]], device='cuda:0', requires_grad=True), Parameter containing:\n",
      "tensor([0.5103], device='cuda:0', requires_grad=True)], Cost : 0.077\n",
      "Epoch : 10000, Model : [Parameter containing:\n",
      "tensor([[ 3.1000, -1.7049]], device='cuda:0', requires_grad=True), Parameter containing:\n",
      "tensor([0.5104], device='cuda:0', requires_grad=True)], Cost : 0.079\n"
     ]
    }
   ],
   "source": [
    "for epoch in range(10000):\n",
    "    cost = 0.0\n",
    "    for x,y in train_dataloader:\n",
    "        x = x.to(device)\n",
    "        y = y.to(device)\n",
    "       \n",
    "        output = model(x)\n",
    "        loss = criterion(output, y)\n",
    "        \n",
    "        optimizer.zero_grad()\n",
    "        loss.backward()\n",
    "        optimizer.step()\n",
    "        \n",
    "        cost += loss\n",
    "    cost = cost/len(train_dataloader)\n",
    "    \n",
    "    if (epoch+1) % 1000 == 0:\n",
    "        print(f\"Epoch : {epoch+1:4d}, Model : {list(model.parameters())}, Cost : {cost:.3f}\")"
   ]
  },
  {
   "cell_type": "markdown",
   "id": "de5ca781-ed78-4a3e-aacc-69539699e0f4",
   "metadata": {},
   "source": [
    "y = 3.1000*(x**2) - 1.7049*x + 0.5104"
   ]
  },
  {
   "cell_type": "code",
   "execution_count": 201,
   "id": "60bb6bf5-408b-40af-8b25-41e94ebbdb44",
   "metadata": {
    "scrolled": true
   },
   "outputs": [
    {
     "name": "stdout",
     "output_type": "stream",
     "text": [
      "X : tensor([[44.8900, -6.7000],\n",
      "        [ 9.6100,  3.1000],\n",
      "        [21.1600,  4.6000],\n",
      "        [ 0.0900, -0.3000]], device='cuda:0')\n",
      "Y : tensor([[151.2400],\n",
      "        [ 25.0400],\n",
      "        [ 58.1100],\n",
      "        [  1.4900]], device='cuda:0')\n",
      "Outputs : tensor([[151.0943],\n",
      "        [ 25.0166],\n",
      "        [ 58.2648],\n",
      "        [  1.3008]], device='cuda:0')\n",
      "---------------------\n",
      "X : tensor([[ 5.0410e+01,  7.1000e+00],\n",
      "        [ 5.3290e+01, -7.3000e+00],\n",
      "        [ 4.0000e-02, -2.0000e-01],\n",
      "        [ 5.1840e+01, -7.2000e+00]], device='cuda:0')\n",
      "Y : tensor([[144.2400],\n",
      "        [177.7300],\n",
      "        [  1.0400],\n",
      "        [173.7300]], device='cuda:0')\n",
      "Outputs : tensor([[144.6788],\n",
      "        [178.1576],\n",
      "        [  0.9753],\n",
      "        [173.4920]], device='cuda:0')\n",
      "---------------------\n",
      "X : tensor([[43.5600, -6.6000],\n",
      "        [42.2500,  6.5000],\n",
      "        [10.8900, -3.3000],\n",
      "        [ 8.4100,  2.9000]], device='cuda:0')\n",
      "Y : tensor([[146.3200],\n",
      "        [119.9600],\n",
      "        [ 39.7100],\n",
      "        [ 21.1800]], device='cuda:0')\n",
      "Outputs : tensor([[146.8007],\n",
      "        [120.4054],\n",
      "        [ 39.8960],\n",
      "        [ 21.6375]], device='cuda:0')\n",
      "---------------------\n",
      "X : tensor([[98.0100, -9.9000],\n",
      "        [40.9600, -6.4000],\n",
      "        [27.0400, -5.2000],\n",
      "        [70.5600, -8.4000]], device='cuda:0')\n",
      "Y : tensor([[321.3900],\n",
      "        [138.1000],\n",
      "        [ 92.9100],\n",
      "        [233.6700]], device='cuda:0')\n",
      "Outputs : tensor([[321.2243],\n",
      "        [138.3996],\n",
      "        [ 93.2011],\n",
      "        [233.5707]], device='cuda:0')\n",
      "---------------------\n",
      "X : tensor([[60.8400, -7.8000],\n",
      "        [50.4100, -7.1000],\n",
      "        [23.0400, -4.8000],\n",
      "        [70.5600,  8.4000]], device='cuda:0')\n",
      "Y : tensor([[202.0200],\n",
      "        [168.9800],\n",
      "        [ 80.1700],\n",
      "        [204.4700]], device='cuda:0')\n",
      "Outputs : tensor([[202.4154],\n",
      "        [168.8885],\n",
      "        [ 80.1189],\n",
      "        [204.9284]], device='cuda:0')\n",
      "---------------------\n"
     ]
    }
   ],
   "source": [
    "with torch.no_grad():\n",
    "    model.eval()\n",
    "    for x,y in val_dataloader:\n",
    "        x = x.to(device)\n",
    "        y = y.to(device)\n",
    "        \n",
    "        outputs = model(x)\n",
    "        print(f'X : {x}')\n",
    "        print(f'Y : {y}')\n",
    "        print(f'Outputs : {outputs}')\n",
    "        print('---------------------')"
   ]
  },
  {
   "cell_type": "markdown",
   "id": "8f9df3d2-66cb-4a6d-b8f9-c35eca5ab2f8",
   "metadata": {
    "jp-MarkdownHeadingCollapsed": true
   },
   "source": [
    "# 모델 호출하기"
   ]
  },
  {
   "cell_type": "markdown",
   "id": "54ad53b6-fbaf-472c-84d0-10f8973560b8",
   "metadata": {},
   "source": [
    "* torch.save()\n",
    "* torch.load(path = '__경로__', map_location = '__장치__')"
   ]
  },
  {
   "cell_type": "code",
   "execution_count": 202,
   "id": "f4c819fb-4f25-4b5f-9846-432ce533c5e8",
   "metadata": {},
   "outputs": [],
   "source": [
    "import torch\n",
    "from torch import nn\n",
    "\n",
    "# 이전에 저장했던 모델의 구조\n",
    "# 저장한 모델을 호출하기 위헤서는 비슷한 구조의 모델클래스가 정의 되어있어야함\n",
    "# 없다면 오류발생\n",
    "\n",
    "class CustomModel(nn.Module):\n",
    "    def __init__(self):\n",
    "        super().__init__()\n",
    "        self.layer = nn.Linear(2,1)\n",
    "    \n",
    "    def forward(self,x):\n",
    "        x = self.layer(x)\n",
    "        return x"
   ]
  },
  {
   "cell_type": "code",
   "execution_count": 204,
   "id": "8983648d-c3d9-4bfb-9122-c6b4ee8d6d59",
   "metadata": {},
   "outputs": [
    {
     "name": "stdout",
     "output_type": "stream",
     "text": [
      "CustomModel(\n",
      "  (layer): Linear(in_features=2, out_features=1, bias=True)\n",
      ")\n"
     ]
    }
   ],
   "source": [
    "device = \"cuda\" if torch.cuda.is_available() else \"cpu\"\n",
    "model = torch.load('./first_model.pt', map_location = device)\n",
    "print(model)"
   ]
  },
  {
   "cell_type": "code",
   "execution_count": 205,
   "id": "5e14a7ec-56ac-483c-bc7d-51e5d0ef1618",
   "metadata": {},
   "outputs": [
    {
     "name": "stdout",
     "output_type": "stream",
     "text": [
      "tensor([[  2.0012],\n",
      "        [ 69.5837],\n",
      "        [356.8502]], device='cuda:0')\n"
     ]
    }
   ],
   "source": [
    "with torch.no_grad():\n",
    "    model.eval()\n",
    "    inputs = torch.FloatTensor(\n",
    "        [\n",
    "            [1**2, 1],\n",
    "            [5**2, 5],\n",
    "            [11**2, 11]\n",
    "        ]\n",
    "    ).to(device)\n",
    "    outputs = model(inputs)\n",
    "    print(outputs)"
   ]
  },
  {
   "cell_type": "markdown",
   "id": "2a3a7335-e7c9-4da9-8aee-6efdd2e9d5b1",
   "metadata": {},
   "source": [
    "* 모델구조확인\n",
    "* 모델 전체 파일은 가지고 있으나 모델 구조를 알 수 없는 경우에는 모델 구조를 출력해서 확인할 수 있음 "
   ]
  },
  {
   "cell_type": "code",
   "execution_count": 208,
   "id": "3a933555-be75-4878-8cad-1ccb49e98091",
   "metadata": {},
   "outputs": [
    {
     "name": "stdout",
     "output_type": "stream",
     "text": [
      "CustomModel(\n",
      "  (layer): Linear(in_features=2, out_features=1, bias=True)\n",
      ")\n"
     ]
    }
   ],
   "source": [
    "import torch\n",
    "from torch import nn\n",
    "\n",
    "class CustomModel(nn.Module):\n",
    "    pass\n",
    "\n",
    "device = \"cuda\" if torch.cuda.is_available() else \"cpu\"\n",
    "model = torch.load('./first_model.pt', map_location = device)\n",
    "print(model)"
   ]
  },
  {
   "cell_type": "markdown",
   "id": "5196dde6-2662-4721-a6b9-f5b1a159c7ab",
   "metadata": {},
   "source": [
    "* 모델 상태 불러오기"
   ]
  },
  {
   "cell_type": "code",
   "execution_count": 209,
   "id": "a68a6831-a788-4628-ac49-52218202552a",
   "metadata": {},
   "outputs": [],
   "source": [
    "import torch\n",
    "from torch import nn\n",
    "\n",
    "class CustomModel(nn.Module):\n",
    "    def __init__(self):\n",
    "        super().__init__()\n",
    "        self.layer = nn.Linear(2,1)\n",
    "    \n",
    "    def forward(self, x):\n",
    "        x = self.layer(x)\n",
    "        return x"
   ]
  },
  {
   "cell_type": "code",
   "execution_count": 217,
   "id": "8079e591-9449-4cea-a0ab-bec99fa0ac70",
   "metadata": {},
   "outputs": [
    {
     "name": "stdout",
     "output_type": "stream",
     "text": [
      "OrderedDict([('layer.weight', tensor([[ 3.0982, -1.6937]], device='cuda:0')), ('layer.bias', tensor([0.5967], device='cuda:0'))])\n",
      "CustomModel(\n",
      "  (layer): Linear(in_features=2, out_features=1, bias=True)\n",
      ")\n",
      "tensor([[  2.0012],\n",
      "        [ 69.5837],\n",
      "        [356.8502]], device='cuda:0')\n"
     ]
    }
   ],
   "source": [
    "device = \"cuda\" if torch.cuda.is_available() else \"cpu\"\n",
    "model = CustomModel().to(device)\n",
    "\n",
    "model_state_dict = torch.load('./first_model_state_dict.pt', map_location = device)\n",
    "print(model_state_dict)\n",
    "\n",
    "model.load_state_dict(model_state_dict)\n",
    "print(model)\n",
    "\n",
    "with torch.no_grad():\n",
    "    model.eval()\n",
    "    inputs = torch.FloatTensor(\n",
    "        [\n",
    "            [1**2, 1],\n",
    "            [5**2, 5],\n",
    "            [11**2, 11]\n",
    "        ]\n",
    "    ).to(device)\n",
    "    outputs = model(inputs)\n",
    "    print(outputs)"
   ]
  },
  {
   "cell_type": "markdown",
   "id": "b726a5de-74a9-4409-909c-074e4c0356ba",
   "metadata": {
    "jp-MarkdownHeadingCollapsed": true
   },
   "source": [
    "# CheckPoint save"
   ]
  },
  {
   "cell_type": "code",
   "execution_count": 225,
   "id": "2ab74eab-e0a7-458c-a01c-43abf855ebf9",
   "metadata": {},
   "outputs": [],
   "source": [
    "import torch\n",
    "import pandas as pd\n",
    "from torch import nn\n",
    "from torch import optim\n",
    "from torch.utils.data import Dataset, DataLoader\n",
    "\n",
    "class CustomDataset(Dataset):\n",
    "    def __init__(self, file_path):\n",
    "        df = pd.read_csv(file_path)\n",
    "        self.x = df.iloc[:,0].values\n",
    "        self.y = df.iloc[:,1].values\n",
    "        self.length = len(df)\n",
    "        \n",
    "    def __getitem__(self, index):\n",
    "        x = torch.FloatTensor([self.x[index]**2, self.x[index]])\n",
    "        y = torch.FloatTensor([self.y[index]])\n",
    "        return x, y\n",
    "   \n",
    "    def __len__(self):\n",
    "        return self.length\n",
    "\n",
    "class CustomModel(nn.Module):\n",
    "    def __init__(self):\n",
    "        super().__init__()\n",
    "        self.layer = nn.Linear(2,1)\n",
    "    \n",
    "    def forward(self,x):\n",
    "        x = self.layer(x)\n",
    "        return x\n",
    "\n",
    "train_dataset = CustomDataset('./non_linear.csv')\n",
    "train_dataloader = DataLoader(train_dataset, batch_size = 128, shuffle = True, drop_last = True)\n",
    "\n",
    "device = \"cuda\" if torch.cuda.is_available() else \"cpu\"\n",
    "model = CustomModel().to(device)\n",
    "criterion = nn.MSELoss().to(device)\n",
    "optimizer = optim.SGD(model.parameters(), lr = 0.0001)"
   ]
  },
  {
   "cell_type": "code",
   "execution_count": 227,
   "id": "837eee56-0389-47b9-b521-6a4779702751",
   "metadata": {},
   "outputs": [],
   "source": [
    "checkpoint = 1  \n",
    "for epoch in range(10000):\n",
    "    cost = 0.0\n",
    "    for x,y in train_dataloader:\n",
    "        x = x.to(device)\n",
    "        y = y.to(device)\n",
    "        \n",
    "        output = model(x)\n",
    "        loss = criterion(output, y)\n",
    "        \n",
    "        optimizer.zero_grad()\n",
    "        loss.backward()\n",
    "        optimizer.step()\n",
    "        cost += loss\n",
    "    cost = cost / len(train_dataloader)\n",
    "    \n",
    "    if (epoch + 1) % 1000 == 0:\n",
    "        torch.save(\n",
    "            {\n",
    "                \"model\" : \"CustomModel\",\n",
    "                \"epoch\" : epoch,\n",
    "                \"model_state_dict\" : model.state_dict(),\n",
    "                \"optimizer_state_dict\" : optimizer.state_dict(),\n",
    "                \"cost\" : cost,\n",
    "                \"description\" : f\"CustomModel 체크포인트 - {checkpoint}\",\n",
    "            },\n",
    "            f\"./first_model_checkpoint/checkpoint-{checkpoint}.pt\"\n",
    "        )\n",
    "        checkpoint += 1"
   ]
  },
  {
   "cell_type": "code",
   "execution_count": 228,
   "id": "d35776d4-93a9-4176-9e64-e456f9f03c44",
   "metadata": {},
   "outputs": [
    {
     "name": "stdout",
     "output_type": "stream",
     "text": [
      "tensor([[  1.7925],\n",
      "        [ 69.4199],\n",
      "        [356.9622]], device='cuda:0')\n"
     ]
    }
   ],
   "source": [
    "with torch.no_grad():\n",
    "    model.eval()\n",
    "    inputs = torch.FloatTensor(\n",
    "        [\n",
    "            [1**2, 1],\n",
    "            [5**2, 5],\n",
    "            [11**2, 11]\n",
    "        ]\n",
    "    ).to(device)\n",
    "    outputs = model(inputs)\n",
    "    print(outputs)"
   ]
  },
  {
   "cell_type": "code",
   "execution_count": 9,
   "id": "23c1f421-b2d7-4aaa-9a9f-5d8309bab663",
   "metadata": {},
   "outputs": [
    {
     "name": "stdout",
     "output_type": "stream",
     "text": [
      "{'model': 'CustomModel', 'epoch': 2999, 'model_state_dict': OrderedDict([('layer.weight', tensor([[ 3.1034, -1.7033]], device='cuda:0')), ('layer.bias', tensor([0.3080], device='cuda:0'))]), 'optimizer_state_dict': {'state': {0: {'momentum_buffer': None}, 1: {'momentum_buffer': None}}, 'param_groups': [{'lr': 0.0001, 'momentum': 0, 'dampening': 0, 'weight_decay': 0, 'nesterov': False, 'maximize': False, 'foreach': None, 'differentiable': False, 'params': [0, 1]}]}, 'cost': tensor(0.0840, device='cuda:0', requires_grad=True), 'description': 'CustomModel 체크포인트 - 3'}\n"
     ]
    }
   ],
   "source": [
    "import torch\n",
    "device = \"cuda\" if torch.cuda.is_available() else \"cpu\"\n",
    "model = torch.load('./first_model_checkpoint/checkpoint-3.pt',map_location = device)\n",
    "print(model)"
   ]
  },
  {
   "cell_type": "markdown",
   "id": "56245dad-1bad-421a-99c7-e544df978fce",
   "metadata": {
    "jp-MarkdownHeadingCollapsed": true
   },
   "source": [
    "# Checkpoint load"
   ]
  },
  {
   "cell_type": "code",
   "execution_count": 230,
   "id": "a60af4fc-4b91-4cc3-ab6c-af9b017acc79",
   "metadata": {},
   "outputs": [],
   "source": [
    "import torch\n",
    "import pandas as pd\n",
    "from torch import nn\n",
    "from torch import optim\n",
    "from torch.utils.data import Dataset, DataLoader\n",
    "\n",
    "class CustomDataset(Dataset):\n",
    "    def __init__(self, file_path):\n",
    "        df = pd.read_csv(file_path)\n",
    "        self.x = df.iloc[:,0].values\n",
    "        self.y = df.iloc[:,1].values\n",
    "        self.length = len(df)\n",
    "    \n",
    "    def __getitem__(self, index):\n",
    "        x = torch.FloatTensor([self.x[index]**2, self.x[index]])\n",
    "        y = torch.FloatTensor([self.y[index]])\n",
    "        return x,y\n",
    "    \n",
    "    def __len__(self):\n",
    "        return self.length\n",
    "\n",
    "class CustomModel(nn.Module):\n",
    "    def __init__(self):\n",
    "        super().__init__()\n",
    "        self.layer = nn.Linear(2,1)\n",
    "    \n",
    "    def forward(self, x):\n",
    "        x = self.layer(x)\n",
    "        return x\n",
    "\n",
    "\n",
    "train_dataset = CustomDataset('./non_linear.csv')\n",
    "train_dataloader = DataLoader(train_dataset, batch_size = 128, shuffle = True, drop_last = True)\n",
    "\n",
    "device = \"cuda\" if torch.cuda.is_available() else \"cpu\"\n",
    "model = CustomModel().to(device)\n",
    "criterion = nn.MSELoss().to(device)\n",
    "optimize = optim.SGD(model.parameters(),lr = 0.0001)"
   ]
  },
  {
   "cell_type": "code",
   "execution_count": 233,
   "id": "eab4e32b-e427-44e2-ac15-7f2f9df78e52",
   "metadata": {},
   "outputs": [
    {
     "data": {
      "text/plain": [
       "{'model': 'CustomModel',\n",
       " 'epoch': 5999,\n",
       " 'model_state_dict': OrderedDict([('layer.weight',\n",
       "               tensor([[ 3.1024, -1.7031]], device='cuda:0')),\n",
       "              ('layer.bias', tensor([0.3516], device='cuda:0'))]),\n",
       " 'optimizer_state_dict': {'state': {0: {'momentum_buffer': None},\n",
       "   1: {'momentum_buffer': None}},\n",
       "  'param_groups': [{'lr': 0.0001,\n",
       "    'momentum': 0,\n",
       "    'dampening': 0,\n",
       "    'weight_decay': 0,\n",
       "    'nesterov': False,\n",
       "    'maximize': False,\n",
       "    'foreach': None,\n",
       "    'differentiable': False,\n",
       "    'params': [0, 1]}]},\n",
       " 'cost': tensor(0.0780, device='cuda:0', requires_grad=True),\n",
       " 'description': 'CustomModel 체크포인트 - 6'}"
      ]
     },
     "execution_count": 233,
     "metadata": {},
     "output_type": "execute_result"
    }
   ],
   "source": [
    "checkpoint = torch.load('./first_model_checkpoint/checkpoint-6.pt')\n",
    "checkpoint"
   ]
  },
  {
   "cell_type": "code",
   "execution_count": 234,
   "id": "7cfb0b0e-3d21-4a18-84a1-440a185d03a6",
   "metadata": {},
   "outputs": [
    {
     "name": "stdout",
     "output_type": "stream",
     "text": [
      "CustomModel 체크포인트 - 6\n"
     ]
    }
   ],
   "source": [
    "model.load_state_dict(checkpoint['model_state_dict'])\n",
    "optimizer.load_state_dict(checkpoint['optimizer_state_dict'])\n",
    "checkpoint_epoch = checkpoint['epoch']\n",
    "checkpoint_description = checkpoint['description']\n",
    "print(checkpoint_description)"
   ]
  },
  {
   "cell_type": "code",
   "execution_count": 235,
   "id": "13d965c0-834f-40b4-88ba-f7988aa4021a",
   "metadata": {},
   "outputs": [
    {
     "name": "stdout",
     "output_type": "stream",
     "text": [
      "Epoch : 7000, Model : [Parameter containing:\n",
      "tensor([[ 3.1024, -1.7031]], device='cuda:0', requires_grad=True), Parameter containing:\n",
      "tensor([0.3516], device='cuda:0', requires_grad=True)], Cost : 0.080\n",
      "Epoch : 8000, Model : [Parameter containing:\n",
      "tensor([[ 3.1024, -1.7031]], device='cuda:0', requires_grad=True), Parameter containing:\n",
      "tensor([0.3516], device='cuda:0', requires_grad=True)], Cost : 0.090\n",
      "Epoch : 9000, Model : [Parameter containing:\n",
      "tensor([[ 3.1024, -1.7031]], device='cuda:0', requires_grad=True), Parameter containing:\n",
      "tensor([0.3516], device='cuda:0', requires_grad=True)], Cost : 0.082\n",
      "Epoch : 10000, Model : [Parameter containing:\n",
      "tensor([[ 3.1024, -1.7031]], device='cuda:0', requires_grad=True), Parameter containing:\n",
      "tensor([0.3516], device='cuda:0', requires_grad=True)], Cost : 0.083\n"
     ]
    }
   ],
   "source": [
    "for epoch in range(checkpoint_epoch + 1, 10000):\n",
    "    cost = 0.0\n",
    "    for x,y in train_dataloader:\n",
    "        x = x.to(device)\n",
    "        y = y.to(device)\n",
    "    \n",
    "        output = model(x)\n",
    "        loss = criterion(output, y)\n",
    "        \n",
    "        optimizer.zero_grad()\n",
    "        loss.backward()\n",
    "        optimizer.step()\n",
    "        \n",
    "        cost += loss\n",
    "        if (epoch + 1) % 1000 == 0:\n",
    "            print(f'Epoch : {epoch+1:4d}, Model : {list(model.parameters())}, Cost : {cost:.3f}')"
   ]
  },
  {
   "cell_type": "markdown",
   "id": "6bac0765-b213-4500-b915-bc2b3de989f7",
   "metadata": {
    "jp-MarkdownHeadingCollapsed": true
   },
   "source": [
    "# 이진분류"
   ]
  },
  {
   "cell_type": "code",
   "execution_count": 236,
   "id": "241d4438-396d-4677-b596-ac77a5f4fc73",
   "metadata": {
    "scrolled": true
   },
   "outputs": [
    {
     "data": {
      "text/html": [
       "<div>\n",
       "<style scoped>\n",
       "    .dataframe tbody tr th:only-of-type {\n",
       "        vertical-align: middle;\n",
       "    }\n",
       "\n",
       "    .dataframe tbody tr th {\n",
       "        vertical-align: top;\n",
       "    }\n",
       "\n",
       "    .dataframe thead th {\n",
       "        text-align: right;\n",
       "    }\n",
       "</style>\n",
       "<table border=\"1\" class=\"dataframe\">\n",
       "  <thead>\n",
       "    <tr style=\"text-align: right;\">\n",
       "      <th></th>\n",
       "      <th>x</th>\n",
       "      <th>y</th>\n",
       "      <th>z</th>\n",
       "      <th>pass</th>\n",
       "    </tr>\n",
       "  </thead>\n",
       "  <tbody>\n",
       "    <tr>\n",
       "      <th>0</th>\n",
       "      <td>86</td>\n",
       "      <td>22</td>\n",
       "      <td>1</td>\n",
       "      <td>False</td>\n",
       "    </tr>\n",
       "    <tr>\n",
       "      <th>1</th>\n",
       "      <td>81</td>\n",
       "      <td>75</td>\n",
       "      <td>91</td>\n",
       "      <td>True</td>\n",
       "    </tr>\n",
       "    <tr>\n",
       "      <th>2</th>\n",
       "      <td>54</td>\n",
       "      <td>85</td>\n",
       "      <td>78</td>\n",
       "      <td>True</td>\n",
       "    </tr>\n",
       "    <tr>\n",
       "      <th>3</th>\n",
       "      <td>5</td>\n",
       "      <td>58</td>\n",
       "      <td>4</td>\n",
       "      <td>False</td>\n",
       "    </tr>\n",
       "    <tr>\n",
       "      <th>4</th>\n",
       "      <td>53</td>\n",
       "      <td>93</td>\n",
       "      <td>100</td>\n",
       "      <td>True</td>\n",
       "    </tr>\n",
       "    <tr>\n",
       "      <th>...</th>\n",
       "      <td>...</td>\n",
       "      <td>...</td>\n",
       "      <td>...</td>\n",
       "      <td>...</td>\n",
       "    </tr>\n",
       "    <tr>\n",
       "      <th>995</th>\n",
       "      <td>38</td>\n",
       "      <td>30</td>\n",
       "      <td>83</td>\n",
       "      <td>False</td>\n",
       "    </tr>\n",
       "    <tr>\n",
       "      <th>996</th>\n",
       "      <td>73</td>\n",
       "      <td>78</td>\n",
       "      <td>85</td>\n",
       "      <td>True</td>\n",
       "    </tr>\n",
       "    <tr>\n",
       "      <th>997</th>\n",
       "      <td>52</td>\n",
       "      <td>50</td>\n",
       "      <td>29</td>\n",
       "      <td>False</td>\n",
       "    </tr>\n",
       "    <tr>\n",
       "      <th>998</th>\n",
       "      <td>60</td>\n",
       "      <td>66</td>\n",
       "      <td>16</td>\n",
       "      <td>False</td>\n",
       "    </tr>\n",
       "    <tr>\n",
       "      <th>999</th>\n",
       "      <td>90</td>\n",
       "      <td>83</td>\n",
       "      <td>82</td>\n",
       "      <td>True</td>\n",
       "    </tr>\n",
       "  </tbody>\n",
       "</table>\n",
       "<p>1000 rows × 4 columns</p>\n",
       "</div>"
      ],
      "text/plain": [
       "      x   y    z   pass\n",
       "0    86  22    1  False\n",
       "1    81  75   91   True\n",
       "2    54  85   78   True\n",
       "3     5  58    4  False\n",
       "4    53  93  100   True\n",
       "..   ..  ..  ...    ...\n",
       "995  38  30   83  False\n",
       "996  73  78   85   True\n",
       "997  52  50   29  False\n",
       "998  60  66   16  False\n",
       "999  90  83   82   True\n",
       "\n",
       "[1000 rows x 4 columns]"
      ]
     },
     "execution_count": 236,
     "metadata": {},
     "output_type": "execute_result"
    }
   ],
   "source": [
    "import pandas as pd\n",
    "pd.read_csv('./binary.csv')"
   ]
  },
  {
   "cell_type": "code",
   "execution_count": 237,
   "id": "6e1356b1-eac1-4a42-9826-b3fe7f8fc1f2",
   "metadata": {},
   "outputs": [],
   "source": [
    "import torch\n",
    "import pandas as pd\n",
    "from torch import nn\n",
    "from torch import optim\n",
    "from torch.utils.data import Dataset, DataLoader, random_split"
   ]
  },
  {
   "cell_type": "code",
   "execution_count": 247,
   "id": "705795a5-e7b8-44f7-bc2d-81f1633f6d5c",
   "metadata": {},
   "outputs": [],
   "source": [
    "class CustomDataset(Dataset):\n",
    "    def __init__(self, file_path):\n",
    "        df = pd.read_csv(file_path)\n",
    "        self.x1 = df.iloc[:,0].values \n",
    "        self.x2 = df.iloc[:,1].values\n",
    "        self.x3 = df.iloc[:,2].values\n",
    "        self.y = df.iloc[:,3].values\n",
    "        self.length = len(df)\n",
    "    \n",
    "    def __getitem__(self, index):\n",
    "        x = torch.FloatTensor([self.x1[index], self.x2[index], self.x3[index]])\n",
    "        # BCELoss를 사용하므로\n",
    "        y = torch.FloatTensor([int(self.y[index])])\n",
    "        return x,y\n",
    "    \n",
    "    def __len__(self):\n",
    "        return self.length\n",
    "\n",
    "class CustomModel(nn.Module):\n",
    "    def __init__(self):\n",
    "        super().__init__()\n",
    "        self.layer = nn.Sequential(\n",
    "            nn.Linear(3,1),\n",
    "            nn.Sigmoid()\n",
    "        )\n",
    "        \n",
    "    def forward(self, x):\n",
    "        x = self.layer(x)\n",
    "        return x"
   ]
  },
  {
   "cell_type": "code",
   "execution_count": 248,
   "id": "7e91cc56-db2e-4542-918e-27a2efe0cb9e",
   "metadata": {},
   "outputs": [],
   "source": [
    "dataset = CustomDataset('./binary.csv')\n",
    "dataset_size = len(dataset)\n",
    "train_size = int(dataset_size * 0.8)\n",
    "val_size = int(dataset_size * 0.1)\n",
    "test_size = dataset_size - train_size - val_size\n",
    "\n",
    "train_dataset, val_dataset, test_dataset = random_split(dataset, [train_size, val_size, test_size], torch.manual_seed(4))\n",
    "train_dataloader = DataLoader(train_dataset, batch_size = 64, shuffle = True, drop_last = True)\n",
    "val_dataloader = DataLoader(val_dataset, batch_size = 4, shuffle = True, drop_last = True)\n",
    "test_dataloader = DataLoader(test_dataset, batch_size = 4, shuffle = True, drop_last = True)\n",
    "\n",
    "device = \"cuda\" if torch.cuda.is_available() else \"cpu\"\n",
    "model = CustomModel().to(device)\n",
    "criterion = nn.BCELoss().to(device)\n",
    "optimizer = optim.SGD(model.parameters(), lr = 0.0001)"
   ]
  },
  {
   "cell_type": "code",
   "execution_count": 249,
   "id": "2faedd95-853f-49fb-a40e-554cadbfd59e",
   "metadata": {
    "scrolled": true
   },
   "outputs": [
    {
     "name": "stdout",
     "output_type": "stream",
     "text": [
      "Epoch : 1000, Model : [Parameter containing:\n",
      "tensor([[ 0.0028, -0.0006,  0.0036]], device='cuda:0', requires_grad=True), Parameter containing:\n",
      "tensor([0.0949], device='cuda:0', requires_grad=True)], Cost : 0.680\n",
      "Epoch : 2000, Model : [Parameter containing:\n",
      "tensor([[0.0034, 0.0005, 0.0041]], device='cuda:0', requires_grad=True), Parameter containing:\n",
      "tensor([-0.0346], device='cuda:0', requires_grad=True)], Cost : 0.666\n",
      "Epoch : 3000, Model : [Parameter containing:\n",
      "tensor([[0.0045, 0.0017, 0.0051]], device='cuda:0', requires_grad=True), Parameter containing:\n",
      "tensor([-0.1609], device='cuda:0', requires_grad=True)], Cost : 0.652\n",
      "Epoch : 4000, Model : [Parameter containing:\n",
      "tensor([[0.0052, 0.0017, 0.0053]], device='cuda:0', requires_grad=True), Parameter containing:\n",
      "tensor([-0.2843], device='cuda:0', requires_grad=True)], Cost : 0.636\n",
      "Epoch : 5000, Model : [Parameter containing:\n",
      "tensor([[0.0059, 0.0036, 0.0064]], device='cuda:0', requires_grad=True), Parameter containing:\n",
      "tensor([-0.4046], device='cuda:0', requires_grad=True)], Cost : 0.627\n",
      "Epoch : 6000, Model : [Parameter containing:\n",
      "tensor([[0.0065, 0.0034, 0.0068]], device='cuda:0', requires_grad=True), Parameter containing:\n",
      "tensor([-0.5220], device='cuda:0', requires_grad=True)], Cost : 0.613\n",
      "Epoch : 7000, Model : [Parameter containing:\n",
      "tensor([[0.0064, 0.0036, 0.0069]], device='cuda:0', requires_grad=True), Parameter containing:\n",
      "tensor([-0.6366], device='cuda:0', requires_grad=True)], Cost : 0.604\n",
      "Epoch : 8000, Model : [Parameter containing:\n",
      "tensor([[0.0073, 0.0050, 0.0079]], device='cuda:0', requires_grad=True), Parameter containing:\n",
      "tensor([-0.7485], device='cuda:0', requires_grad=True)], Cost : 0.591\n",
      "Epoch : 9000, Model : [Parameter containing:\n",
      "tensor([[0.0074, 0.0058, 0.0082]], device='cuda:0', requires_grad=True), Parameter containing:\n",
      "tensor([-0.8577], device='cuda:0', requires_grad=True)], Cost : 0.585\n",
      "Epoch : 10000, Model : [Parameter containing:\n",
      "tensor([[0.0089, 0.0070, 0.0096]], device='cuda:0', requires_grad=True), Parameter containing:\n",
      "tensor([-0.9644], device='cuda:0', requires_grad=True)], Cost : 0.576\n"
     ]
    }
   ],
   "source": [
    "for epoch in range(10000):\n",
    "    cost = 0.0\n",
    "    for x,y in train_dataloader:\n",
    "        x = x.to(device)\n",
    "        y = y.to(device)\n",
    "        \n",
    "        output = model(x)\n",
    "        loss = criterion(output, y)\n",
    "        \n",
    "        optimizer.zero_grad()\n",
    "        loss.backward()\n",
    "        optimizer.step()\n",
    "        \n",
    "        cost += loss\n",
    "    cost = cost / len(train_dataloader)\n",
    "    \n",
    "    if (epoch + 1) % 1000 == 0:\n",
    "        print(f'Epoch : {epoch+1:4d}, Model : {list(model.parameters())}, Cost : {cost:.3f}')"
   ]
  },
  {
   "cell_type": "code",
   "execution_count": 251,
   "id": "1e43db7d-5af1-45da-9891-af05a3cedee2",
   "metadata": {
    "scrolled": true
   },
   "outputs": [
    {
     "name": "stdout",
     "output_type": "stream",
     "text": [
      "tensor([[16., 35., 65.],\n",
      "        [53., 70., 80.],\n",
      "        [ 0., 43., 12.],\n",
      "        [84., 74., 71.]], device='cuda:0')\n",
      "tensor([[0.5122],\n",
      "        [0.6827],\n",
      "        [0.3664],\n",
      "        [0.7276]], device='cuda:0')\n",
      "tensor([[ True],\n",
      "        [ True],\n",
      "        [False],\n",
      "        [ True]], device='cuda:0')\n",
      "-----------------------------\n",
      "tensor([[83., 60., 59.],\n",
      "        [ 2., 51., 94.],\n",
      "        [18.,  0., 40.],\n",
      "        [ 2., 17., 28.]], device='cuda:0')\n",
      "tensor([[0.6813],\n",
      "        [0.5783],\n",
      "        [0.3967],\n",
      "        [0.3640]], device='cuda:0')\n",
      "tensor([[ True],\n",
      "        [ True],\n",
      "        [False],\n",
      "        [False]], device='cuda:0')\n",
      "-----------------------------\n",
      "tensor([[57., 43., 89.],\n",
      "        [80., 60., 86.],\n",
      "        [87., 83., 85.],\n",
      "        [94., 73., 49.]], device='cuda:0')\n",
      "tensor([[0.6681],\n",
      "        [0.7298],\n",
      "        [0.7697],\n",
      "        [0.7010]], device='cuda:0')\n",
      "tensor([[True],\n",
      "        [True],\n",
      "        [True],\n",
      "        [True]], device='cuda:0')\n",
      "-----------------------------\n",
      "tensor([[ 51., 100.,   4.],\n",
      "        [ 15.,  43.,  30.],\n",
      "        [ 96.,  98.,  11.],\n",
      "        [ 54.,  85.,  89.]], device='cuda:0')\n",
      "tensor([[0.5563],\n",
      "        [0.4399],\n",
      "        [0.6634],\n",
      "        [0.7245]], device='cuda:0')\n",
      "tensor([[ True],\n",
      "        [False],\n",
      "        [ True],\n",
      "        [ True]], device='cuda:0')\n",
      "-----------------------------\n",
      "tensor([[ 54.,  74.,  68.],\n",
      "        [100.,  88.,  56.],\n",
      "        [ 62.,  91.,  54.],\n",
      "        [ 74.,  62.,  45.]], device='cuda:0')\n",
      "tensor([[0.6654],\n",
      "        [0.7460],\n",
      "        [0.6775],\n",
      "        [0.6363]], device='cuda:0')\n",
      "tensor([[True],\n",
      "        [True],\n",
      "        [True],\n",
      "        [True]], device='cuda:0')\n",
      "-----------------------------\n",
      "tensor([[40., 59., 79.],\n",
      "        [79., 71., 71.],\n",
      "        [80., 23., 72.],\n",
      "        [14., 38., 91.]], device='cuda:0')\n",
      "tensor([[0.6375],\n",
      "        [0.7144],\n",
      "        [0.6456],\n",
      "        [0.5751]], device='cuda:0')\n",
      "tensor([[True],\n",
      "        [True],\n",
      "        [True],\n",
      "        [True]], device='cuda:0')\n",
      "-----------------------------\n",
      "tensor([[30., 76., 15.],\n",
      "        [90., 48., 59.],\n",
      "        [78., 87., 26.],\n",
      "        [35., 69.,  2.]], device='cuda:0')\n",
      "tensor([[0.4945],\n",
      "        [0.6765],\n",
      "        [0.6426],\n",
      "        [0.4621]], device='cuda:0')\n",
      "tensor([[False],\n",
      "        [ True],\n",
      "        [ True],\n",
      "        [False]], device='cuda:0')\n",
      "-----------------------------\n",
      "tensor([[66., 55., 61.],\n",
      "        [78., 27., 63.],\n",
      "        [55., 55., 42.],\n",
      "        [78., 70.,  2.]], device='cuda:0')\n",
      "tensor([[0.6441],\n",
      "        [0.6279],\n",
      "        [0.5776],\n",
      "        [0.5588]], device='cuda:0')\n",
      "tensor([[True],\n",
      "        [True],\n",
      "        [True],\n",
      "        [True]], device='cuda:0')\n",
      "-----------------------------\n",
      "tensor([[ 96.,  73.,  63.],\n",
      "        [100.,  60.,  72.],\n",
      "        [ 11.,  66.,  32.],\n",
      "        [ 20.,  46.,  71.]], device='cuda:0')\n",
      "tensor([[0.7320],\n",
      "        [0.7380],\n",
      "        [0.4759],\n",
      "        [0.5545]], device='cuda:0')\n",
      "tensor([[ True],\n",
      "        [ True],\n",
      "        [False],\n",
      "        [ True]], device='cuda:0')\n",
      "-----------------------------\n",
      "tensor([[90., 91., 58.],\n",
      "        [94., 52., 39.],\n",
      "        [92., 81., 48.],\n",
      "        [82., 87., 47.]], device='cuda:0')\n",
      "tensor([[0.7368],\n",
      "        [0.6476],\n",
      "        [0.7069],\n",
      "        [0.6951]], device='cuda:0')\n",
      "tensor([[True],\n",
      "        [True],\n",
      "        [True],\n",
      "        [True]], device='cuda:0')\n",
      "-----------------------------\n",
      "tensor([[97., 98., 88.],\n",
      "        [58., 85.,  7.],\n",
      "        [92., 96., 73.],\n",
      "        [78., 92., 55.]], device='cuda:0')\n",
      "tensor([[0.8068],\n",
      "        [0.5528],\n",
      "        [0.7732],\n",
      "        [0.7111]], device='cuda:0')\n",
      "tensor([[True],\n",
      "        [True],\n",
      "        [True],\n",
      "        [True]], device='cuda:0')\n",
      "-----------------------------\n",
      "tensor([[39., 24., 80.],\n",
      "        [61.,  9., 16.],\n",
      "        [81., 67., 94.],\n",
      "        [47., 96., 87.]], device='cuda:0')\n",
      "tensor([[0.5794],\n",
      "        [0.4486],\n",
      "        [0.7555],\n",
      "        [0.7236]], device='cuda:0')\n",
      "tensor([[ True],\n",
      "        [False],\n",
      "        [ True],\n",
      "        [ True]], device='cuda:0')\n",
      "-----------------------------\n",
      "tensor([[89., 71.,  0.],\n",
      "        [85., 90., 44.],\n",
      "        [76., 60., 89.],\n",
      "        [85., 49., 80.]], device='cuda:0')\n",
      "tensor([[0.5797],\n",
      "        [0.6991],\n",
      "        [0.7285],\n",
      "        [0.7116]], device='cuda:0')\n",
      "tensor([[True],\n",
      "        [True],\n",
      "        [True],\n",
      "        [True]], device='cuda:0')\n",
      "-----------------------------\n",
      "tensor([[40., 61., 67.],\n",
      "        [77., 55., 19.],\n",
      "        [59., 16., 40.],\n",
      "        [75., 52., 90.]], device='cuda:0')\n",
      "tensor([[0.6137],\n",
      "        [0.5711],\n",
      "        [0.5140],\n",
      "        [0.7174]], device='cuda:0')\n",
      "tensor([[True],\n",
      "        [True],\n",
      "        [True],\n",
      "        [True]], device='cuda:0')\n",
      "-----------------------------\n",
      "tensor([[24., 91.,  0.],\n",
      "        [54., 69., 52.],\n",
      "        [67., 18., 45.],\n",
      "        [99., 63., 97.]], device='cuda:0')\n",
      "tensor([[0.4713],\n",
      "        [0.6221],\n",
      "        [0.5472],\n",
      "        [0.7840]], device='cuda:0')\n",
      "tensor([[False],\n",
      "        [ True],\n",
      "        [ True],\n",
      "        [ True]], device='cuda:0')\n",
      "-----------------------------\n",
      "tensor([[92., 23.,  3.],\n",
      "        [84., 49., 86.],\n",
      "        [92., 78., 76.],\n",
      "        [22., 10., 41.]], device='cuda:0')\n",
      "tensor([[0.5103],\n",
      "        [0.7215],\n",
      "        [0.7557],\n",
      "        [0.4245]], device='cuda:0')\n",
      "tensor([[ True],\n",
      "        [ True],\n",
      "        [ True],\n",
      "        [False]], device='cuda:0')\n",
      "-----------------------------\n",
      "tensor([[15., 91., 94.],\n",
      "        [42., 23.,  2.],\n",
      "        [ 5., 45., 87.],\n",
      "        [15., 30.,  7.]], device='cuda:0')\n",
      "tensor([[0.6707],\n",
      "        [0.3985],\n",
      "        [0.5580],\n",
      "        [0.3649]], device='cuda:0')\n",
      "tensor([[ True],\n",
      "        [False],\n",
      "        [ True],\n",
      "        [False]], device='cuda:0')\n",
      "-----------------------------\n",
      "tensor([[99., 26., 26.],\n",
      "        [74., 53., 46.],\n",
      "        [51., 45., 33.],\n",
      "        [ 8., 21., 64.]], device='cuda:0')\n",
      "tensor([[0.5856],\n",
      "        [0.6238],\n",
      "        [0.5301],\n",
      "        [0.4676]], device='cuda:0')\n",
      "tensor([[ True],\n",
      "        [ True],\n",
      "        [ True],\n",
      "        [False]], device='cuda:0')\n",
      "-----------------------------\n",
      "tensor([[99., 50., 78.],\n",
      "        [71., 61., 66.],\n",
      "        [60., 40., 80.],\n",
      "        [ 9., 16., 33.]], device='cuda:0')\n",
      "tensor([[0.7340],\n",
      "        [0.6743],\n",
      "        [0.6498],\n",
      "        [0.3883]], device='cuda:0')\n",
      "tensor([[ True],\n",
      "        [ True],\n",
      "        [ True],\n",
      "        [False]], device='cuda:0')\n",
      "-----------------------------\n",
      "tensor([[64., 44., 53.],\n",
      "        [57.,  3., 78.],\n",
      "        [77., 38., 34.],\n",
      "        [84., 15., 50.]], device='cuda:0')\n",
      "tensor([[0.6039],\n",
      "        [0.5778],\n",
      "        [0.5773],\n",
      "        [0.5908]], device='cuda:0')\n",
      "tensor([[True],\n",
      "        [True],\n",
      "        [True],\n",
      "        [True]], device='cuda:0')\n",
      "-----------------------------\n",
      "tensor([[62., 28., 21.],\n",
      "        [89., 85., 88.],\n",
      "        [62., 75., 44.],\n",
      "        [15., 13., 40.]], device='cuda:0')\n",
      "tensor([[0.4959],\n",
      "        [0.7803],\n",
      "        [0.6304],\n",
      "        [0.4122]], device='cuda:0')\n",
      "tensor([[False],\n",
      "        [ True],\n",
      "        [ True],\n",
      "        [False]], device='cuda:0')\n",
      "-----------------------------\n",
      "tensor([[ 75.,  41.,  88.],\n",
      "        [ 75., 100.,  76.],\n",
      "        [ 72.,  84.,  73.],\n",
      "        [ 49.,  78.,  74.]], device='cuda:0')\n",
      "tensor([[0.6975],\n",
      "        [0.7563],\n",
      "        [0.7242],\n",
      "        [0.6746]], device='cuda:0')\n",
      "tensor([[True],\n",
      "        [True],\n",
      "        [True],\n",
      "        [True]], device='cuda:0')\n",
      "-----------------------------\n",
      "tensor([[69., 57., 93.],\n",
      "        [72., 98., 94.],\n",
      "        [25., 80., 75.],\n",
      "        [91., 97., 77.]], device='cuda:0')\n",
      "tensor([[0.7196],\n",
      "        [0.7800],\n",
      "        [0.6318],\n",
      "        [0.7796]], device='cuda:0')\n",
      "tensor([[True],\n",
      "        [True],\n",
      "        [True],\n",
      "        [True]], device='cuda:0')\n",
      "-----------------------------\n",
      "tensor([[77., 90., 48.],\n",
      "        [67., 86., 45.],\n",
      "        [23., 27.,  4.],\n",
      "        [48., 96., 94.]], device='cuda:0')\n",
      "tensor([[0.6922],\n",
      "        [0.6604],\n",
      "        [0.3698],\n",
      "        [0.7386]], device='cuda:0')\n",
      "tensor([[ True],\n",
      "        [ True],\n",
      "        [False],\n",
      "        [ True]], device='cuda:0')\n",
      "-----------------------------\n",
      "tensor([[ 6., 32., 56.],\n",
      "        [76., 79.,  3.],\n",
      "        [41., 93., 60.],\n",
      "        [23., 18., 17.]], device='cuda:0')\n",
      "tensor([[0.4632],\n",
      "        [0.5723],\n",
      "        [0.6520],\n",
      "        [0.3844]], device='cuda:0')\n",
      "tensor([[False],\n",
      "        [ True],\n",
      "        [ True],\n",
      "        [False]], device='cuda:0')\n",
      "-----------------------------\n"
     ]
    }
   ],
   "source": [
    "with torch.no_grad():\n",
    "    model.eval()\n",
    "    for x,y in val_dataloader:\n",
    "        x = x.to(device)\n",
    "        y = y.to(device)\n",
    "        \n",
    "        outputs = model(x)\n",
    "\n",
    "        print(x)\n",
    "        print(outputs)\n",
    "        print(outputs >= torch.FloatTensor([0.5]).to(device))\n",
    "        print('-----------------------------')"
   ]
  },
  {
   "cell_type": "markdown",
   "id": "a3f86d04-1e21-4adc-972b-3d5b887b6bf0",
   "metadata": {
    "jp-MarkdownHeadingCollapsed": true
   },
   "source": [
    "# 모델 구조와 초깃값 "
   ]
  },
  {
   "cell_type": "code",
   "execution_count": 12,
   "id": "61fb50b4-3ae2-4def-b30b-7e4cec83ec25",
   "metadata": {},
   "outputs": [],
   "source": [
    "import torch\n",
    "from torch import nn, optim"
   ]
  },
  {
   "cell_type": "code",
   "execution_count": 20,
   "id": "f88b4658-d8ac-4c7a-9853-1651b440b916",
   "metadata": {
    "scrolled": true
   },
   "outputs": [
    {
     "name": "stdout",
     "output_type": "stream",
     "text": [
      "CustomModel(\n",
      "  (layer1): Sequential(\n",
      "    (0): Linear(in_features=2, out_features=2, bias=True)\n",
      "    (1): Sigmoid()\n",
      "  )\n",
      "  (layer2): Sequential(\n",
      "    (0): Linear(in_features=2, out_features=1, bias=True)\n",
      "    (1): Sigmoid()\n",
      "  )\n",
      ")\n"
     ]
    }
   ],
   "source": [
    "class CustomModel(nn.Module):\n",
    "    def __init__(self):\n",
    "        super().__init__()\n",
    "        \n",
    "        self.layer1 = nn.Sequential(\n",
    "            nn.Linear(2,2),\n",
    "            nn.Sigmoid()\n",
    "        )\n",
    "        self.layer2 = nn.Sequential(\n",
    "            nn.Linear(2,1),\n",
    "            nn.Sigmoid()\n",
    "        )\n",
    "        \n",
    "        self.layer1[0].weight.data = torch.nn.Parameter(\n",
    "            torch.Tensor([[0.4352, 0.3545],\n",
    "                          [0.1951, 0.4835]])\n",
    "        )\n",
    "        self.layer1[0].bias.data = torch.nn.Parameter(\n",
    "            torch.Tensor([-0.1419, 0.0439])\n",
    "        )\n",
    "        self.layer2[0].weight.data = torch.nn.Parameter(\n",
    "            torch.Tensor([[-0.1725, 0.1129]])\n",
    "        )\n",
    "        self.layer2[0].bias.data = torch.nn.Parameter(\n",
    "            torch.Tensor([-0.3043])\n",
    "        )\n",
    "    \n",
    "    def forward(self, x):\n",
    "        x = self.layer1(x)\n",
    "        x = self.layer2(x)\n",
    "        return x\n",
    "\n",
    "device = \"cuda\" if torch.cuda.is_available() else \"cpu\"\n",
    "model = CustomModel().to(device)\n",
    "criterion = nn.BCELoss().to(device)\n",
    "optimizer = optim.SGD(model.parameters(), lr = 0.001)\n",
    "print(model)"
   ]
  },
  {
   "cell_type": "markdown",
   "id": "7bc355aa-cdf4-477b-8d18-eac2b28afc24",
   "metadata": {
    "jp-MarkdownHeadingCollapsed": true
   },
   "source": [
    "# 책외 내용 -> 모델 구조확인하기\n",
    "* from torchinfo import summary\n",
    "* from torchsummary import summary"
   ]
  },
  {
   "cell_type": "code",
   "execution_count": 24,
   "id": "91b64f09-7f59-47c4-82ab-ac10dd32914e",
   "metadata": {},
   "outputs": [
    {
     "data": {
      "text/plain": [
       "=================================================================\n",
       "Layer (type:depth-idx)                   Param #\n",
       "=================================================================\n",
       "CustomModel                              --\n",
       "├─Sequential: 1-1                        --\n",
       "│    └─Linear: 2-1                       6\n",
       "│    └─Sigmoid: 2-2                      --\n",
       "├─Sequential: 1-2                        --\n",
       "│    └─Linear: 2-3                       3\n",
       "│    └─Sigmoid: 2-4                      --\n",
       "=================================================================\n",
       "Total params: 9\n",
       "Trainable params: 9\n",
       "Non-trainable params: 0\n",
       "================================================================="
      ]
     },
     "execution_count": 24,
     "metadata": {},
     "output_type": "execute_result"
    }
   ],
   "source": [
    "from torchinfo import summary\n",
    "summary(model)"
   ]
  },
  {
   "cell_type": "code",
   "execution_count": 27,
   "id": "b3ac663c-de08-4a3e-884b-f1ff7a7e4de3",
   "metadata": {},
   "outputs": [
    {
     "name": "stdout",
     "output_type": "stream",
     "text": [
      "----------------------------------------------------------------\n",
      "        Layer (type)               Output Shape         Param #\n",
      "================================================================\n",
      "            Linear-1                 [32, 2, 2]               6\n",
      "           Sigmoid-2                 [32, 2, 2]               0\n",
      "            Linear-3                 [32, 2, 1]               3\n",
      "           Sigmoid-4                 [32, 2, 1]               0\n",
      "================================================================\n",
      "Total params: 9\n",
      "Trainable params: 9\n",
      "Non-trainable params: 0\n",
      "----------------------------------------------------------------\n",
      "Input size (MB): 0.00\n",
      "Forward/backward pass size (MB): 0.00\n",
      "Params size (MB): 0.00\n",
      "Estimated Total Size (MB): 0.00\n",
      "----------------------------------------------------------------\n"
     ]
    }
   ],
   "source": [
    "from torchsummary import summary\n",
    "summary(model, (2,2), batch_size = 32)"
   ]
  },
  {
   "cell_type": "markdown",
   "id": "aeccd349-bd32-4004-9fdb-6893f2beafb8",
   "metadata": {
    "jp-MarkdownHeadingCollapsed": true
   },
   "source": [
    "# 단층퍼셉트론\n",
    "* Threshold Logic Unit"
   ]
  },
  {
   "cell_type": "code",
   "execution_count": 33,
   "id": "5389e225-c5ca-4dcd-b60e-c8c533f4a849",
   "metadata": {},
   "outputs": [
    {
     "data": {
      "text/html": [
       "<div>\n",
       "<style scoped>\n",
       "    .dataframe tbody tr th:only-of-type {\n",
       "        vertical-align: middle;\n",
       "    }\n",
       "\n",
       "    .dataframe tbody tr th {\n",
       "        vertical-align: top;\n",
       "    }\n",
       "\n",
       "    .dataframe thead th {\n",
       "        text-align: right;\n",
       "    }\n",
       "</style>\n",
       "<table border=\"1\" class=\"dataframe\">\n",
       "  <thead>\n",
       "    <tr style=\"text-align: right;\">\n",
       "      <th></th>\n",
       "      <th>x1</th>\n",
       "      <th>x2</th>\n",
       "      <th>y</th>\n",
       "    </tr>\n",
       "  </thead>\n",
       "  <tbody>\n",
       "    <tr>\n",
       "      <th>0</th>\n",
       "      <td>True</td>\n",
       "      <td>True</td>\n",
       "      <td>False</td>\n",
       "    </tr>\n",
       "    <tr>\n",
       "      <th>1</th>\n",
       "      <td>True</td>\n",
       "      <td>False</td>\n",
       "      <td>True</td>\n",
       "    </tr>\n",
       "    <tr>\n",
       "      <th>2</th>\n",
       "      <td>True</td>\n",
       "      <td>False</td>\n",
       "      <td>True</td>\n",
       "    </tr>\n",
       "    <tr>\n",
       "      <th>3</th>\n",
       "      <td>True</td>\n",
       "      <td>True</td>\n",
       "      <td>False</td>\n",
       "    </tr>\n",
       "    <tr>\n",
       "      <th>4</th>\n",
       "      <td>True</td>\n",
       "      <td>True</td>\n",
       "      <td>False</td>\n",
       "    </tr>\n",
       "    <tr>\n",
       "      <th>...</th>\n",
       "      <td>...</td>\n",
       "      <td>...</td>\n",
       "      <td>...</td>\n",
       "    </tr>\n",
       "    <tr>\n",
       "      <th>995</th>\n",
       "      <td>True</td>\n",
       "      <td>True</td>\n",
       "      <td>False</td>\n",
       "    </tr>\n",
       "    <tr>\n",
       "      <th>996</th>\n",
       "      <td>True</td>\n",
       "      <td>True</td>\n",
       "      <td>False</td>\n",
       "    </tr>\n",
       "    <tr>\n",
       "      <th>997</th>\n",
       "      <td>False</td>\n",
       "      <td>True</td>\n",
       "      <td>True</td>\n",
       "    </tr>\n",
       "    <tr>\n",
       "      <th>998</th>\n",
       "      <td>False</td>\n",
       "      <td>False</td>\n",
       "      <td>False</td>\n",
       "    </tr>\n",
       "    <tr>\n",
       "      <th>999</th>\n",
       "      <td>False</td>\n",
       "      <td>False</td>\n",
       "      <td>False</td>\n",
       "    </tr>\n",
       "  </tbody>\n",
       "</table>\n",
       "<p>1000 rows × 3 columns</p>\n",
       "</div>"
      ],
      "text/plain": [
       "        x1     x2      y\n",
       "0     True   True  False\n",
       "1     True  False   True\n",
       "2     True  False   True\n",
       "3     True   True  False\n",
       "4     True   True  False\n",
       "..     ...    ...    ...\n",
       "995   True   True  False\n",
       "996   True   True  False\n",
       "997  False   True   True\n",
       "998  False  False  False\n",
       "999  False  False  False\n",
       "\n",
       "[1000 rows x 3 columns]"
      ]
     },
     "execution_count": 33,
     "metadata": {},
     "output_type": "execute_result"
    }
   ],
   "source": [
    "import torch\n",
    "import pandas as pd\n",
    "from torch import nn, optim\n",
    "from torch.utils.data import Dataset, DataLoader\n",
    "\n",
    "data = pd.read_csv('./perceptron.csv')\n",
    "data"
   ]
  },
  {
   "cell_type": "code",
   "execution_count": 34,
   "id": "6929e14a-3603-4d0f-81f6-29fc83b69e5f",
   "metadata": {},
   "outputs": [
    {
     "data": {
      "text/plain": [
       "1000"
      ]
     },
     "execution_count": 34,
     "metadata": {},
     "output_type": "execute_result"
    }
   ],
   "source": [
    "len(data)"
   ]
  },
  {
   "cell_type": "code",
   "execution_count": 29,
   "id": "e4452f2e-8f3a-41d8-aa47-512bde61fe09",
   "metadata": {},
   "outputs": [],
   "source": [
    "# 데이터셋 호출\n",
    "class CustomDataset(Dataset):\n",
    "    def __init__(self, file_path):\n",
    "        df = pd.read_csv(file_path)\n",
    "        self.x1 = df.iloc[:,0].values\n",
    "        self.x2 = df.iloc[:,1].values\n",
    "        self.y = df.iloc[:,2].values\n",
    "        self.length = len(df)\n",
    "    \n",
    "    def __getitem__(self, index):\n",
    "        x = torch.FloatTensor([self.x1[index], self.x2[index]])\n",
    "        y = torch.FloatTensor([self.y[index]])\n",
    "        return x, y\n",
    "    \n",
    "    def __len__(self):\n",
    "        return self.length\n",
    "\n",
    "# 단층퍼셉트론\n",
    "class Perceptron(nn.Module):\n",
    "    def __init__(self):\n",
    "        super().__init__()\n",
    "        \n",
    "        self.layer1 = nn.Sequential(\n",
    "            nn.Linear(2,1),\n",
    "            nn.Sigmoid()\n",
    "        )\n",
    "        \n",
    "    def forward(self, x):\n",
    "        x = self.layer1(x)\n",
    "        return x"
   ]
  },
  {
   "cell_type": "code",
   "execution_count": 37,
   "id": "d02a4365-3def-44e4-80f1-58a9a149d0ec",
   "metadata": {},
   "outputs": [],
   "source": [
    "# 데이터로더\n",
    "train_dataset = CustomDataset('./perceptron.csv')\n",
    "train_dataloader = DataLoader(train_dataset, batch_size = 64, shuffle = True, drop_last = True)\n",
    "\n",
    "device = \"cuda\" if torch.cuda.is_available() else \"cpu\"\n",
    "model = Perceptron().to(device)\n",
    "criterion = nn.BCELoss().to(device)\n",
    "optimizer = optim.SGD(model.parameters(), lr = 0.01)"
   ]
  },
  {
   "cell_type": "code",
   "execution_count": 38,
   "id": "2b505121-282c-4f3e-b851-8f0d030371a4",
   "metadata": {},
   "outputs": [
    {
     "name": "stdout",
     "output_type": "stream",
     "text": [
      "15\n",
      "960\n"
     ]
    }
   ],
   "source": [
    "print(len(train_dataloader))\n",
    "print(len(train_dataloader) * 64)"
   ]
  },
  {
   "cell_type": "code",
   "execution_count": 39,
   "id": "b50dc61b-867c-4993-a1ec-3d74fde8b35f",
   "metadata": {},
   "outputs": [
    {
     "name": "stderr",
     "output_type": "stream",
     "text": [
      "C:\\Users\\user\\AppData\\Local\\Temp\\ipykernel_2408\\4126486810.py:11: DeprecationWarning: In future, it will be an error for 'np.bool_' scalars to be interpreted as an index\n",
      "  x = torch.FloatTensor([self.x1[index], self.x2[index]])\n",
      "C:\\Users\\user\\AppData\\Local\\Temp\\ipykernel_2408\\4126486810.py:12: DeprecationWarning: In future, it will be an error for 'np.bool_' scalars to be interpreted as an index\n",
      "  y = torch.FloatTensor([self.y[index]])\n"
     ]
    },
    {
     "name": "stdout",
     "output_type": "stream",
     "text": [
      "Epoch : 1000, Cost : 0.693\n",
      "Epoch : 2000, Cost : 0.692\n",
      "Epoch : 3000, Cost : 0.691\n",
      "Epoch : 4000, Cost : 0.692\n",
      "Epoch : 5000, Cost : 0.692\n",
      "Epoch : 6000, Cost : 0.692\n",
      "Epoch : 7000, Cost : 0.692\n",
      "Epoch : 8000, Cost : 0.692\n",
      "Epoch : 9000, Cost : 0.692\n",
      "Epoch : 10000, Cost : 0.692\n"
     ]
    }
   ],
   "source": [
    "checkpoint = 1\n",
    "\n",
    "for epoch in range(10000):\n",
    "    cost = 0.0\n",
    "    for x,y in train_dataloader:\n",
    "        x = x.to(device)\n",
    "        y = y.to(device)\n",
    "        \n",
    "        output = model(x)\n",
    "        loss = criterion(output, y)\n",
    "        \n",
    "        optimizer.zero_grad()\n",
    "        loss.backward()\n",
    "        optimizer.step()\n",
    "        cost += loss\n",
    "    cost = cost / len(train_dataloader)\n",
    "    \n",
    "    if (epoch + 1) % 1000 == 0:\n",
    "        print(f\"Epoch : {epoch+1:4d}, Cost : {cost:.3f}\")\n",
    "        torch.save(\n",
    "            {\n",
    "                \"model\" : \"CustomModel\",\n",
    "                \"epoch\" : epoch,\n",
    "                \"model_state_dict\" : model.state_dict(),\n",
    "                \"optimizer_state_dict\" : optimizer.state_dict(),\n",
    "                \"cost\" : cost,\n",
    "                \"description\" : f\"CustomModel 체크포인트 - {checkpoint}\",\n",
    "            },\n",
    "            f\"./perceptron/perceptron_checkpoint-{checkpoint}.pt\"\n",
    "        )\n",
    "        checkpoint += 1"
   ]
  },
  {
   "cell_type": "code",
   "execution_count": 59,
   "id": "cd2b21e6-e597-4133-a476-7b9795ebc526",
   "metadata": {},
   "outputs": [
    {
     "name": "stdout",
     "output_type": "stream",
     "text": [
      "{'model': 'CustomModel', 'epoch': 3999, 'model_state_dict': OrderedDict([('layer1.0.weight', tensor([[0.1445, 0.1276]], device='cuda:0')), ('layer1.0.bias', tensor([-0.1308], device='cuda:0'))]), 'optimizer_state_dict': {'state': {0: {'momentum_buffer': None}, 1: {'momentum_buffer': None}}, 'param_groups': [{'lr': 0.01, 'momentum': 0, 'dampening': 0, 'weight_decay': 0, 'nesterov': False, 'maximize': False, 'foreach': None, 'differentiable': False, 'params': [0, 1]}]}, 'cost': tensor(0.6921, device='cuda:0', requires_grad=True), 'description': 'CustomModel 체크포인트 - 4'}\n"
     ]
    },
    {
     "data": {
      "text/plain": [
       "=================================================================\n",
       "Layer (type:depth-idx)                   Param #\n",
       "=================================================================\n",
       "Perceptron                               --\n",
       "├─Sequential: 1-1                        --\n",
       "│    └─Linear: 2-1                       3\n",
       "│    └─Sigmoid: 2-2                      --\n",
       "=================================================================\n",
       "Total params: 3\n",
       "Trainable params: 3\n",
       "Non-trainable params: 0\n",
       "================================================================="
      ]
     },
     "execution_count": 59,
     "metadata": {},
     "output_type": "execute_result"
    }
   ],
   "source": [
    "from torchinfo import summary\n",
    "\n",
    "checkpoint = torch.load('./perceptron/perceptron_checkpoint-4.pt')\n",
    "print(checkpoint)\n",
    "model = Perceptron().to(device)\n",
    "model.load_state_dict(checkpoint['model_state_dict'])\n",
    "summary(model)"
   ]
  },
  {
   "cell_type": "code",
   "execution_count": 72,
   "id": "1eb47559-3acd-4070-abe0-627895eaca87",
   "metadata": {
    "scrolled": true
   },
   "outputs": [
    {
     "name": "stdout",
     "output_type": "stream",
     "text": [
      "----------------------------------------------------------------\n",
      "        Layer (type)               Output Shape         Param #\n",
      "================================================================\n",
      "            Linear-1                 [64, 1, 1]               3\n",
      "           Sigmoid-2                 [64, 1, 1]               0\n",
      "================================================================\n",
      "Total params: 3\n",
      "Trainable params: 3\n",
      "Non-trainable params: 0\n",
      "----------------------------------------------------------------\n",
      "Input size (MB): 0.00\n",
      "Forward/backward pass size (MB): 0.00\n",
      "Params size (MB): 0.00\n",
      "Estimated Total Size (MB): 0.00\n",
      "----------------------------------------------------------------\n"
     ]
    }
   ],
   "source": [
    "from torchsummary import summary\n",
    "summary(model, (1,2), 64)"
   ]
  },
  {
   "cell_type": "markdown",
   "id": "86b9f09c-6590-4752-9c70-65091e8f2bbe",
   "metadata": {},
   "source": [
    "* XOR적용"
   ]
  },
  {
   "cell_type": "code",
   "execution_count": 73,
   "id": "39e8f05a-995d-4626-b8cd-950d0899c23c",
   "metadata": {},
   "outputs": [
    {
     "name": "stdout",
     "output_type": "stream",
     "text": [
      "--------\n",
      "tensor([[0.4673],\n",
      "        [0.4992],\n",
      "        [0.5034],\n",
      "        [0.5353]], device='cuda:0')\n",
      "tensor([[ True],\n",
      "        [ True],\n",
      "        [False],\n",
      "        [False]], device='cuda:0')\n"
     ]
    }
   ],
   "source": [
    "with torch.no_grad():\n",
    "    model.eval()\n",
    "    inputs = torch.FloatTensor([\n",
    "        [0,0],\n",
    "        [0,1],\n",
    "        [1,0],\n",
    "        [1,1]\n",
    "    ]).to(device)\n",
    "    outputs = model(inputs)\n",
    "    print('--------')\n",
    "    print(outputs)\n",
    "    print(outputs <= 0.5)"
   ]
  },
  {
   "cell_type": "code",
   "execution_count": 41,
   "id": "027cb6dd-5842-42db-8e17-419240ee8f9f",
   "metadata": {},
   "outputs": [
    {
     "data": {
      "image/png": "[encoded data removed]",
      "text/plain": [
       "<Figure size 640x480 with 1 Axes>"
      ]
     },
     "metadata": {},
     "output_type": "display_data"
    }
   ],
   "source": [
    "import matplotlib.pyplot as plt\n",
    "from matplotlib import font_manager, rc\n",
    "font_path = \"C:/Windows/Fonts/NGULIM.TTF\"\n",
    "font = font_manager.FontProperties(fname=font_path).get_name()\n",
    "rc('font', family=font)\n",
    "plt.scatter([0,0],[0,1], label = '1')\n",
    "plt.scatter([1,1],[0,1], label = '0')\n",
    "plt.title(\"단층퍼셉트론의 분류\")\n",
    "plt.legend(loc = 'best')\n",
    "plt.show()"
   ]
  },
  {
   "cell_type": "markdown",
   "id": "a526e8e1-31e9-495b-8dbb-9da298ca507a",
   "metadata": {
    "jp-MarkdownHeadingCollapsed": true
   },
   "source": [
    "# 다층 퍼셉트론"
   ]
  },
  {
   "cell_type": "code",
   "execution_count": 17,
   "id": "93882bbc-8f5f-497a-8241-1d5d97b211ec",
   "metadata": {},
   "outputs": [],
   "source": [
    "import torch\n",
    "import pandas as pd\n",
    "from torch import nn, optim\n",
    "from torch.utils.data import Dataset, DataLoader"
   ]
  },
  {
   "cell_type": "code",
   "execution_count": 30,
   "id": "ae6dd9f3-3dfb-4d95-a8c0-c4f37dd91012",
   "metadata": {},
   "outputs": [],
   "source": [
    "class CustomDataset(Dataset):\n",
    "    def __init__(self, file_path):\n",
    "        df = pd.read_csv(file_path)\n",
    "        self.x1 = df.iloc[:,0].values\n",
    "        self.x2 = df.iloc[:,1].values\n",
    "        self.y = df.iloc[:,2].values\n",
    "        self.length = len(df)\n",
    "        \n",
    "    def __getitem__(self, index):\n",
    "        x = torch.FloatTensor([self.x1[index], self.x2[index]])\n",
    "        y = torch.FloatTensor([self.y[index]])\n",
    "        return x, y\n",
    "    \n",
    "    def __len__(self):\n",
    "        return self.length\n",
    "\n",
    "class Multi_Layer_Perceptron(nn.Module):\n",
    "    def __init__(self):\n",
    "        super().__init__()\n",
    "        self.layer1 = nn.Sequential(\n",
    "            nn.Linear(2,2),\n",
    "            nn.Sigmoid()\n",
    "        )\n",
    "        self.layer2 = nn.Sequential(\n",
    "            nn.Linear(2,1),\n",
    "            nn.Sigmoid()\n",
    "        )\n",
    "    \n",
    "    def forward(self,x):\n",
    "        x = self.layer1(x)\n",
    "        x = self.layer2(x)\n",
    "        return x"
   ]
  },
  {
   "cell_type": "code",
   "execution_count": 31,
   "id": "01e660fb-58be-47e5-b319-0067454dabeb",
   "metadata": {},
   "outputs": [],
   "source": [
    "train_dataset = CustomDataset('./perceptron.csv')\n",
    "train_dataloader = DataLoader(train_dataset, batch_size = 64, shuffle = True, drop_last = True)"
   ]
  },
  {
   "cell_type": "code",
   "execution_count": 32,
   "id": "e1885fc1-081e-4ebb-ae66-81e1a6c64c10",
   "metadata": {},
   "outputs": [],
   "source": [
    "device = \"cuda\" if torch.cuda.is_available() else \"cpu\"\n",
    "model = Multi_Layer_Perceptron().to(device)\n",
    "criterion = nn.BCELoss().to(device)\n",
    "# 책에서는 SGD로 10000epoch를 돌리지만,\n",
    "# 학습이 잘안됨 + Adam은 100 epoch면 충분함 \n",
    "optimizer = optim.Adam(model.parameters(), lr = 0.01)"
   ]
  },
  {
   "cell_type": "code",
   "execution_count": 33,
   "id": "837e48a9-3287-42b3-ba24-7e152f3861af",
   "metadata": {
    "scrolled": true
   },
   "outputs": [
    {
     "name": "stderr",
     "output_type": "stream",
     "text": [
      "C:\\Users\\user\\AppData\\Local\\Temp\\ipykernel_67372\\1959972745.py:10: DeprecationWarning: In future, it will be an error for 'np.bool_' scalars to be interpreted as an index\n",
      "  x = torch.FloatTensor([self.x1[index], self.x2[index]])\n",
      "C:\\Users\\user\\AppData\\Local\\Temp\\ipykernel_67372\\1959972745.py:11: DeprecationWarning: In future, it will be an error for 'np.bool_' scalars to be interpreted as an index\n",
      "  y = torch.FloatTensor([self.y[index]])\n"
     ]
    },
    {
     "name": "stdout",
     "output_type": "stream",
     "text": [
      "Epoch :   10, Cost : 0.671\n",
      "Epoch :   20, Cost : 0.544\n",
      "Epoch :   30, Cost : 0.402\n",
      "Epoch :   40, Cost : 0.245\n",
      "Epoch :   50, Cost : 0.143\n",
      "Epoch :   60, Cost : 0.090\n",
      "Epoch :   70, Cost : 0.062\n",
      "Epoch :   80, Cost : 0.046\n",
      "Epoch :   90, Cost : 0.035\n",
      "Epoch :  100, Cost : 0.028\n"
     ]
    }
   ],
   "source": [
    "checkpoint = 1\n",
    "for epoch in range(100):\n",
    "    cost = 0.0\n",
    "    for x, y in train_dataloader:\n",
    "        x = x.to(device)\n",
    "        y = y.to(device)\n",
    "        \n",
    "        output = model(x)\n",
    "        loss = criterion(output,y)\n",
    "        \n",
    "        optimizer.zero_grad()\n",
    "        loss.backward()\n",
    "        optimizer.step()\n",
    "        \n",
    "        cost += loss\n",
    "    cost = cost / len(train_dataloader)\n",
    "    \n",
    "    if (epoch + 1) % 10 == 0:\n",
    "        print(f\"Epoch : {epoch+1:4d}, Cost : {cost:.3f}\")\n",
    "        torch.save({\n",
    "            \"model\" : \"Multi_Layer_Perceptron\",\n",
    "            \"epoch\" : epoch,\n",
    "            \"model_state_dict\" : model.state_dict(),\n",
    "            \"optimizer_state_dict\" : optimizer.state_dict(),\n",
    "            \"cost\" : cost,\n",
    "            \"description\" : f\"Multi_Layer_Perceptron 체크포인트 - {checkpoint}\",\n",
    "        },\n",
    "        f\"./multi_layer_perceptron/multi_layer_perceptron_checkpoint-{checkpoint}.pt\")\n",
    "        checkpoint += 1"
   ]
  },
  {
   "cell_type": "code",
   "execution_count": 34,
   "id": "eff9c532-0aec-4c0a-82f9-053c166bde73",
   "metadata": {},
   "outputs": [
    {
     "name": "stdout",
     "output_type": "stream",
     "text": [
      "Multi_Layer_Perceptron(\n",
      "  (layer1): Sequential(\n",
      "    (0): Linear(in_features=2, out_features=2, bias=True)\n",
      "    (1): Sigmoid()\n",
      "  )\n",
      "  (layer2): Sequential(\n",
      "    (0): Linear(in_features=2, out_features=1, bias=True)\n",
      "    (1): Sigmoid()\n",
      "  )\n",
      ")\n"
     ]
    }
   ],
   "source": [
    "# checkpoint = torch.load('./multi_layer_perceptron/multi_layer_perceptron_checkpoint-9.pt')\n",
    "# model = Multi_Layer_Perceptron().to(device)\n",
    "# model.load_state_dict(checkpoint['model_state_dict'])\n",
    "print(model)"
   ]
  },
  {
   "cell_type": "code",
   "execution_count": 35,
   "id": "ce8912c4-23a7-4908-8453-bcd73b315e62",
   "metadata": {},
   "outputs": [
    {
     "data": {
      "text/plain": [
       "=================================================================\n",
       "Layer (type:depth-idx)                   Param #\n",
       "=================================================================\n",
       "Multi_Layer_Perceptron                   --\n",
       "├─Sequential: 1-1                        --\n",
       "│    └─Linear: 2-1                       6\n",
       "│    └─Sigmoid: 2-2                      --\n",
       "├─Sequential: 1-2                        --\n",
       "│    └─Linear: 2-3                       3\n",
       "│    └─Sigmoid: 2-4                      --\n",
       "=================================================================\n",
       "Total params: 9\n",
       "Trainable params: 9\n",
       "Non-trainable params: 0\n",
       "================================================================="
      ]
     },
     "execution_count": 35,
     "metadata": {},
     "output_type": "execute_result"
    }
   ],
   "source": [
    "from torchinfo import summary\n",
    "summary(model)"
   ]
  },
  {
   "cell_type": "code",
   "execution_count": 36,
   "id": "2f50c4ec-8ff7-4e51-9279-8ae86e684da9",
   "metadata": {},
   "outputs": [
    {
     "name": "stdout",
     "output_type": "stream",
     "text": [
      "----------------------------------------------------------------\n",
      "        Layer (type)               Output Shape         Param #\n",
      "================================================================\n",
      "            Linear-1                 [64, 1, 2]               6\n",
      "           Sigmoid-2                 [64, 1, 2]               0\n",
      "            Linear-3                 [64, 1, 1]               3\n",
      "           Sigmoid-4                 [64, 1, 1]               0\n",
      "================================================================\n",
      "Total params: 9\n",
      "Trainable params: 9\n",
      "Non-trainable params: 0\n",
      "----------------------------------------------------------------\n",
      "Input size (MB): 0.00\n",
      "Forward/backward pass size (MB): 0.00\n",
      "Params size (MB): 0.00\n",
      "Estimated Total Size (MB): 0.00\n",
      "----------------------------------------------------------------\n"
     ]
    }
   ],
   "source": [
    "from torchsummary import summary\n",
    "summary(model, (1,2), 64)"
   ]
  },
  {
   "cell_type": "code",
   "execution_count": 37,
   "id": "f6788b56-65f9-4e95-aa8e-4daf829bf366",
   "metadata": {},
   "outputs": [
    {
     "name": "stdout",
     "output_type": "stream",
     "text": [
      "--------\n",
      "tensor([[0.0143],\n",
      "        [0.9770],\n",
      "        [0.9768],\n",
      "        [0.0500]], device='cuda:0')\n",
      "tensor([[ True],\n",
      "        [False],\n",
      "        [False],\n",
      "        [ True]], device='cuda:0')\n"
     ]
    }
   ],
   "source": [
    "with torch.no_grad():\n",
    "    model.eval()\n",
    "    inputs = torch.FloatTensor([\n",
    "        [0,0],\n",
    "        [0,1],\n",
    "        [1,0],\n",
    "        [1,1]\n",
    "    ]).to(device)\n",
    "    outputs = model(inputs)\n",
    "    \n",
    "    print(\"--------\")\n",
    "    print(outputs)\n",
    "    print(outputs <= 0.5)"
   ]
  },
  {
   "cell_type": "code",
   "execution_count": 40,
   "id": "b85017ab-bc4b-4fa2-8611-c381bcd223e2",
   "metadata": {},
   "outputs": [
    {
     "data": {
      "image/png": "[encoded data removed]",
      "text/plain": [
       "<Figure size 640x480 with 1 Axes>"
      ]
     },
     "metadata": {},
     "output_type": "display_data"
    }
   ],
   "source": [
    "import matplotlib.pyplot as plt\n",
    "import matplotlib.pyplot as plt\n",
    "from matplotlib import font_manager, rc\n",
    "font_path = \"C:/Windows/Fonts/NGULIM.TTF\"\n",
    "font = font_manager.FontProperties(fname=font_path).get_name()\n",
    "rc('font', family=font)\n",
    "plt.scatter([0,1],[0,1], label = '1')\n",
    "plt.scatter([0,1],[1,0], label = '0')\n",
    "plt.title(\"다중퍼셉트론의 예측\")\n",
    "plt.legend(loc = 'best')\n",
    "plt.show()"
   ]
  },
  {
   "cell_type": "markdown",
   "id": "90e6814a-835b-460a-bab0-165932f19301",
   "metadata": {},
   "source": [
    "* torchviz"
   ]
  },
  {
   "cell_type": "code",
   "execution_count": 8,
   "id": "dba9fa30-d02f-441e-ae64-d3e592682b08",
   "metadata": {},
   "outputs": [
    {
     "data": {
      "image/svg+xml": [
       "<?xml version=\"1.0\" encoding=\"UTF-8\" standalone=\"no\"?>\n",
       "<!DOCTYPE svg PUBLIC \"-//W3C//DTD SVG 1.1//EN\"\n",
       " \"http://www.w3.org/Graphics/SVG/1.1/DTD/svg11.dtd\">\n",
       "<!-- Generated by graphviz version 2.50.0 (0)\n",
       " -->\n",
       "<!-- Pages: 1 -->\n",
       "<svg width=\"354pt\" height=\"468pt\"\n",
       " viewBox=\"0.00 0.00 354.00 468.00\" xmlns=\"http://www.w3.org/2000/svg\" xmlns:xlink=\"http://www.w3.org/1999/xlink\">\n",
       "<g id=\"graph0\" class=\"graph\" transform=\"scale(1 1) rotate(0) translate(4 464)\">\n",
       "<polygon fill=\"white\" stroke=\"transparent\" points=\"-4,4 -4,-464 350,-464 350,4 -4,4\"/>\n",
       "<!-- 2019090645376 -->\n",
       "<g id=\"node1\" class=\"node\">\n",
       "<title>2019090645376</title>\n",
       "<polygon fill=\"#caff70\" stroke=\"black\" points=\"205,-31 146,-31 146,0 205,0 205,-31\"/>\n",
       "<text text-anchor=\"middle\" x=\"175.5\" y=\"-7\" font-family=\"monospace\" font-size=\"10.00\"> (1, 1)</text>\n",
       "</g>\n",
       "<!-- 2019090638160 -->\n",
       "<g id=\"node2\" class=\"node\">\n",
       "<title>2019090638160</title>\n",
       "<polygon fill=\"lightgrey\" stroke=\"black\" points=\"232,-86 119,-86 119,-67 232,-67 232,-86\"/>\n",
       "<text text-anchor=\"middle\" x=\"175.5\" y=\"-74\" font-family=\"monospace\" font-size=\"10.00\">SigmoidBackward0</text>\n",
       "</g>\n",
       "<!-- 2019090638160&#45;&gt;2019090645376 -->\n",
       "<g id=\"edge14\" class=\"edge\">\n",
       "<title>2019090638160&#45;&gt;2019090645376</title>\n",
       "<path fill=\"none\" stroke=\"black\" d=\"M175.5,-66.79C175.5,-60.07 175.5,-50.4 175.5,-41.34\"/>\n",
       "<polygon fill=\"black\" stroke=\"black\" points=\"179,-41.19 175.5,-31.19 172,-41.19 179,-41.19\"/>\n",
       "</g>\n",
       "<!-- 2019090638880 -->\n",
       "<g id=\"node3\" class=\"node\">\n",
       "<title>2019090638880</title>\n",
       "<polygon fill=\"lightgrey\" stroke=\"black\" points=\"226,-141 125,-141 125,-122 226,-122 226,-141\"/>\n",
       "<text text-anchor=\"middle\" x=\"175.5\" y=\"-129\" font-family=\"monospace\" font-size=\"10.00\">AddmmBackward0</text>\n",
       "</g>\n",
       "<!-- 2019090638880&#45;&gt;2019090638160 -->\n",
       "<g id=\"edge1\" class=\"edge\">\n",
       "<title>2019090638880&#45;&gt;2019090638160</title>\n",
       "<path fill=\"none\" stroke=\"black\" d=\"M175.5,-121.75C175.5,-114.8 175.5,-104.85 175.5,-96.13\"/>\n",
       "<polygon fill=\"black\" stroke=\"black\" points=\"179,-96.09 175.5,-86.09 172,-96.09 179,-96.09\"/>\n",
       "</g>\n",
       "<!-- 2019090639072 -->\n",
       "<g id=\"node4\" class=\"node\">\n",
       "<title>2019090639072</title>\n",
       "<polygon fill=\"lightgrey\" stroke=\"black\" points=\"101,-196 0,-196 0,-177 101,-177 101,-196\"/>\n",
       "<text text-anchor=\"middle\" x=\"50.5\" y=\"-184\" font-family=\"monospace\" font-size=\"10.00\">AccumulateGrad</text>\n",
       "</g>\n",
       "<!-- 2019090639072&#45;&gt;2019090638880 -->\n",
       "<g id=\"edge2\" class=\"edge\">\n",
       "<title>2019090639072&#45;&gt;2019090638880</title>\n",
       "<path fill=\"none\" stroke=\"black\" d=\"M70.58,-176.98C90.87,-168.38 122.46,-154.99 145.67,-145.15\"/>\n",
       "<polygon fill=\"black\" stroke=\"black\" points=\"147.21,-148.3 155.05,-141.17 144.48,-141.85 147.21,-148.3\"/>\n",
       "</g>\n",
       "<!-- 2019757300928 -->\n",
       "<g id=\"node5\" class=\"node\">\n",
       "<title>2019757300928</title>\n",
       "<polygon fill=\"lightblue\" stroke=\"black\" points=\"98,-262 3,-262 3,-232 98,-232 98,-262\"/>\n",
       "<text text-anchor=\"middle\" x=\"50.5\" y=\"-250\" font-family=\"monospace\" font-size=\"10.00\">layer2.0.bias</text>\n",
       "<text text-anchor=\"middle\" x=\"50.5\" y=\"-239\" font-family=\"monospace\" font-size=\"10.00\"> (1)</text>\n",
       "</g>\n",
       "<!-- 2019757300928&#45;&gt;2019090639072 -->\n",
       "<g id=\"edge3\" class=\"edge\">\n",
       "<title>2019757300928&#45;&gt;2019090639072</title>\n",
       "<path fill=\"none\" stroke=\"black\" d=\"M50.5,-231.84C50.5,-224.21 50.5,-214.7 50.5,-206.45\"/>\n",
       "<polygon fill=\"black\" stroke=\"black\" points=\"54,-206.27 50.5,-196.27 47,-206.27 54,-206.27\"/>\n",
       "</g>\n",
       "<!-- 2019090638976 -->\n",
       "<g id=\"node6\" class=\"node\">\n",
       "<title>2019090638976</title>\n",
       "<polygon fill=\"lightgrey\" stroke=\"black\" points=\"232,-196 119,-196 119,-177 232,-177 232,-196\"/>\n",
       "<text text-anchor=\"middle\" x=\"175.5\" y=\"-184\" font-family=\"monospace\" font-size=\"10.00\">SigmoidBackward0</text>\n",
       "</g>\n",
       "<!-- 2019090638976&#45;&gt;2019090638880 -->\n",
       "<g id=\"edge4\" class=\"edge\">\n",
       "<title>2019090638976&#45;&gt;2019090638880</title>\n",
       "<path fill=\"none\" stroke=\"black\" d=\"M175.5,-176.75C175.5,-169.8 175.5,-159.85 175.5,-151.13\"/>\n",
       "<polygon fill=\"black\" stroke=\"black\" points=\"179,-151.09 175.5,-141.09 172,-151.09 179,-151.09\"/>\n",
       "</g>\n",
       "<!-- 2019090639024 -->\n",
       "<g id=\"node7\" class=\"node\">\n",
       "<title>2019090639024</title>\n",
       "<polygon fill=\"lightgrey\" stroke=\"black\" points=\"224,-256.5 123,-256.5 123,-237.5 224,-237.5 224,-256.5\"/>\n",
       "<text text-anchor=\"middle\" x=\"173.5\" y=\"-244.5\" font-family=\"monospace\" font-size=\"10.00\">AddmmBackward0</text>\n",
       "</g>\n",
       "<!-- 2019090639024&#45;&gt;2019090638976 -->\n",
       "<g id=\"edge5\" class=\"edge\">\n",
       "<title>2019090639024&#45;&gt;2019090638976</title>\n",
       "<path fill=\"none\" stroke=\"black\" d=\"M173.8,-237.37C174.07,-229.25 174.5,-216.81 174.85,-206.39\"/>\n",
       "<polygon fill=\"black\" stroke=\"black\" points=\"178.36,-206.28 175.2,-196.17 171.36,-206.04 178.36,-206.28\"/>\n",
       "</g>\n",
       "<!-- 2019090638736 -->\n",
       "<g id=\"node8\" class=\"node\">\n",
       "<title>2019090638736</title>\n",
       "<polygon fill=\"lightgrey\" stroke=\"black\" points=\"117,-322.5 16,-322.5 16,-303.5 117,-303.5 117,-322.5\"/>\n",
       "<text text-anchor=\"middle\" x=\"66.5\" y=\"-310.5\" font-family=\"monospace\" font-size=\"10.00\">AccumulateGrad</text>\n",
       "</g>\n",
       "<!-- 2019090638736&#45;&gt;2019090639024 -->\n",
       "<g id=\"edge6\" class=\"edge\">\n",
       "<title>2019090638736&#45;&gt;2019090639024</title>\n",
       "<path fill=\"none\" stroke=\"black\" d=\"M80.93,-303.37C98.72,-292.73 129.18,-274.51 150.28,-261.89\"/>\n",
       "<polygon fill=\"black\" stroke=\"black\" points=\"152.17,-264.84 158.96,-256.7 148.58,-258.83 152.17,-264.84\"/>\n",
       "</g>\n",
       "<!-- 2019622379008 -->\n",
       "<g id=\"node9\" class=\"node\">\n",
       "<title>2019622379008</title>\n",
       "<polygon fill=\"lightblue\" stroke=\"black\" points=\"112,-394 17,-394 17,-364 112,-364 112,-394\"/>\n",
       "<text text-anchor=\"middle\" x=\"64.5\" y=\"-382\" font-family=\"monospace\" font-size=\"10.00\">layer1.0.bias</text>\n",
       "<text text-anchor=\"middle\" x=\"64.5\" y=\"-371\" font-family=\"monospace\" font-size=\"10.00\"> (2)</text>\n",
       "</g>\n",
       "<!-- 2019622379008&#45;&gt;2019090638736 -->\n",
       "<g id=\"edge7\" class=\"edge\">\n",
       "<title>2019622379008&#45;&gt;2019090638736</title>\n",
       "<path fill=\"none\" stroke=\"black\" d=\"M64.94,-363.8C65.23,-354.7 65.6,-342.79 65.91,-332.9\"/>\n",
       "<polygon fill=\"black\" stroke=\"black\" points=\"69.41,-332.95 66.22,-322.84 62.41,-332.73 69.41,-332.95\"/>\n",
       "</g>\n",
       "<!-- 2019090638784 -->\n",
       "<g id=\"node10\" class=\"node\">\n",
       "<title>2019090638784</title>\n",
       "<polygon fill=\"lightgrey\" stroke=\"black\" points=\"216,-322.5 139,-322.5 139,-303.5 216,-303.5 216,-322.5\"/>\n",
       "<text text-anchor=\"middle\" x=\"177.5\" y=\"-310.5\" font-family=\"monospace\" font-size=\"10.00\">TBackward0</text>\n",
       "</g>\n",
       "<!-- 2019090638784&#45;&gt;2019090639024 -->\n",
       "<g id=\"edge8\" class=\"edge\">\n",
       "<title>2019090638784&#45;&gt;2019090639024</title>\n",
       "<path fill=\"none\" stroke=\"black\" d=\"M176.96,-303.37C176.38,-294.07 175.44,-278.98 174.68,-266.9\"/>\n",
       "<polygon fill=\"black\" stroke=\"black\" points=\"178.17,-266.67 174.06,-256.91 171.19,-267.1 178.17,-266.67\"/>\n",
       "</g>\n",
       "<!-- 2019090638688 -->\n",
       "<g id=\"node11\" class=\"node\">\n",
       "<title>2019090638688</title>\n",
       "<polygon fill=\"lightgrey\" stroke=\"black\" points=\"231,-388.5 130,-388.5 130,-369.5 231,-369.5 231,-388.5\"/>\n",
       "<text text-anchor=\"middle\" x=\"180.5\" y=\"-376.5\" font-family=\"monospace\" font-size=\"10.00\">AccumulateGrad</text>\n",
       "</g>\n",
       "<!-- 2019090638688&#45;&gt;2019090638784 -->\n",
       "<g id=\"edge9\" class=\"edge\">\n",
       "<title>2019090638688&#45;&gt;2019090638784</title>\n",
       "<path fill=\"none\" stroke=\"black\" d=\"M180.1,-369.37C179.66,-360.07 178.95,-344.98 178.39,-332.9\"/>\n",
       "<polygon fill=\"black\" stroke=\"black\" points=\"181.88,-332.73 177.92,-322.91 174.89,-333.06 181.88,-332.73\"/>\n",
       "</g>\n",
       "<!-- 2019622661152 -->\n",
       "<g id=\"node12\" class=\"node\">\n",
       "<title>2019622661152</title>\n",
       "<polygon fill=\"lightblue\" stroke=\"black\" points=\"234,-460 127,-460 127,-430 234,-430 234,-460\"/>\n",
       "<text text-anchor=\"middle\" x=\"180.5\" y=\"-448\" font-family=\"monospace\" font-size=\"10.00\">layer1.0.weight</text>\n",
       "<text text-anchor=\"middle\" x=\"180.5\" y=\"-437\" font-family=\"monospace\" font-size=\"10.00\"> (2, 2)</text>\n",
       "</g>\n",
       "<!-- 2019622661152&#45;&gt;2019090638688 -->\n",
       "<g id=\"edge10\" class=\"edge\">\n",
       "<title>2019622661152&#45;&gt;2019090638688</title>\n",
       "<path fill=\"none\" stroke=\"black\" d=\"M180.5,-429.8C180.5,-420.7 180.5,-408.79 180.5,-398.9\"/>\n",
       "<polygon fill=\"black\" stroke=\"black\" points=\"184,-398.84 180.5,-388.84 177,-398.84 184,-398.84\"/>\n",
       "</g>\n",
       "<!-- 2019090639168 -->\n",
       "<g id=\"node13\" class=\"node\">\n",
       "<title>2019090639168</title>\n",
       "<polygon fill=\"lightgrey\" stroke=\"black\" points=\"328,-196 251,-196 251,-177 328,-177 328,-196\"/>\n",
       "<text text-anchor=\"middle\" x=\"289.5\" y=\"-184\" font-family=\"monospace\" font-size=\"10.00\">TBackward0</text>\n",
       "</g>\n",
       "<!-- 2019090639168&#45;&gt;2019090638880 -->\n",
       "<g id=\"edge11\" class=\"edge\">\n",
       "<title>2019090639168&#45;&gt;2019090638880</title>\n",
       "<path fill=\"none\" stroke=\"black\" d=\"M271.18,-176.98C252.84,-168.46 224.39,-155.23 203.27,-145.41\"/>\n",
       "<polygon fill=\"black\" stroke=\"black\" points=\"204.69,-142.21 194.15,-141.17 201.74,-148.56 204.69,-142.21\"/>\n",
       "</g>\n",
       "<!-- 2019090638640 -->\n",
       "<g id=\"node14\" class=\"node\">\n",
       "<title>2019090638640</title>\n",
       "<polygon fill=\"lightgrey\" stroke=\"black\" points=\"343,-256.5 242,-256.5 242,-237.5 343,-237.5 343,-256.5\"/>\n",
       "<text text-anchor=\"middle\" x=\"292.5\" y=\"-244.5\" font-family=\"monospace\" font-size=\"10.00\">AccumulateGrad</text>\n",
       "</g>\n",
       "<!-- 2019090638640&#45;&gt;2019090639168 -->\n",
       "<g id=\"edge12\" class=\"edge\">\n",
       "<title>2019090638640&#45;&gt;2019090639168</title>\n",
       "<path fill=\"none\" stroke=\"black\" d=\"M292.06,-237.37C291.64,-229.25 291,-216.81 290.47,-206.39\"/>\n",
       "<polygon fill=\"black\" stroke=\"black\" points=\"293.95,-205.97 289.94,-196.17 286.96,-206.33 293.95,-205.97\"/>\n",
       "</g>\n",
       "<!-- 2019779223200 -->\n",
       "<g id=\"node15\" class=\"node\">\n",
       "<title>2019779223200</title>\n",
       "<polygon fill=\"lightblue\" stroke=\"black\" points=\"346,-328 239,-328 239,-298 346,-298 346,-328\"/>\n",
       "<text text-anchor=\"middle\" x=\"292.5\" y=\"-316\" font-family=\"monospace\" font-size=\"10.00\">layer2.0.weight</text>\n",
       "<text text-anchor=\"middle\" x=\"292.5\" y=\"-305\" font-family=\"monospace\" font-size=\"10.00\"> (1, 2)</text>\n",
       "</g>\n",
       "<!-- 2019779223200&#45;&gt;2019090638640 -->\n",
       "<g id=\"edge13\" class=\"edge\">\n",
       "<title>2019779223200&#45;&gt;2019090638640</title>\n",
       "<path fill=\"none\" stroke=\"black\" d=\"M292.5,-297.8C292.5,-288.7 292.5,-276.79 292.5,-266.9\"/>\n",
       "<polygon fill=\"black\" stroke=\"black\" points=\"296,-266.84 292.5,-256.84 289,-266.84 296,-266.84\"/>\n",
       "</g>\n",
       "</g>\n",
       "</svg>\n"
      ],
      "text/plain": [
       "<graphviz.graphs.Digraph at 0x1d61b2e2580>"
      ]
     },
     "execution_count": 8,
     "metadata": {},
     "output_type": "execute_result"
    }
   ],
   "source": [
    "from torchviz import make_dot\n",
    "x = torch.zeros(1,2).to(device)\n",
    "make_dot(model(x), params = dict(list(model.named_parameters())))"
   ]
  },
  {
   "cell_type": "code",
   "execution_count": 9,
   "id": "cf830c43-1abd-4845-b18c-37447429458e",
   "metadata": {},
   "outputs": [
    {
     "name": "stdout",
     "output_type": "stream",
     "text": [
      "Graphviz 작동 확인이 완료되었습니다. 이미지 파일이 생성되었습니다.\n"
     ]
    }
   ],
   "source": [
    "import graphviz\n",
    "\n",
    "# 간단한 그래프 생성\n",
    "dot = graphviz.Digraph(comment='The Test Graph')\n",
    "dot.node('A', 'Node A')\n",
    "dot.node('B', 'Node B')\n",
    "dot.edge('A', 'B', 'Edge A->B')\n",
    "\n",
    "# 그래프를 이미지 파일로 저장 (예: PNG)\n",
    "dot.render('test-graph', format='png', cleanup=True)\n",
    "\n",
    "print(\"Graphviz 작동 확인이 완료되었습니다. 이미지 파일이 생성되었습니다.\")"
   ]
  },
  {
   "cell_type": "markdown",
   "id": "08d49909-499a-4301-9bb8-f75f0b2dc05e",
   "metadata": {},
   "source": [
    "# END(2023-12-22)"
   ]
  }
 ],
 "metadata": {
  "kernelspec": {
   "display_name": "DS_kernel",
   "language": "python",
   "name": "ds_env"
  },
  "language_info": {
   "codemirror_mode": {
    "name": "ipython",
    "version": 3
   },
   "file_extension": ".py",
   "mimetype": "text/x-python",
   "name": "python",
   "nbconvert_exporter": "python",
   "pygments_lexer": "ipython3",
   "version": "3.9.18"
  }
 },
 "nbformat": 4,
 "nbformat_minor": 5
}
